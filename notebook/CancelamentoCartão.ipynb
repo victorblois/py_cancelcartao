{
 "cells": [
  {
   "cell_type": "code",
   "execution_count": 1,
   "metadata": {},
   "outputs": [],
   "source": [
    "import pandas as pd\n",
    "import numpy as np\n",
    "import matplotlib.pyplot as plt\n",
    "import seaborn as sns\n",
    "import matplotlib\n",
    "matplotlib.use('TkAgg')\n",
    "%matplotlib inline\n",
    "import warnings\n",
    "warnings.filterwarnings('ignore')"
   ]
  },
  {
   "cell_type": "code",
   "execution_count": 2,
   "metadata": {},
   "outputs": [],
   "source": [
    "pd.set_option('precision',4)\n",
    "pd.set_option('display.float_format', lambda x: '%.3f' % x)\n",
    "pd.set_option('display.max_rows', 500)\n",
    "pd.set_option('display.max_columns', 500)\n",
    "pd.set_option('display.width', 1000)"
   ]
  },
  {
   "cell_type": "markdown",
   "metadata": {},
   "source": [
    "# Importar Bases"
   ]
  },
  {
   "cell_type": "code",
   "execution_count": 3,
   "metadata": {},
   "outputs": [],
   "source": [
    "import os.path\n",
    "def path_base(base_name):\n",
    "    current_dir = os.path.abspath(os.path.join(os.getcwd()))\n",
    "    print(current_dir)\n",
    "    data_dir = current_dir.replace('notebook','data')\n",
    "    print(data_dir)\n",
    "    data_base = data_dir + '\\\\' + base_name\n",
    "    print(data_base)\n",
    "    return data_base"
   ]
  },
  {
   "cell_type": "code",
   "execution_count": 4,
   "metadata": {},
   "outputs": [
    {
     "name": "stdout",
     "output_type": "stream",
     "text": [
      "C:\\MyGit\\py_cancelcartao\\notebook\n",
      "C:\\MyGit\\py_cancelcartao\\data\n",
      "C:\\MyGit\\py_cancelcartao\\data\\db_CartaoCredito_cancelamento.csv\n",
      "C:\\MyGit\\py_cancelcartao\\notebook\n",
      "C:\\MyGit\\py_cancelcartao\\data\n",
      "C:\\MyGit\\py_cancelcartao\\data\\db_CartaoCredito_semtarget.csv\n"
     ]
    }
   ],
   "source": [
    "base_cancel = pd.read_csv(path_base('db_CartaoCredito_cancelamento.csv'))\n",
    "base_st = pd.read_csv(path_base('db_CartaoCredito_semtarget.csv'))"
   ]
  },
  {
   "cell_type": "code",
   "execution_count": 5,
   "metadata": {},
   "outputs": [
    {
     "data": {
      "text/html": [
       "<div>\n",
       "<style scoped>\n",
       "    .dataframe tbody tr th:only-of-type {\n",
       "        vertical-align: middle;\n",
       "    }\n",
       "\n",
       "    .dataframe tbody tr th {\n",
       "        vertical-align: top;\n",
       "    }\n",
       "\n",
       "    .dataframe thead th {\n",
       "        text-align: right;\n",
       "    }\n",
       "</style>\n",
       "<table border=\"1\" class=\"dataframe\">\n",
       "  <thead>\n",
       "    <tr style=\"text-align: right;\">\n",
       "      <th></th>\n",
       "      <th>ID</th>\n",
       "      <th>PerfilEconomico</th>\n",
       "      <th>Sexo</th>\n",
       "      <th>Idade</th>\n",
       "      <th>PerfilCompra</th>\n",
       "      <th>ValorCompraAnual</th>\n",
       "      <th>GastoMax</th>\n",
       "      <th>GastoMedio</th>\n",
       "      <th>UF</th>\n",
       "      <th>CidadeResidencia</th>\n",
       "      <th>RegiaodoPais</th>\n",
       "      <th>NumeroComprasOnline</th>\n",
       "      <th>MesesDesempregado</th>\n",
       "      <th>Anuidade</th>\n",
       "    </tr>\n",
       "  </thead>\n",
       "  <tbody>\n",
       "    <tr>\n",
       "      <th>0</th>\n",
       "      <td>180</td>\n",
       "      <td>2</td>\n",
       "      <td>mulher</td>\n",
       "      <td>24</td>\n",
       "      <td>2</td>\n",
       "      <td>1875</td>\n",
       "      <td>133.929</td>\n",
       "      <td>156.250</td>\n",
       "      <td>MA</td>\n",
       "      <td>Centro Novo do Maranhão</td>\n",
       "      <td>Região Nordeste</td>\n",
       "      <td>13.021</td>\n",
       "      <td>2</td>\n",
       "      <td>251,1938708281</td>\n",
       "    </tr>\n",
       "    <tr>\n",
       "      <th>1</th>\n",
       "      <td>119</td>\n",
       "      <td>3</td>\n",
       "      <td>mulher</td>\n",
       "      <td>22</td>\n",
       "      <td>0</td>\n",
       "      <td>725</td>\n",
       "      <td>51.786</td>\n",
       "      <td>60.417</td>\n",
       "      <td>PI</td>\n",
       "      <td>Amarante</td>\n",
       "      <td>Região Nordeste</td>\n",
       "      <td>5.492</td>\n",
       "      <td>13</td>\n",
       "      <td>233,5439410115</td>\n",
       "    </tr>\n",
       "    <tr>\n",
       "      <th>2</th>\n",
       "      <td>274</td>\n",
       "      <td>3</td>\n",
       "      <td>homem</td>\n",
       "      <td>22</td>\n",
       "      <td>0</td>\n",
       "      <td>72292</td>\n",
       "      <td>5163.714</td>\n",
       "      <td>6024.333</td>\n",
       "      <td>MT</td>\n",
       "      <td>Santo Antônio do Leverger</td>\n",
       "      <td>Região Centro-Oeste</td>\n",
       "      <td>547.667</td>\n",
       "      <td>2</td>\n",
       "      <td>275,4369442974</td>\n",
       "    </tr>\n",
       "  </tbody>\n",
       "</table>\n",
       "</div>"
      ],
      "text/plain": [
       "    ID  PerfilEconomico    Sexo  Idade  PerfilCompra  ValorCompraAnual  GastoMax  GastoMedio  UF           CidadeResidencia         RegiaodoPais  NumeroComprasOnline  MesesDesempregado        Anuidade\n",
       "0  180                2  mulher     24             2              1875   133.929     156.250  MA    Centro Novo do Maranhão      Região Nordeste               13.021                  2  251,1938708281\n",
       "1  119                3  mulher     22             0               725    51.786      60.417  PI                   Amarante      Região Nordeste                5.492                 13  233,5439410115\n",
       "2  274                3   homem     22             0             72292  5163.714    6024.333  MT  Santo Antônio do Leverger  Região Centro-Oeste              547.667                  2  275,4369442974"
      ]
     },
     "execution_count": 5,
     "metadata": {},
     "output_type": "execute_result"
    }
   ],
   "source": [
    "base_cancel.head(3)"
   ]
  },
  {
   "cell_type": "code",
   "execution_count": 32,
   "metadata": {},
   "outputs": [
    {
     "data": {
      "text/html": [
       "<div>\n",
       "<style scoped>\n",
       "    .dataframe tbody tr th:only-of-type {\n",
       "        vertical-align: middle;\n",
       "    }\n",
       "\n",
       "    .dataframe tbody tr th {\n",
       "        vertical-align: top;\n",
       "    }\n",
       "\n",
       "    .dataframe thead th {\n",
       "        text-align: right;\n",
       "    }\n",
       "</style>\n",
       "<table border=\"1\" class=\"dataframe\">\n",
       "  <thead>\n",
       "    <tr style=\"text-align: right;\">\n",
       "      <th></th>\n",
       "      <th>ID</th>\n",
       "      <th>PerfilEconomico</th>\n",
       "      <th>Sexo</th>\n",
       "      <th>Idade</th>\n",
       "      <th>PerfilCompra</th>\n",
       "      <th>ValorCompraAnual</th>\n",
       "      <th>GastoMax</th>\n",
       "      <th>GastoMedio</th>\n",
       "      <th>UF</th>\n",
       "      <th>CidadeResidencia</th>\n",
       "      <th>RegiaodoPais</th>\n",
       "      <th>NumeroComprasOnline</th>\n",
       "      <th>MesesDesempregado</th>\n",
       "      <th>Anuidade</th>\n",
       "    </tr>\n",
       "  </thead>\n",
       "  <tbody>\n",
       "    <tr>\n",
       "      <th>0</th>\n",
       "      <td>1</td>\n",
       "      <td>3</td>\n",
       "      <td>homem</td>\n",
       "      <td>22</td>\n",
       "      <td>1</td>\n",
       "      <td>7250.000</td>\n",
       "      <td>517.857</td>\n",
       "      <td>604.167</td>\n",
       "      <td>MG</td>\n",
       "      <td>Morada Nova de Minas</td>\n",
       "      <td>Região Sudeste</td>\n",
       "      <td>54.924</td>\n",
       "      <td>5</td>\n",
       "      <td>62,9304011407</td>\n",
       "    </tr>\n",
       "    <tr>\n",
       "      <th>1</th>\n",
       "      <td>2</td>\n",
       "      <td>1</td>\n",
       "      <td>mulher</td>\n",
       "      <td>38</td>\n",
       "      <td>1</td>\n",
       "      <td>71283.000</td>\n",
       "      <td>5091.643</td>\n",
       "      <td>5940.250</td>\n",
       "      <td>RN</td>\n",
       "      <td>Marcelino Vieira</td>\n",
       "      <td>Região Nordeste</td>\n",
       "      <td>312.645</td>\n",
       "      <td>7</td>\n",
       "      <td>37,9153459043</td>\n",
       "    </tr>\n",
       "    <tr>\n",
       "      <th>2</th>\n",
       "      <td>3</td>\n",
       "      <td>3</td>\n",
       "      <td>mulher</td>\n",
       "      <td>26</td>\n",
       "      <td>0</td>\n",
       "      <td>7925.000</td>\n",
       "      <td>566.071</td>\n",
       "      <td>660.417</td>\n",
       "      <td>PR</td>\n",
       "      <td>Agudos do Sul</td>\n",
       "      <td>Região Sul</td>\n",
       "      <td>50.801</td>\n",
       "      <td>6</td>\n",
       "      <td>60,9993188527</td>\n",
       "    </tr>\n",
       "  </tbody>\n",
       "</table>\n",
       "</div>"
      ],
      "text/plain": [
       "   ID  PerfilEconomico    Sexo  Idade  PerfilCompra  ValorCompraAnual  GastoMax  GastoMedio  UF      CidadeResidencia     RegiaodoPais  NumeroComprasOnline  MesesDesempregado       Anuidade\n",
       "0   1                3   homem     22             1          7250.000   517.857     604.167  MG  Morada Nova de Minas   Região Sudeste               54.924                  5  62,9304011407\n",
       "1   2                1  mulher     38             1         71283.000  5091.643    5940.250  RN      Marcelino Vieira  Região Nordeste              312.645                  7  37,9153459043\n",
       "2   3                3  mulher     26             0          7925.000   566.071     660.417  PR         Agudos do Sul       Região Sul               50.801                  6  60,9993188527"
      ]
     },
     "execution_count": 32,
     "metadata": {},
     "output_type": "execute_result"
    }
   ],
   "source": [
    "base_st.head(3)"
   ]
  },
  {
   "cell_type": "markdown",
   "metadata": {},
   "source": [
    "# Gerar apenas uma base única com as duas\n",
    "### Tirar coluna Id e acrescentar coluna target"
   ]
  },
  {
   "cell_type": "code",
   "execution_count": 33,
   "metadata": {},
   "outputs": [],
   "source": [
    "# Colocar variavel target nas base\n",
    "base_cancel['Target'] =  pd.Series(1, index=base_cancel.index)\n",
    "base_st['Target'] =  pd.Series(0, index=base_st.index)"
   ]
  },
  {
   "cell_type": "code",
   "execution_count": 34,
   "metadata": {},
   "outputs": [
    {
     "name": "stdout",
     "output_type": "stream",
     "text": [
      "(300, 15)\n"
     ]
    },
    {
     "data": {
      "text/html": [
       "<div>\n",
       "<style scoped>\n",
       "    .dataframe tbody tr th:only-of-type {\n",
       "        vertical-align: middle;\n",
       "    }\n",
       "\n",
       "    .dataframe tbody tr th {\n",
       "        vertical-align: top;\n",
       "    }\n",
       "\n",
       "    .dataframe thead th {\n",
       "        text-align: right;\n",
       "    }\n",
       "</style>\n",
       "<table border=\"1\" class=\"dataframe\">\n",
       "  <thead>\n",
       "    <tr style=\"text-align: right;\">\n",
       "      <th></th>\n",
       "      <th>ID</th>\n",
       "      <th>PerfilEconomico</th>\n",
       "      <th>Sexo</th>\n",
       "      <th>Idade</th>\n",
       "      <th>PerfilCompra</th>\n",
       "      <th>ValorCompraAnual</th>\n",
       "      <th>GastoMax</th>\n",
       "      <th>GastoMedio</th>\n",
       "      <th>UF</th>\n",
       "      <th>CidadeResidencia</th>\n",
       "      <th>RegiaodoPais</th>\n",
       "      <th>NumeroComprasOnline</th>\n",
       "      <th>MesesDesempregado</th>\n",
       "      <th>Anuidade</th>\n",
       "      <th>Target</th>\n",
       "    </tr>\n",
       "  </thead>\n",
       "  <tbody>\n",
       "    <tr>\n",
       "      <th>0</th>\n",
       "      <td>180</td>\n",
       "      <td>2</td>\n",
       "      <td>mulher</td>\n",
       "      <td>24</td>\n",
       "      <td>2</td>\n",
       "      <td>1875</td>\n",
       "      <td>133.929</td>\n",
       "      <td>156.250</td>\n",
       "      <td>MA</td>\n",
       "      <td>Centro Novo do Maranhão</td>\n",
       "      <td>Região Nordeste</td>\n",
       "      <td>13.021</td>\n",
       "      <td>2</td>\n",
       "      <td>251,1938708281</td>\n",
       "      <td>1</td>\n",
       "    </tr>\n",
       "    <tr>\n",
       "      <th>1</th>\n",
       "      <td>119</td>\n",
       "      <td>3</td>\n",
       "      <td>mulher</td>\n",
       "      <td>22</td>\n",
       "      <td>0</td>\n",
       "      <td>725</td>\n",
       "      <td>51.786</td>\n",
       "      <td>60.417</td>\n",
       "      <td>PI</td>\n",
       "      <td>Amarante</td>\n",
       "      <td>Região Nordeste</td>\n",
       "      <td>5.492</td>\n",
       "      <td>13</td>\n",
       "      <td>233,5439410115</td>\n",
       "      <td>1</td>\n",
       "    </tr>\n",
       "    <tr>\n",
       "      <th>2</th>\n",
       "      <td>274</td>\n",
       "      <td>3</td>\n",
       "      <td>homem</td>\n",
       "      <td>22</td>\n",
       "      <td>0</td>\n",
       "      <td>72292</td>\n",
       "      <td>5163.714</td>\n",
       "      <td>6024.333</td>\n",
       "      <td>MT</td>\n",
       "      <td>Santo Antônio do Leverger</td>\n",
       "      <td>Região Centro-Oeste</td>\n",
       "      <td>547.667</td>\n",
       "      <td>2</td>\n",
       "      <td>275,4369442974</td>\n",
       "      <td>1</td>\n",
       "    </tr>\n",
       "  </tbody>\n",
       "</table>\n",
       "</div>"
      ],
      "text/plain": [
       "    ID  PerfilEconomico    Sexo  Idade  PerfilCompra  ValorCompraAnual  GastoMax  GastoMedio  UF           CidadeResidencia         RegiaodoPais  NumeroComprasOnline  MesesDesempregado        Anuidade  Target\n",
       "0  180                2  mulher     24             2              1875   133.929     156.250  MA    Centro Novo do Maranhão      Região Nordeste               13.021                  2  251,1938708281       1\n",
       "1  119                3  mulher     22             0               725    51.786      60.417  PI                   Amarante      Região Nordeste                5.492                 13  233,5439410115       1\n",
       "2  274                3   homem     22             0             72292  5163.714    6024.333  MT  Santo Antônio do Leverger  Região Centro-Oeste              547.667                  2  275,4369442974       1"
      ]
     },
     "execution_count": 34,
     "metadata": {},
     "output_type": "execute_result"
    }
   ],
   "source": [
    "print(base_cancel.shape)\n",
    "base_cancel.head(3)"
   ]
  },
  {
   "cell_type": "code",
   "execution_count": 35,
   "metadata": {},
   "outputs": [
    {
     "name": "stdout",
     "output_type": "stream",
     "text": [
      "(891, 15)\n"
     ]
    },
    {
     "data": {
      "text/html": [
       "<div>\n",
       "<style scoped>\n",
       "    .dataframe tbody tr th:only-of-type {\n",
       "        vertical-align: middle;\n",
       "    }\n",
       "\n",
       "    .dataframe tbody tr th {\n",
       "        vertical-align: top;\n",
       "    }\n",
       "\n",
       "    .dataframe thead th {\n",
       "        text-align: right;\n",
       "    }\n",
       "</style>\n",
       "<table border=\"1\" class=\"dataframe\">\n",
       "  <thead>\n",
       "    <tr style=\"text-align: right;\">\n",
       "      <th></th>\n",
       "      <th>ID</th>\n",
       "      <th>PerfilEconomico</th>\n",
       "      <th>Sexo</th>\n",
       "      <th>Idade</th>\n",
       "      <th>PerfilCompra</th>\n",
       "      <th>ValorCompraAnual</th>\n",
       "      <th>GastoMax</th>\n",
       "      <th>GastoMedio</th>\n",
       "      <th>UF</th>\n",
       "      <th>CidadeResidencia</th>\n",
       "      <th>RegiaodoPais</th>\n",
       "      <th>NumeroComprasOnline</th>\n",
       "      <th>MesesDesempregado</th>\n",
       "      <th>Anuidade</th>\n",
       "      <th>Target</th>\n",
       "    </tr>\n",
       "  </thead>\n",
       "  <tbody>\n",
       "    <tr>\n",
       "      <th>0</th>\n",
       "      <td>1</td>\n",
       "      <td>3</td>\n",
       "      <td>homem</td>\n",
       "      <td>22</td>\n",
       "      <td>1</td>\n",
       "      <td>7250.000</td>\n",
       "      <td>517.857</td>\n",
       "      <td>604.167</td>\n",
       "      <td>MG</td>\n",
       "      <td>Morada Nova de Minas</td>\n",
       "      <td>Região Sudeste</td>\n",
       "      <td>54.924</td>\n",
       "      <td>5</td>\n",
       "      <td>62,9304011407</td>\n",
       "      <td>0</td>\n",
       "    </tr>\n",
       "    <tr>\n",
       "      <th>1</th>\n",
       "      <td>2</td>\n",
       "      <td>1</td>\n",
       "      <td>mulher</td>\n",
       "      <td>38</td>\n",
       "      <td>1</td>\n",
       "      <td>71283.000</td>\n",
       "      <td>5091.643</td>\n",
       "      <td>5940.250</td>\n",
       "      <td>RN</td>\n",
       "      <td>Marcelino Vieira</td>\n",
       "      <td>Região Nordeste</td>\n",
       "      <td>312.645</td>\n",
       "      <td>7</td>\n",
       "      <td>37,9153459043</td>\n",
       "      <td>0</td>\n",
       "    </tr>\n",
       "    <tr>\n",
       "      <th>2</th>\n",
       "      <td>3</td>\n",
       "      <td>3</td>\n",
       "      <td>mulher</td>\n",
       "      <td>26</td>\n",
       "      <td>0</td>\n",
       "      <td>7925.000</td>\n",
       "      <td>566.071</td>\n",
       "      <td>660.417</td>\n",
       "      <td>PR</td>\n",
       "      <td>Agudos do Sul</td>\n",
       "      <td>Região Sul</td>\n",
       "      <td>50.801</td>\n",
       "      <td>6</td>\n",
       "      <td>60,9993188527</td>\n",
       "      <td>0</td>\n",
       "    </tr>\n",
       "  </tbody>\n",
       "</table>\n",
       "</div>"
      ],
      "text/plain": [
       "   ID  PerfilEconomico    Sexo  Idade  PerfilCompra  ValorCompraAnual  GastoMax  GastoMedio  UF      CidadeResidencia     RegiaodoPais  NumeroComprasOnline  MesesDesempregado       Anuidade  Target\n",
       "0   1                3   homem     22             1          7250.000   517.857     604.167  MG  Morada Nova de Minas   Região Sudeste               54.924                  5  62,9304011407       0\n",
       "1   2                1  mulher     38             1         71283.000  5091.643    5940.250  RN      Marcelino Vieira  Região Nordeste              312.645                  7  37,9153459043       0\n",
       "2   3                3  mulher     26             0          7925.000   566.071     660.417  PR         Agudos do Sul       Região Sul               50.801                  6  60,9993188527       0"
      ]
     },
     "execution_count": 35,
     "metadata": {},
     "output_type": "execute_result"
    }
   ],
   "source": [
    "print(base_st.shape)\n",
    "base_st.head(3)"
   ]
  },
  {
   "cell_type": "code",
   "execution_count": 36,
   "metadata": {},
   "outputs": [
    {
     "name": "stdout",
     "output_type": "stream",
     "text": [
      "(1191, 15)\n"
     ]
    }
   ],
   "source": [
    "# Empilhar bases\n",
    "dados = pd.concat([base_cancel, base_st], axis=0)\n",
    "print(dados.shape)"
   ]
  },
  {
   "cell_type": "code",
   "execution_count": 37,
   "metadata": {},
   "outputs": [],
   "source": [
    "# Selecionar colunas\n",
    "base_columns = ['PerfilEconomico', 'Sexo', 'Idade', 'PerfilCompra',\n",
    "       'ValorCompraAnual', 'GastoMax', 'GastoMedio', 'UF', 'CidadeResidencia',\n",
    "       'RegiaodoPais', 'NumeroComprasOnline', 'MesesDesempregado', 'Anuidade',\n",
    "       'Target']"
   ]
  },
  {
   "cell_type": "code",
   "execution_count": 38,
   "metadata": {},
   "outputs": [],
   "source": [
    "dados = dados[base_columns]\n"
   ]
  },
  {
   "cell_type": "code",
   "execution_count": 39,
   "metadata": {},
   "outputs": [
    {
     "data": {
      "text/html": [
       "<div>\n",
       "<style scoped>\n",
       "    .dataframe tbody tr th:only-of-type {\n",
       "        vertical-align: middle;\n",
       "    }\n",
       "\n",
       "    .dataframe tbody tr th {\n",
       "        vertical-align: top;\n",
       "    }\n",
       "\n",
       "    .dataframe thead th {\n",
       "        text-align: right;\n",
       "    }\n",
       "</style>\n",
       "<table border=\"1\" class=\"dataframe\">\n",
       "  <thead>\n",
       "    <tr style=\"text-align: right;\">\n",
       "      <th></th>\n",
       "      <th>PerfilEconomico</th>\n",
       "      <th>Sexo</th>\n",
       "      <th>Idade</th>\n",
       "      <th>PerfilCompra</th>\n",
       "      <th>ValorCompraAnual</th>\n",
       "      <th>GastoMax</th>\n",
       "      <th>GastoMedio</th>\n",
       "      <th>UF</th>\n",
       "      <th>CidadeResidencia</th>\n",
       "      <th>RegiaodoPais</th>\n",
       "      <th>NumeroComprasOnline</th>\n",
       "      <th>MesesDesempregado</th>\n",
       "      <th>Anuidade</th>\n",
       "      <th>Target</th>\n",
       "    </tr>\n",
       "  </thead>\n",
       "  <tbody>\n",
       "    <tr>\n",
       "      <th>0</th>\n",
       "      <td>2</td>\n",
       "      <td>mulher</td>\n",
       "      <td>24</td>\n",
       "      <td>2</td>\n",
       "      <td>1875.000</td>\n",
       "      <td>133.929</td>\n",
       "      <td>156.250</td>\n",
       "      <td>MA</td>\n",
       "      <td>Centro Novo do Maranhão</td>\n",
       "      <td>Região Nordeste</td>\n",
       "      <td>13.021</td>\n",
       "      <td>2</td>\n",
       "      <td>251,1938708281</td>\n",
       "      <td>1</td>\n",
       "    </tr>\n",
       "    <tr>\n",
       "      <th>1</th>\n",
       "      <td>3</td>\n",
       "      <td>mulher</td>\n",
       "      <td>22</td>\n",
       "      <td>0</td>\n",
       "      <td>725.000</td>\n",
       "      <td>51.786</td>\n",
       "      <td>60.417</td>\n",
       "      <td>PI</td>\n",
       "      <td>Amarante</td>\n",
       "      <td>Região Nordeste</td>\n",
       "      <td>5.492</td>\n",
       "      <td>13</td>\n",
       "      <td>233,5439410115</td>\n",
       "      <td>1</td>\n",
       "    </tr>\n",
       "    <tr>\n",
       "      <th>2</th>\n",
       "      <td>3</td>\n",
       "      <td>homem</td>\n",
       "      <td>22</td>\n",
       "      <td>0</td>\n",
       "      <td>72292.000</td>\n",
       "      <td>5163.714</td>\n",
       "      <td>6024.333</td>\n",
       "      <td>MT</td>\n",
       "      <td>Santo Antônio do Leverger</td>\n",
       "      <td>Região Centro-Oeste</td>\n",
       "      <td>547.667</td>\n",
       "      <td>2</td>\n",
       "      <td>275,4369442974</td>\n",
       "      <td>1</td>\n",
       "    </tr>\n",
       "  </tbody>\n",
       "</table>\n",
       "</div>"
      ],
      "text/plain": [
       "   PerfilEconomico    Sexo  Idade  PerfilCompra  ValorCompraAnual  GastoMax  GastoMedio  UF           CidadeResidencia         RegiaodoPais  NumeroComprasOnline  MesesDesempregado        Anuidade  Target\n",
       "0                2  mulher     24             2          1875.000   133.929     156.250  MA    Centro Novo do Maranhão      Região Nordeste               13.021                  2  251,1938708281       1\n",
       "1                3  mulher     22             0           725.000    51.786      60.417  PI                   Amarante      Região Nordeste                5.492                 13  233,5439410115       1\n",
       "2                3   homem     22             0         72292.000  5163.714    6024.333  MT  Santo Antônio do Leverger  Região Centro-Oeste              547.667                  2  275,4369442974       1"
      ]
     },
     "execution_count": 39,
     "metadata": {},
     "output_type": "execute_result"
    }
   ],
   "source": [
    "dados.head(3)"
   ]
  },
  {
   "cell_type": "code",
   "execution_count": 40,
   "metadata": {},
   "outputs": [
    {
     "data": {
      "text/plain": [
       "PerfilEconomico          int64\n",
       "Sexo                    object\n",
       "Idade                    int64\n",
       "PerfilCompra             int64\n",
       "ValorCompraAnual       float64\n",
       "GastoMax               float64\n",
       "GastoMedio             float64\n",
       "UF                      object\n",
       "CidadeResidencia        object\n",
       "RegiaodoPais            object\n",
       "NumeroComprasOnline    float64\n",
       "MesesDesempregado        int64\n",
       "Anuidade                object\n",
       "Target                   int64\n",
       "dtype: object"
      ]
     },
     "execution_count": 40,
     "metadata": {},
     "output_type": "execute_result"
    }
   ],
   "source": [
    "dados.dtypes"
   ]
  },
  {
   "cell_type": "code",
   "execution_count": 41,
   "metadata": {},
   "outputs": [],
   "source": [
    "# Converter anuidade para float\n",
    "dados.Anuidade = dados.Anuidade.str.replace(',', '.').astype(float)"
   ]
  },
  {
   "cell_type": "code",
   "execution_count": 42,
   "metadata": {},
   "outputs": [
    {
     "data": {
      "text/plain": [
       "PerfilEconomico           3\n",
       "Sexo                      2\n",
       "Idade                    65\n",
       "PerfilCompra              7\n",
       "ValorCompraAnual        260\n",
       "GastoMax                261\n",
       "GastoMedio              261\n",
       "UF                       26\n",
       "CidadeResidencia        851\n",
       "RegiaodoPais              5\n",
       "NumeroComprasOnline     704\n",
       "MesesDesempregado        15\n",
       "Anuidade               1191\n",
       "Target                    2\n",
       "dtype: int64"
      ]
     },
     "execution_count": 42,
     "metadata": {},
     "output_type": "execute_result"
    }
   ],
   "source": [
    "dados.nunique()"
   ]
  },
  {
   "cell_type": "markdown",
   "metadata": {},
   "source": [
    "# Analise exploratória de variáveis"
   ]
  },
  {
   "cell_type": "markdown",
   "metadata": {},
   "source": [
    "# Verificar se tem nulas"
   ]
  },
  {
   "cell_type": "code",
   "execution_count": 43,
   "metadata": {},
   "outputs": [
    {
     "data": {
      "text/plain": [
       "PerfilEconomico         0\n",
       "Sexo                    0\n",
       "Idade                   0\n",
       "PerfilCompra            0\n",
       "ValorCompraAnual       28\n",
       "GastoMax                0\n",
       "GastoMedio              0\n",
       "UF                      0\n",
       "CidadeResidencia        0\n",
       "RegiaodoPais            0\n",
       "NumeroComprasOnline     0\n",
       "MesesDesempregado       0\n",
       "Anuidade                0\n",
       "Target                  0\n",
       "dtype: int64"
      ]
     },
     "execution_count": 43,
     "metadata": {},
     "output_type": "execute_result"
    }
   ],
   "source": [
    "dados.isnull().sum()"
   ]
  },
  {
   "cell_type": "code",
   "execution_count": 44,
   "metadata": {},
   "outputs": [
    {
     "data": {
      "text/plain": [
       "PerfilEconomico        0\n",
       "Sexo                   0\n",
       "Idade                  0\n",
       "PerfilCompra           0\n",
       "ValorCompraAnual       0\n",
       "GastoMax               0\n",
       "GastoMedio             0\n",
       "UF                     0\n",
       "CidadeResidencia       0\n",
       "RegiaodoPais           0\n",
       "NumeroComprasOnline    0\n",
       "MesesDesempregado      0\n",
       "Anuidade               0\n",
       "Target                 0\n",
       "dtype: int64"
      ]
     },
     "execution_count": 44,
     "metadata": {},
     "output_type": "execute_result"
    }
   ],
   "source": [
    "# Substituir Null com médias\n",
    "dados.ValorCompraAnual = dados.ValorCompraAnual.fillna(dados.ValorCompraAnual.mean())\n",
    "dados.isnull().sum()"
   ]
  },
  {
   "cell_type": "markdown",
   "metadata": {},
   "source": [
    "### Numéricas"
   ]
  },
  {
   "cell_type": "code",
   "execution_count": 45,
   "metadata": {},
   "outputs": [],
   "source": [
    "# Exploratoria numericas"
   ]
  },
  {
   "cell_type": "code",
   "execution_count": 46,
   "metadata": {},
   "outputs": [],
   "source": [
    "base_numericas = ['Idade', 'ValorCompraAnual','GastoMax', 'GastoMedio', \n",
    "                  'NumeroComprasOnline', 'MesesDesempregado','Anuidade']"
   ]
  },
  {
   "cell_type": "code",
   "execution_count": 47,
   "metadata": {
    "scrolled": true
   },
   "outputs": [
    {
     "data": {
      "text/html": [
       "<div>\n",
       "<style scoped>\n",
       "    .dataframe tbody tr th:only-of-type {\n",
       "        vertical-align: middle;\n",
       "    }\n",
       "\n",
       "    .dataframe tbody tr th {\n",
       "        vertical-align: top;\n",
       "    }\n",
       "\n",
       "    .dataframe thead th {\n",
       "        text-align: right;\n",
       "    }\n",
       "</style>\n",
       "<table border=\"1\" class=\"dataframe\">\n",
       "  <thead>\n",
       "    <tr style=\"text-align: right;\">\n",
       "      <th></th>\n",
       "      <th>Idade</th>\n",
       "      <th>ValorCompraAnual</th>\n",
       "      <th>GastoMax</th>\n",
       "      <th>GastoMedio</th>\n",
       "      <th>NumeroComprasOnline</th>\n",
       "      <th>MesesDesempregado</th>\n",
       "      <th>Anuidade</th>\n",
       "    </tr>\n",
       "  </thead>\n",
       "  <tbody>\n",
       "    <tr>\n",
       "      <th>count</th>\n",
       "      <td>1191.000</td>\n",
       "      <td>1191.000</td>\n",
       "      <td>1191.000</td>\n",
       "      <td>1191.000</td>\n",
       "      <td>1191.000</td>\n",
       "      <td>1191.000</td>\n",
       "      <td>1191.000</td>\n",
       "    </tr>\n",
       "    <tr>\n",
       "      <th>mean</th>\n",
       "      <td>30.274</td>\n",
       "      <td>108034.128</td>\n",
       "      <td>7834.605</td>\n",
       "      <td>9140.372</td>\n",
       "      <td>66806.383</td>\n",
       "      <td>5.095</td>\n",
       "      <td>83.569</td>\n",
       "    </tr>\n",
       "    <tr>\n",
       "      <th>std</th>\n",
       "      <td>12.360</td>\n",
       "      <td>362453.581</td>\n",
       "      <td>26481.770</td>\n",
       "      <td>30895.399</td>\n",
       "      <td>1404381.475</td>\n",
       "      <td>3.485</td>\n",
       "      <td>69.069</td>\n",
       "    </tr>\n",
       "    <tr>\n",
       "      <th>min</th>\n",
       "      <td>10.000</td>\n",
       "      <td>0.000</td>\n",
       "      <td>0.000</td>\n",
       "      <td>0.000</td>\n",
       "      <td>0.000</td>\n",
       "      <td>0.000</td>\n",
       "      <td>0.006</td>\n",
       "    </tr>\n",
       "    <tr>\n",
       "      <th>25%</th>\n",
       "      <td>22.000</td>\n",
       "      <td>195.000</td>\n",
       "      <td>11.714</td>\n",
       "      <td>13.667</td>\n",
       "      <td>1.160</td>\n",
       "      <td>2.000</td>\n",
       "      <td>33.551</td>\n",
       "    </tr>\n",
       "    <tr>\n",
       "      <th>50%</th>\n",
       "      <td>26.000</td>\n",
       "      <td>2655.000</td>\n",
       "      <td>187.500</td>\n",
       "      <td>218.750</td>\n",
       "      <td>13.214</td>\n",
       "      <td>5.000</td>\n",
       "      <td>69.101</td>\n",
       "    </tr>\n",
       "    <tr>\n",
       "      <th>75%</th>\n",
       "      <td>36.000</td>\n",
       "      <td>78958.000</td>\n",
       "      <td>5610.143</td>\n",
       "      <td>6545.167</td>\n",
       "      <td>559.974</td>\n",
       "      <td>8.000</td>\n",
       "      <td>107.133</td>\n",
       "    </tr>\n",
       "    <tr>\n",
       "      <th>max</th>\n",
       "      <td>92.000</td>\n",
       "      <td>5123292.000</td>\n",
       "      <td>365949.429</td>\n",
       "      <td>426941.000</td>\n",
       "      <td>34107625.000</td>\n",
       "      <td>14.000</td>\n",
       "      <td>309.377</td>\n",
       "    </tr>\n",
       "  </tbody>\n",
       "</table>\n",
       "</div>"
      ],
      "text/plain": [
       "         Idade  ValorCompraAnual   GastoMax  GastoMedio  NumeroComprasOnline  MesesDesempregado  Anuidade\n",
       "count 1191.000          1191.000   1191.000    1191.000             1191.000           1191.000  1191.000\n",
       "mean    30.274        108034.128   7834.605    9140.372            66806.383              5.095    83.569\n",
       "std     12.360        362453.581  26481.770   30895.399          1404381.475              3.485    69.069\n",
       "min     10.000             0.000      0.000       0.000                0.000              0.000     0.006\n",
       "25%     22.000           195.000     11.714      13.667                1.160              2.000    33.551\n",
       "50%     26.000          2655.000    187.500     218.750               13.214              5.000    69.101\n",
       "75%     36.000         78958.000   5610.143    6545.167              559.974              8.000   107.133\n",
       "max     92.000       5123292.000 365949.429  426941.000         34107625.000             14.000   309.377"
      ]
     },
     "execution_count": 47,
     "metadata": {},
     "output_type": "execute_result"
    }
   ],
   "source": [
    "dados[base_numericas].describe()"
   ]
  },
  {
   "cell_type": "code",
   "execution_count": 48,
   "metadata": {},
   "outputs": [
    {
     "data": {
      "image/png": "[encoded data removed]",
      "text/plain": [
       "<Figure size 432x288 with 1 Axes>"
      ]
     },
     "metadata": {
      "needs_background": "light"
     },
     "output_type": "display_data"
    }
   ],
   "source": [
    "bplot = sns.boxplot(y='Idade', x='Target', \n",
    "                 data=dados, \n",
    "                 width=0.5,\n",
    "                 palette=\"colorblind\")\n",
    "#bplot.figure.savefig(plot_file_name,\n",
    "#                    format='jpeg',\n",
    "#                    dpi=100)"
   ]
  },
  {
   "cell_type": "code",
   "execution_count": 49,
   "metadata": {},
   "outputs": [
    {
     "data": {
      "image/png": "[encoded data removed]",
      "text/plain": [
       "<Figure size 432x288 with 2 Axes>"
      ]
     },
     "metadata": {
      "needs_background": "light"
     },
     "output_type": "display_data"
    }
   ],
   "source": [
    "# Mostrar com e sem outliers\n",
    "# Como existem valores muito discrepantes irei remover ValorCompraAnual > 200000\n",
    "fig, ax =plt.subplots(1,2)\n",
    "fig.tight_layout(pad=5.0)\n",
    "sns.boxplot(y='ValorCompraAnual', x='Target', \n",
    "                 data=dados, \n",
    "                 width=0.5,\n",
    "                 palette=\"colorblind\",\n",
    "                 ax=ax[0])\n",
    "sns.boxplot(y='ValorCompraAnual', x='Target', \n",
    "                 data=dados, \n",
    "                 width=0.5,\n",
    "                 palette=\"colorblind\",\n",
    "                 showfliers = False,\n",
    "                 ax=ax[1])\n",
    "fig.show()"
   ]
  },
  {
   "cell_type": "code",
   "execution_count": 50,
   "metadata": {},
   "outputs": [
    {
     "data": {
      "image/png": "[encoded data removed]",
      "text/plain": [
       "<Figure size 432x288 with 2 Axes>"
      ]
     },
     "metadata": {
      "needs_background": "light"
     },
     "output_type": "display_data"
    }
   ],
   "source": [
    "# Mostrar com e sem outliers\n",
    "# Como existem valores muito discrepantes irei remover GastoMax > 14000 \n",
    "fig, ax =plt.subplots(1,2)\n",
    "fig.tight_layout(pad=3.0)\n",
    "sns.boxplot(y='GastoMax', x='Target', \n",
    "                 data=dados, \n",
    "                 width=0.5,\n",
    "                 palette=\"colorblind\",\n",
    "                 ax=ax[0])\n",
    "sns.boxplot(y='GastoMax', x='Target', \n",
    "                 data=dados, \n",
    "                 width=0.5,\n",
    "                 palette=\"colorblind\",\n",
    "                 showfliers = False,\n",
    "                 ax=ax[1])\n",
    "fig.show()"
   ]
  },
  {
   "cell_type": "code",
   "execution_count": 51,
   "metadata": {},
   "outputs": [
    {
     "data": {
      "image/png": "[encoded data removed]",
      "text/plain": [
       "<Figure size 432x288 with 2 Axes>"
      ]
     },
     "metadata": {
      "needs_background": "light"
     },
     "output_type": "display_data"
    }
   ],
   "source": [
    "# Mostrar com e sem outliers\n",
    "# Como existem valores muito discrepantes irei remover GastoMedio > 20000\n",
    "fig, ax =plt.subplots(1,2)\n",
    "fig.tight_layout(pad=5.0)\n",
    "sns.boxplot(y='GastoMedio', x='Target', \n",
    "                 data=dados, \n",
    "                 width=0.5,\n",
    "                 palette=\"colorblind\",\n",
    "                 ax=ax[0])\n",
    "sns.boxplot(y='GastoMedio', x='Target', \n",
    "                 data=dados, \n",
    "                 width=0.5,\n",
    "                 palette=\"colorblind\",\n",
    "                 showfliers = False,\n",
    "                 ax=ax[1])\n",
    "fig.show()"
   ]
  },
  {
   "cell_type": "code",
   "execution_count": 52,
   "metadata": {},
   "outputs": [
    {
     "data": {
      "image/png": "[encoded data removed]",
      "text/plain": [
       "<Figure size 432x288 with 2 Axes>"
      ]
     },
     "metadata": {
      "needs_background": "light"
     },
     "output_type": "display_data"
    }
   ],
   "source": [
    "# Mostrar com e sem outliers\n",
    "# Como existem valores muito discrepantes irei remover NumeroComprasOnline > 1400\n",
    "fig, ax =plt.subplots(1,2)\n",
    "sns.boxplot(y='NumeroComprasOnline', x='Target', \n",
    "                 data=dados, \n",
    "                 width=0.5,\n",
    "                 palette=\"colorblind\",\n",
    "                 ax=ax[0])\n",
    "sns.boxplot(y='NumeroComprasOnline', x='Target', \n",
    "                 data=dados, \n",
    "                 width=0.5,\n",
    "                 palette=\"colorblind\",\n",
    "                 showfliers = False,\n",
    "                 ax=ax[1])\n",
    "fig.show()\n"
   ]
  },
  {
   "cell_type": "code",
   "execution_count": 53,
   "metadata": {},
   "outputs": [
    {
     "data": {
      "image/png": "[encoded data removed]",
      "text/plain": [
       "<Figure size 432x288 with 1 Axes>"
      ]
     },
     "metadata": {
      "needs_background": "light"
     },
     "output_type": "display_data"
    }
   ],
   "source": [
    "bplot = sns.boxplot(y='MesesDesempregado', x='Target', \n",
    "                 data=dados, \n",
    "                 width=0.5,\n",
    "                 palette=\"colorblind\")"
   ]
  },
  {
   "cell_type": "code",
   "execution_count": 54,
   "metadata": {},
   "outputs": [
    {
     "data": {
      "image/png": "[encoded data removed]",
      "text/plain": [
       "<Figure size 432x288 with 1 Axes>"
      ]
     },
     "metadata": {
      "needs_background": "light"
     },
     "output_type": "display_data"
    }
   ],
   "source": [
    "bplot = sns.boxplot(y='Anuidade', x='Target', \n",
    "                 data=dados, \n",
    "                 width=0.5,\n",
    "                 palette=\"colorblind\")"
   ]
  },
  {
   "cell_type": "markdown",
   "metadata": {},
   "source": [
    "# Remover registros com outliers"
   ]
  },
  {
   "cell_type": "code",
   "execution_count": 55,
   "metadata": {},
   "outputs": [
    {
     "data": {
      "text/html": [
       "<div>\n",
       "<style scoped>\n",
       "    .dataframe tbody tr th:only-of-type {\n",
       "        vertical-align: middle;\n",
       "    }\n",
       "\n",
       "    .dataframe tbody tr th {\n",
       "        vertical-align: top;\n",
       "    }\n",
       "\n",
       "    .dataframe thead th {\n",
       "        text-align: right;\n",
       "    }\n",
       "</style>\n",
       "<table border=\"1\" class=\"dataframe\">\n",
       "  <thead>\n",
       "    <tr style=\"text-align: right;\">\n",
       "      <th></th>\n",
       "      <th>Idade</th>\n",
       "      <th>ValorCompraAnual</th>\n",
       "      <th>GastoMax</th>\n",
       "      <th>GastoMedio</th>\n",
       "      <th>NumeroComprasOnline</th>\n",
       "      <th>MesesDesempregado</th>\n",
       "      <th>Anuidade</th>\n",
       "    </tr>\n",
       "  </thead>\n",
       "  <tbody>\n",
       "    <tr>\n",
       "      <th>count</th>\n",
       "      <td>1191.000</td>\n",
       "      <td>1191.000</td>\n",
       "      <td>1191.000</td>\n",
       "      <td>1191.000</td>\n",
       "      <td>1191.000</td>\n",
       "      <td>1191.000</td>\n",
       "      <td>1191.000</td>\n",
       "    </tr>\n",
       "    <tr>\n",
       "      <th>mean</th>\n",
       "      <td>30.274</td>\n",
       "      <td>108034.128</td>\n",
       "      <td>7834.605</td>\n",
       "      <td>9140.372</td>\n",
       "      <td>66806.383</td>\n",
       "      <td>5.095</td>\n",
       "      <td>83.569</td>\n",
       "    </tr>\n",
       "    <tr>\n",
       "      <th>std</th>\n",
       "      <td>12.360</td>\n",
       "      <td>362453.581</td>\n",
       "      <td>26481.770</td>\n",
       "      <td>30895.399</td>\n",
       "      <td>1404381.475</td>\n",
       "      <td>3.485</td>\n",
       "      <td>69.069</td>\n",
       "    </tr>\n",
       "    <tr>\n",
       "      <th>min</th>\n",
       "      <td>10.000</td>\n",
       "      <td>0.000</td>\n",
       "      <td>0.000</td>\n",
       "      <td>0.000</td>\n",
       "      <td>0.000</td>\n",
       "      <td>0.000</td>\n",
       "      <td>0.006</td>\n",
       "    </tr>\n",
       "    <tr>\n",
       "      <th>25%</th>\n",
       "      <td>22.000</td>\n",
       "      <td>195.000</td>\n",
       "      <td>11.714</td>\n",
       "      <td>13.667</td>\n",
       "      <td>1.160</td>\n",
       "      <td>2.000</td>\n",
       "      <td>33.551</td>\n",
       "    </tr>\n",
       "    <tr>\n",
       "      <th>50%</th>\n",
       "      <td>26.000</td>\n",
       "      <td>2655.000</td>\n",
       "      <td>187.500</td>\n",
       "      <td>218.750</td>\n",
       "      <td>13.214</td>\n",
       "      <td>5.000</td>\n",
       "      <td>69.101</td>\n",
       "    </tr>\n",
       "    <tr>\n",
       "      <th>75%</th>\n",
       "      <td>36.000</td>\n",
       "      <td>78958.000</td>\n",
       "      <td>5610.143</td>\n",
       "      <td>6545.167</td>\n",
       "      <td>559.974</td>\n",
       "      <td>8.000</td>\n",
       "      <td>107.133</td>\n",
       "    </tr>\n",
       "    <tr>\n",
       "      <th>max</th>\n",
       "      <td>92.000</td>\n",
       "      <td>5123292.000</td>\n",
       "      <td>365949.429</td>\n",
       "      <td>426941.000</td>\n",
       "      <td>34107625.000</td>\n",
       "      <td>14.000</td>\n",
       "      <td>309.377</td>\n",
       "    </tr>\n",
       "  </tbody>\n",
       "</table>\n",
       "</div>"
      ],
      "text/plain": [
       "         Idade  ValorCompraAnual   GastoMax  GastoMedio  NumeroComprasOnline  MesesDesempregado  Anuidade\n",
       "count 1191.000          1191.000   1191.000    1191.000             1191.000           1191.000  1191.000\n",
       "mean    30.274        108034.128   7834.605    9140.372            66806.383              5.095    83.569\n",
       "std     12.360        362453.581  26481.770   30895.399          1404381.475              3.485    69.069\n",
       "min     10.000             0.000      0.000       0.000                0.000              0.000     0.006\n",
       "25%     22.000           195.000     11.714      13.667                1.160              2.000    33.551\n",
       "50%     26.000          2655.000    187.500     218.750               13.214              5.000    69.101\n",
       "75%     36.000         78958.000   5610.143    6545.167              559.974              8.000   107.133\n",
       "max     92.000       5123292.000 365949.429  426941.000         34107625.000             14.000   309.377"
      ]
     },
     "execution_count": 55,
     "metadata": {},
     "output_type": "execute_result"
    }
   ],
   "source": [
    "dados[base_numericas].describe()"
   ]
  },
  {
   "cell_type": "code",
   "execution_count": 56,
   "metadata": {},
   "outputs": [],
   "source": [
    "# Como existem valores muito discrepantes irei remover GastoMedio > 20000\n",
    "# Como existem valores muito discrepantes irei remover ValorCompraAnual > 200000\n",
    "# Como existem valores muito discrepantes irei remover GastoMax > 14000 \n",
    "# Como existem valores muito discrepantes irei remover NumeroComprasOnline > 1400"
   ]
  },
  {
   "cell_type": "code",
   "execution_count": 57,
   "metadata": {},
   "outputs": [
    {
     "name": "stdout",
     "output_type": "stream",
     "text": [
      "(1191, 14)\n",
      "(1071, 14)\n",
      "(1055, 14)\n",
      "(1063, 14)\n",
      "(1045, 14)\n"
     ]
    }
   ],
   "source": [
    "print(dados.shape)\n",
    "print(dados[dados.GastoMedio < 20000].shape)\n",
    "print(dados[dados.GastoMax < 14000 ].shape)\n",
    "print(dados[dados.ValorCompraAnual < 200000].shape)\n",
    "print(dados[dados.NumeroComprasOnline < 1400].shape)"
   ]
  },
  {
   "cell_type": "code",
   "execution_count": 58,
   "metadata": {},
   "outputs": [
    {
     "name": "stdout",
     "output_type": "stream",
     "text": [
      "(1024, 14)\n"
     ]
    }
   ],
   "source": [
    "dados = dados[(dados.GastoMedio < 20000) & \n",
    "              (dados.GastoMax < 14000) & \n",
    "              (dados.ValorCompraAnual < 200000) & \n",
    "              (dados.NumeroComprasOnline < 1400)]\n",
    "print(dados.shape)"
   ]
  },
  {
   "cell_type": "code",
   "execution_count": 59,
   "metadata": {},
   "outputs": [
    {
     "data": {
      "text/html": [
       "<div>\n",
       "<style scoped>\n",
       "    .dataframe tbody tr th:only-of-type {\n",
       "        vertical-align: middle;\n",
       "    }\n",
       "\n",
       "    .dataframe tbody tr th {\n",
       "        vertical-align: top;\n",
       "    }\n",
       "\n",
       "    .dataframe thead th {\n",
       "        text-align: right;\n",
       "    }\n",
       "</style>\n",
       "<table border=\"1\" class=\"dataframe\">\n",
       "  <thead>\n",
       "    <tr style=\"text-align: right;\">\n",
       "      <th></th>\n",
       "      <th>Idade</th>\n",
       "      <th>ValorCompraAnual</th>\n",
       "      <th>GastoMax</th>\n",
       "      <th>GastoMedio</th>\n",
       "      <th>NumeroComprasOnline</th>\n",
       "      <th>MesesDesempregado</th>\n",
       "      <th>Anuidade</th>\n",
       "    </tr>\n",
       "  </thead>\n",
       "  <tbody>\n",
       "    <tr>\n",
       "      <th>count</th>\n",
       "      <td>1024.000</td>\n",
       "      <td>1024.000</td>\n",
       "      <td>1024.000</td>\n",
       "      <td>1024.000</td>\n",
       "      <td>1024.000</td>\n",
       "      <td>1024.000</td>\n",
       "      <td>1024.000</td>\n",
       "    </tr>\n",
       "    <tr>\n",
       "      <th>mean</th>\n",
       "      <td>30.271</td>\n",
       "      <td>24785.688</td>\n",
       "      <td>1611.283</td>\n",
       "      <td>1879.830</td>\n",
       "      <td>158.851</td>\n",
       "      <td>5.133</td>\n",
       "      <td>83.738</td>\n",
       "    </tr>\n",
       "    <tr>\n",
       "      <th>std</th>\n",
       "      <td>12.243</td>\n",
       "      <td>40338.974</td>\n",
       "      <td>2757.797</td>\n",
       "      <td>3217.430</td>\n",
       "      <td>280.891</td>\n",
       "      <td>3.485</td>\n",
       "      <td>68.936</td>\n",
       "    </tr>\n",
       "    <tr>\n",
       "      <th>min</th>\n",
       "      <td>10.000</td>\n",
       "      <td>0.000</td>\n",
       "      <td>0.000</td>\n",
       "      <td>0.000</td>\n",
       "      <td>0.000</td>\n",
       "      <td>0.000</td>\n",
       "      <td>0.006</td>\n",
       "    </tr>\n",
       "    <tr>\n",
       "      <th>25%</th>\n",
       "      <td>22.000</td>\n",
       "      <td>145.000</td>\n",
       "      <td>9.643</td>\n",
       "      <td>11.250</td>\n",
       "      <td>0.792</td>\n",
       "      <td>2.000</td>\n",
       "      <td>34.243</td>\n",
       "    </tr>\n",
       "    <tr>\n",
       "      <th>50%</th>\n",
       "      <td>27.000</td>\n",
       "      <td>805.000</td>\n",
       "      <td>57.500</td>\n",
       "      <td>67.083</td>\n",
       "      <td>6.148</td>\n",
       "      <td>5.000</td>\n",
       "      <td>69.119</td>\n",
       "    </tr>\n",
       "    <tr>\n",
       "      <th>75%</th>\n",
       "      <td>35.000</td>\n",
       "      <td>40488.500</td>\n",
       "      <td>1608.929</td>\n",
       "      <td>1877.083</td>\n",
       "      <td>167.211</td>\n",
       "      <td>8.000</td>\n",
       "      <td>106.113</td>\n",
       "    </tr>\n",
       "    <tr>\n",
       "      <th>max</th>\n",
       "      <td>92.000</td>\n",
       "      <td>192583.000</td>\n",
       "      <td>13755.929</td>\n",
       "      <td>16048.583</td>\n",
       "      <td>1375.000</td>\n",
       "      <td>14.000</td>\n",
       "      <td>309.377</td>\n",
       "    </tr>\n",
       "  </tbody>\n",
       "</table>\n",
       "</div>"
      ],
      "text/plain": [
       "         Idade  ValorCompraAnual  GastoMax  GastoMedio  NumeroComprasOnline  MesesDesempregado  Anuidade\n",
       "count 1024.000          1024.000  1024.000    1024.000             1024.000           1024.000  1024.000\n",
       "mean    30.271         24785.688  1611.283    1879.830              158.851              5.133    83.738\n",
       "std     12.243         40338.974  2757.797    3217.430              280.891              3.485    68.936\n",
       "min     10.000             0.000     0.000       0.000                0.000              0.000     0.006\n",
       "25%     22.000           145.000     9.643      11.250                0.792              2.000    34.243\n",
       "50%     27.000           805.000    57.500      67.083                6.148              5.000    69.119\n",
       "75%     35.000         40488.500  1608.929    1877.083              167.211              8.000   106.113\n",
       "max     92.000        192583.000 13755.929   16048.583             1375.000             14.000   309.377"
      ]
     },
     "execution_count": 59,
     "metadata": {},
     "output_type": "execute_result"
    }
   ],
   "source": [
    "dados[base_numericas].describe()"
   ]
  },
  {
   "cell_type": "markdown",
   "metadata": {},
   "source": [
    "## Categóricas"
   ]
  },
  {
   "cell_type": "code",
   "execution_count": 60,
   "metadata": {},
   "outputs": [],
   "source": [
    "# Como 'UF' e 'CidadeResidencia' possuem alta cardinalidade\n",
    "# iremos utilizar apenas 'RegiaodoPais'"
   ]
  },
  {
   "cell_type": "code",
   "execution_count": 61,
   "metadata": {},
   "outputs": [],
   "source": [
    "base_categoricas = ['PerfilEconomico', 'Sexo', 'PerfilCompra','RegiaodoPais']"
   ]
  },
  {
   "cell_type": "code",
   "execution_count": 62,
   "metadata": {},
   "outputs": [
    {
     "name": "stdout",
     "output_type": "stream",
     "text": [
      "------------------------------------------------\n",
      "Cancelados:  3    445\n",
      "2    177\n",
      "1    140\n",
      "Name: PerfilEconomico, dtype: int64\n",
      "Não Cancelados:  3    143\n",
      "2     61\n",
      "1     58\n",
      "Name: PerfilEconomico, dtype: int64\n",
      "------------------------------------------------\n",
      "Proporção cancelados:  3   58.399\n",
      "2   23.228\n",
      "1   18.373\n",
      "Name: PerfilEconomico, dtype: float64\n",
      "------------------------------------------------\n",
      "Proporção não cancelados:  3   54.580\n",
      "2   23.282\n",
      "1   22.137\n",
      "Name: PerfilEconomico, dtype: float64\n",
      "------------------------------------------------\n"
     ]
    },
    {
     "data": {
      "text/plain": [
       "<matplotlib.axes._subplots.AxesSubplot at 0x1b3de03c808>"
      ]
     },
     "execution_count": 62,
     "metadata": {},
     "output_type": "execute_result"
    },
    {
     "data": {
      "image/png": "[encoded data removed]",
      "text/plain": [
       "<Figure size 432x288 with 1 Axes>"
      ]
     },
     "metadata": {
      "needs_background": "light"
     },
     "output_type": "display_data"
    }
   ],
   "source": [
    "# PerfilEconomico\n",
    "print('------------------------------------------------')\n",
    "print( 'Cancelados: ',(dados[dados['Target'] == 0]['PerfilEconomico'].value_counts()))\n",
    "print( 'Não Cancelados: ',(dados[dados['Target'] == 1]['PerfilEconomico'].value_counts()))\n",
    "print('------------------------------------------------')\n",
    "print( 'Proporção cancelados: ',\n",
    "      (dados[dados['Target'] == 0]['PerfilEconomico'].value_counts()\n",
    "       /dados[dados['Target'] == 0]['PerfilEconomico'].count())*100\n",
    "     )\n",
    "print('------------------------------------------------')\n",
    "print('Proporção não cancelados: ',\n",
    "      (dados[dados['Target'] == 1]['PerfilEconomico'].value_counts()\n",
    "       /dados[dados['Target'] == 1]['PerfilEconomico'].count())*100\n",
    "     )\n",
    "print('------------------------------------------------')\n",
    "dados.groupby(['Target','PerfilEconomico']).size().unstack().plot(kind='bar',stacked=False)"
   ]
  },
  {
   "cell_type": "code",
   "execution_count": 63,
   "metadata": {},
   "outputs": [
    {
     "name": "stdout",
     "output_type": "stream",
     "text": [
      "------------------------------------------------\n",
      "Cancelados:  homem     511\n",
      "mulher    251\n",
      "Name: Sexo, dtype: int64\n",
      "Não Cancelados:  homem     161\n",
      "mulher    101\n",
      "Name: Sexo, dtype: int64\n",
      "------------------------------------------------\n",
      "Proporção cancelados:  homem    67.060\n",
      "mulher   32.940\n",
      "Name: Sexo, dtype: float64\n",
      "------------------------------------------------\n",
      "Proporção não cancelados:  homem    61.450\n",
      "mulher   38.550\n",
      "Name: Sexo, dtype: float64\n",
      "------------------------------------------------\n"
     ]
    },
    {
     "data": {
      "text/plain": [
       "<matplotlib.axes._subplots.AxesSubplot at 0x1b3de112608>"
      ]
     },
     "execution_count": 63,
     "metadata": {},
     "output_type": "execute_result"
    },
    {
     "data": {
      "image/png": "[encoded data removed]",
      "text/plain": [
       "<Figure size 432x288 with 1 Axes>"
      ]
     },
     "metadata": {
      "needs_background": "light"
     },
     "output_type": "display_data"
    }
   ],
   "source": [
    "# Sexo\n",
    "print('------------------------------------------------')\n",
    "print( 'Cancelados: ',(dados[dados['Target'] == 0]['Sexo'].value_counts()))\n",
    "print( 'Não Cancelados: ',(dados[dados['Target'] == 1]['Sexo'].value_counts()))\n",
    "print('------------------------------------------------')\n",
    "print( 'Proporção cancelados: ',\n",
    "      (dados[dados['Target'] == 0]['Sexo'].value_counts()\n",
    "       /dados[dados['Target'] == 0]['Sexo'].count())*100\n",
    "     )\n",
    "print('------------------------------------------------')\n",
    "print('Proporção não cancelados: ',\n",
    "      (dados[dados['Target'] == 1]['Sexo'].value_counts()\n",
    "       /dados[dados['Target'] == 1]['Sexo'].count())*100\n",
    "     )\n",
    "print('------------------------------------------------')\n",
    "dados.groupby(['Target','Sexo']).size().unstack().plot(kind='bar',stacked=False)"
   ]
  },
  {
   "cell_type": "code",
   "execution_count": 64,
   "metadata": {},
   "outputs": [
    {
     "name": "stdout",
     "output_type": "stream",
     "text": [
      "------------------------------------------------\n",
      "Cancelados:  0    533\n",
      "1    174\n",
      "2     23\n",
      "3     11\n",
      "4      9\n",
      "8      7\n",
      "5      5\n",
      "Name: PerfilCompra, dtype: int64\n",
      "Não Cancelados:  0    171\n",
      "1     70\n",
      "2      9\n",
      "4      4\n",
      "3      4\n",
      "5      3\n",
      "8      1\n",
      "Name: PerfilCompra, dtype: int64\n",
      "------------------------------------------------\n",
      "Proporção cancelados:  0   69.948\n",
      "1   22.835\n",
      "2    3.018\n",
      "3    1.444\n",
      "4    1.181\n",
      "8    0.919\n",
      "5    0.656\n",
      "Name: PerfilCompra, dtype: float64\n",
      "------------------------------------------------\n",
      "Proporção não cancelados:  0   65.267\n",
      "1   26.718\n",
      "2    3.435\n",
      "4    1.527\n",
      "3    1.527\n",
      "5    1.145\n",
      "8    0.382\n",
      "Name: PerfilCompra, dtype: float64\n",
      "------------------------------------------------\n"
     ]
    },
    {
     "data": {
      "text/plain": [
       "<matplotlib.axes._subplots.AxesSubplot at 0x1b3de163e08>"
      ]
     },
     "execution_count": 64,
     "metadata": {},
     "output_type": "execute_result"
    },
    {
     "data": {
      "image/png": "[encoded data removed]",
      "text/plain": [
       "<Figure size 432x288 with 1 Axes>"
      ]
     },
     "metadata": {
      "needs_background": "light"
     },
     "output_type": "display_data"
    }
   ],
   "source": [
    "# PerfilCompra\n",
    "print('------------------------------------------------')\n",
    "print( 'Cancelados: ',(dados[dados['Target'] == 0]['PerfilCompra'].value_counts()))\n",
    "print( 'Não Cancelados: ',(dados[dados['Target'] == 1]['PerfilCompra'].value_counts()))\n",
    "print('------------------------------------------------')\n",
    "print( 'Proporção cancelados: ',\n",
    "      (dados[dados['Target'] == 0]['PerfilCompra'].value_counts()\n",
    "       /dados[dados['Target'] == 0]['PerfilCompra'].count())*100\n",
    "     )\n",
    "print('------------------------------------------------')\n",
    "print('Proporção não cancelados: ',\n",
    "      (dados[dados['Target'] == 1]['PerfilCompra'].value_counts()\n",
    "       /dados[dados['Target'] == 1]['PerfilCompra'].count())*100\n",
    "     )\n",
    "print('------------------------------------------------')\n",
    "dados.groupby(['Target','PerfilCompra']).size().unstack().plot(kind='bar',stacked=False)"
   ]
  },
  {
   "cell_type": "code",
   "execution_count": 65,
   "metadata": {},
   "outputs": [
    {
     "name": "stdout",
     "output_type": "stream",
     "text": [
      "------------------------------------------------\n",
      "Cancelados:  Região Nordeste        292\n",
      "Região Sudeste         199\n",
      "Região Sul             137\n",
      "Região Norte            74\n",
      "Região Centro-Oeste     60\n",
      "Name: RegiaodoPais, dtype: int64\n",
      "Não Cancelados:  Região Nordeste        113\n",
      "Região Sudeste          67\n",
      "Região Sul              33\n",
      "Região Norte            27\n",
      "Região Centro-Oeste     22\n",
      "Name: RegiaodoPais, dtype: int64\n",
      "------------------------------------------------\n",
      "Proporção cancelados:  Região Nordeste       38.320\n",
      "Região Sudeste        26.115\n",
      "Região Sul            17.979\n",
      "Região Norte           9.711\n",
      "Região Centro-Oeste    7.874\n",
      "Name: RegiaodoPais, dtype: float64\n",
      "------------------------------------------------\n",
      "Proporção não cancelados:  Região Nordeste       43.130\n",
      "Região Sudeste        25.573\n",
      "Região Sul            12.595\n",
      "Região Norte          10.305\n",
      "Região Centro-Oeste    8.397\n",
      "Name: RegiaodoPais, dtype: float64\n",
      "------------------------------------------------\n"
     ]
    },
    {
     "data": {
      "text/plain": [
       "<matplotlib.axes._subplots.AxesSubplot at 0x1b3de23ac08>"
      ]
     },
     "execution_count": 65,
     "metadata": {},
     "output_type": "execute_result"
    },
    {
     "data": {
      "image/png": "[encoded data removed]",
      "text/plain": [
       "<Figure size 432x288 with 1 Axes>"
      ]
     },
     "metadata": {
      "needs_background": "light"
     },
     "output_type": "display_data"
    }
   ],
   "source": [
    "# RegiaodoPais\n",
    "print('------------------------------------------------')\n",
    "print( 'Cancelados: ',(dados[dados['Target'] == 0]['RegiaodoPais'].value_counts()))\n",
    "print( 'Não Cancelados: ',(dados[dados['Target'] == 1]['RegiaodoPais'].value_counts()))\n",
    "print('------------------------------------------------')\n",
    "print( 'Proporção cancelados: ',\n",
    "      (dados[dados['Target'] == 0]['RegiaodoPais'].value_counts()\n",
    "       /dados[dados['Target'] == 0]['RegiaodoPais'].count())*100\n",
    "     )\n",
    "print('------------------------------------------------')\n",
    "print('Proporção não cancelados: ',\n",
    "      (dados[dados['Target'] == 1]['RegiaodoPais'].value_counts()\n",
    "       /dados[dados['Target'] == 1]['RegiaodoPais'].count())*100\n",
    "     )\n",
    "print('------------------------------------------------')\n",
    "dados.groupby(['Target','RegiaodoPais']).size().unstack().plot(kind='bar',stacked=False)"
   ]
  },
  {
   "cell_type": "markdown",
   "metadata": {},
   "source": [
    "# Criar dummies para var categoricas"
   ]
  },
  {
   "cell_type": "code",
   "execution_count": 66,
   "metadata": {},
   "outputs": [],
   "source": [
    "base_categoricas = ['PerfilEconomico', 'Sexo', 'PerfilCompra','RegiaodoPais']\n",
    "dum = pd.get_dummies(dados,\n",
    "                    columns=base_categoricas,\n",
    "                    drop_first=True,\n",
    "                    prefix=base_categoricas,\n",
    "                     prefix_sep='_'\n",
    "                    )"
   ]
  },
  {
   "cell_type": "code",
   "execution_count": 67,
   "metadata": {},
   "outputs": [
    {
     "data": {
      "text/html": [
       "<div>\n",
       "<style scoped>\n",
       "    .dataframe tbody tr th:only-of-type {\n",
       "        vertical-align: middle;\n",
       "    }\n",
       "\n",
       "    .dataframe tbody tr th {\n",
       "        vertical-align: top;\n",
       "    }\n",
       "\n",
       "    .dataframe thead th {\n",
       "        text-align: right;\n",
       "    }\n",
       "</style>\n",
       "<table border=\"1\" class=\"dataframe\">\n",
       "  <thead>\n",
       "    <tr style=\"text-align: right;\">\n",
       "      <th></th>\n",
       "      <th>Idade</th>\n",
       "      <th>ValorCompraAnual</th>\n",
       "      <th>GastoMax</th>\n",
       "      <th>GastoMedio</th>\n",
       "      <th>UF</th>\n",
       "      <th>CidadeResidencia</th>\n",
       "      <th>NumeroComprasOnline</th>\n",
       "      <th>MesesDesempregado</th>\n",
       "      <th>Anuidade</th>\n",
       "      <th>Target</th>\n",
       "      <th>PerfilEconomico_2</th>\n",
       "      <th>PerfilEconomico_3</th>\n",
       "      <th>Sexo_mulher</th>\n",
       "      <th>PerfilCompra_1</th>\n",
       "      <th>PerfilCompra_2</th>\n",
       "      <th>PerfilCompra_3</th>\n",
       "      <th>PerfilCompra_4</th>\n",
       "      <th>PerfilCompra_5</th>\n",
       "      <th>PerfilCompra_8</th>\n",
       "      <th>RegiaodoPais_Região Nordeste</th>\n",
       "      <th>RegiaodoPais_Região Norte</th>\n",
       "      <th>RegiaodoPais_Região Sudeste</th>\n",
       "      <th>RegiaodoPais_Região Sul</th>\n",
       "    </tr>\n",
       "  </thead>\n",
       "  <tbody>\n",
       "    <tr>\n",
       "      <th>0</th>\n",
       "      <td>24</td>\n",
       "      <td>1875.000</td>\n",
       "      <td>133.929</td>\n",
       "      <td>156.250</td>\n",
       "      <td>MA</td>\n",
       "      <td>Centro Novo do Maranhão</td>\n",
       "      <td>13.021</td>\n",
       "      <td>2</td>\n",
       "      <td>251.194</td>\n",
       "      <td>1</td>\n",
       "      <td>1</td>\n",
       "      <td>0</td>\n",
       "      <td>1</td>\n",
       "      <td>0</td>\n",
       "      <td>1</td>\n",
       "      <td>0</td>\n",
       "      <td>0</td>\n",
       "      <td>0</td>\n",
       "      <td>0</td>\n",
       "      <td>1</td>\n",
       "      <td>0</td>\n",
       "      <td>0</td>\n",
       "      <td>0</td>\n",
       "    </tr>\n",
       "    <tr>\n",
       "      <th>1</th>\n",
       "      <td>22</td>\n",
       "      <td>725.000</td>\n",
       "      <td>51.786</td>\n",
       "      <td>60.417</td>\n",
       "      <td>PI</td>\n",
       "      <td>Amarante</td>\n",
       "      <td>5.492</td>\n",
       "      <td>13</td>\n",
       "      <td>233.544</td>\n",
       "      <td>1</td>\n",
       "      <td>0</td>\n",
       "      <td>1</td>\n",
       "      <td>1</td>\n",
       "      <td>0</td>\n",
       "      <td>0</td>\n",
       "      <td>0</td>\n",
       "      <td>0</td>\n",
       "      <td>0</td>\n",
       "      <td>0</td>\n",
       "      <td>1</td>\n",
       "      <td>0</td>\n",
       "      <td>0</td>\n",
       "      <td>0</td>\n",
       "    </tr>\n",
       "    <tr>\n",
       "      <th>2</th>\n",
       "      <td>22</td>\n",
       "      <td>72292.000</td>\n",
       "      <td>5163.714</td>\n",
       "      <td>6024.333</td>\n",
       "      <td>MT</td>\n",
       "      <td>Santo Antônio do Leverger</td>\n",
       "      <td>547.667</td>\n",
       "      <td>2</td>\n",
       "      <td>275.437</td>\n",
       "      <td>1</td>\n",
       "      <td>0</td>\n",
       "      <td>1</td>\n",
       "      <td>0</td>\n",
       "      <td>0</td>\n",
       "      <td>0</td>\n",
       "      <td>0</td>\n",
       "      <td>0</td>\n",
       "      <td>0</td>\n",
       "      <td>0</td>\n",
       "      <td>0</td>\n",
       "      <td>0</td>\n",
       "      <td>0</td>\n",
       "      <td>0</td>\n",
       "    </tr>\n",
       "  </tbody>\n",
       "</table>\n",
       "</div>"
      ],
      "text/plain": [
       "   Idade  ValorCompraAnual  GastoMax  GastoMedio  UF           CidadeResidencia  NumeroComprasOnline  MesesDesempregado  Anuidade  Target  PerfilEconomico_2  PerfilEconomico_3  Sexo_mulher  PerfilCompra_1  PerfilCompra_2  PerfilCompra_3  PerfilCompra_4  PerfilCompra_5  PerfilCompra_8  RegiaodoPais_Região Nordeste  RegiaodoPais_Região Norte  RegiaodoPais_Região Sudeste  RegiaodoPais_Região Sul\n",
       "0     24          1875.000   133.929     156.250  MA    Centro Novo do Maranhão               13.021                  2   251.194       1                  1                  0            1               0               1               0               0               0               0                             1                          0                            0                        0\n",
       "1     22           725.000    51.786      60.417  PI                   Amarante                5.492                 13   233.544       1                  0                  1            1               0               0               0               0               0               0                             1                          0                            0                        0\n",
       "2     22         72292.000  5163.714    6024.333  MT  Santo Antônio do Leverger              547.667                  2   275.437       1                  0                  1            0               0               0               0               0               0               0                             0                          0                            0                        0"
      ]
     },
     "execution_count": 67,
     "metadata": {},
     "output_type": "execute_result"
    }
   ],
   "source": [
    "dum.head(3)"
   ]
  },
  {
   "cell_type": "code",
   "execution_count": 68,
   "metadata": {},
   "outputs": [
    {
     "data": {
      "text/plain": [
       "Index(['Idade', 'ValorCompraAnual', 'GastoMax', 'GastoMedio', 'UF', 'CidadeResidencia', 'NumeroComprasOnline', 'MesesDesempregado', 'Anuidade', 'Target', 'PerfilEconomico_2', 'PerfilEconomico_3', 'Sexo_mulher', 'PerfilCompra_1', 'PerfilCompra_2', 'PerfilCompra_3', 'PerfilCompra_4', 'PerfilCompra_5', 'PerfilCompra_8', 'RegiaodoPais_Região Nordeste', 'RegiaodoPais_Região Norte', 'RegiaodoPais_Região Sudeste', 'RegiaodoPais_Região Sul'], dtype='object')"
      ]
     },
     "execution_count": 68,
     "metadata": {},
     "output_type": "execute_result"
    }
   ],
   "source": [
    "dum.columns"
   ]
  },
  {
   "cell_type": "code",
   "execution_count": 69,
   "metadata": {},
   "outputs": [],
   "source": [
    "dados_selecionados = dum[['Idade', 'ValorCompraAnual', 'GastoMax', 'GastoMedio', \n",
    "                         'NumeroComprasOnline', 'MesesDesempregado', 'Anuidade',  \n",
    "                         'PerfilEconomico_2', 'PerfilEconomico_3', 'Sexo_mulher', \n",
    "                         'PerfilCompra_1', 'PerfilCompra_2', 'PerfilCompra_3', \n",
    "                         'PerfilCompra_4', 'PerfilCompra_5', 'PerfilCompra_8', 'RegiaodoPais_Região Nordeste', \n",
    "                         'RegiaodoPais_Região Norte', 'RegiaodoPais_Região Sudeste', 'RegiaodoPais_Região Sul',\n",
    "                         'Target']]"
   ]
  },
  {
   "cell_type": "code",
   "execution_count": 70,
   "metadata": {},
   "outputs": [
    {
     "data": {
      "text/html": [
       "<div>\n",
       "<style scoped>\n",
       "    .dataframe tbody tr th:only-of-type {\n",
       "        vertical-align: middle;\n",
       "    }\n",
       "\n",
       "    .dataframe tbody tr th {\n",
       "        vertical-align: top;\n",
       "    }\n",
       "\n",
       "    .dataframe thead th {\n",
       "        text-align: right;\n",
       "    }\n",
       "</style>\n",
       "<table border=\"1\" class=\"dataframe\">\n",
       "  <thead>\n",
       "    <tr style=\"text-align: right;\">\n",
       "      <th></th>\n",
       "      <th>count</th>\n",
       "      <th>mean</th>\n",
       "      <th>std</th>\n",
       "      <th>min</th>\n",
       "      <th>25%</th>\n",
       "      <th>50%</th>\n",
       "      <th>75%</th>\n",
       "      <th>max</th>\n",
       "    </tr>\n",
       "  </thead>\n",
       "  <tbody>\n",
       "    <tr>\n",
       "      <th>Idade</th>\n",
       "      <td>1024.000</td>\n",
       "      <td>30.271</td>\n",
       "      <td>12.243</td>\n",
       "      <td>10.000</td>\n",
       "      <td>22.000</td>\n",
       "      <td>27.000</td>\n",
       "      <td>35.000</td>\n",
       "      <td>92.000</td>\n",
       "    </tr>\n",
       "    <tr>\n",
       "      <th>ValorCompraAnual</th>\n",
       "      <td>1024.000</td>\n",
       "      <td>24785.688</td>\n",
       "      <td>40338.974</td>\n",
       "      <td>0.000</td>\n",
       "      <td>145.000</td>\n",
       "      <td>805.000</td>\n",
       "      <td>40488.500</td>\n",
       "      <td>192583.000</td>\n",
       "    </tr>\n",
       "    <tr>\n",
       "      <th>GastoMax</th>\n",
       "      <td>1024.000</td>\n",
       "      <td>1611.283</td>\n",
       "      <td>2757.797</td>\n",
       "      <td>0.000</td>\n",
       "      <td>9.643</td>\n",
       "      <td>57.500</td>\n",
       "      <td>1608.929</td>\n",
       "      <td>13755.929</td>\n",
       "    </tr>\n",
       "    <tr>\n",
       "      <th>GastoMedio</th>\n",
       "      <td>1024.000</td>\n",
       "      <td>1879.830</td>\n",
       "      <td>3217.430</td>\n",
       "      <td>0.000</td>\n",
       "      <td>11.250</td>\n",
       "      <td>67.083</td>\n",
       "      <td>1877.083</td>\n",
       "      <td>16048.583</td>\n",
       "    </tr>\n",
       "    <tr>\n",
       "      <th>NumeroComprasOnline</th>\n",
       "      <td>1024.000</td>\n",
       "      <td>158.851</td>\n",
       "      <td>280.891</td>\n",
       "      <td>0.000</td>\n",
       "      <td>0.792</td>\n",
       "      <td>6.148</td>\n",
       "      <td>167.211</td>\n",
       "      <td>1375.000</td>\n",
       "    </tr>\n",
       "    <tr>\n",
       "      <th>MesesDesempregado</th>\n",
       "      <td>1024.000</td>\n",
       "      <td>5.133</td>\n",
       "      <td>3.485</td>\n",
       "      <td>0.000</td>\n",
       "      <td>2.000</td>\n",
       "      <td>5.000</td>\n",
       "      <td>8.000</td>\n",
       "      <td>14.000</td>\n",
       "    </tr>\n",
       "    <tr>\n",
       "      <th>Anuidade</th>\n",
       "      <td>1024.000</td>\n",
       "      <td>83.738</td>\n",
       "      <td>68.936</td>\n",
       "      <td>0.006</td>\n",
       "      <td>34.243</td>\n",
       "      <td>69.119</td>\n",
       "      <td>106.113</td>\n",
       "      <td>309.377</td>\n",
       "    </tr>\n",
       "    <tr>\n",
       "      <th>PerfilEconomico_2</th>\n",
       "      <td>1024.000</td>\n",
       "      <td>0.232</td>\n",
       "      <td>0.423</td>\n",
       "      <td>0.000</td>\n",
       "      <td>0.000</td>\n",
       "      <td>0.000</td>\n",
       "      <td>0.000</td>\n",
       "      <td>1.000</td>\n",
       "    </tr>\n",
       "    <tr>\n",
       "      <th>PerfilEconomico_3</th>\n",
       "      <td>1024.000</td>\n",
       "      <td>0.574</td>\n",
       "      <td>0.495</td>\n",
       "      <td>0.000</td>\n",
       "      <td>0.000</td>\n",
       "      <td>1.000</td>\n",
       "      <td>1.000</td>\n",
       "      <td>1.000</td>\n",
       "    </tr>\n",
       "    <tr>\n",
       "      <th>Sexo_mulher</th>\n",
       "      <td>1024.000</td>\n",
       "      <td>0.344</td>\n",
       "      <td>0.475</td>\n",
       "      <td>0.000</td>\n",
       "      <td>0.000</td>\n",
       "      <td>0.000</td>\n",
       "      <td>1.000</td>\n",
       "      <td>1.000</td>\n",
       "    </tr>\n",
       "    <tr>\n",
       "      <th>PerfilCompra_1</th>\n",
       "      <td>1024.000</td>\n",
       "      <td>0.238</td>\n",
       "      <td>0.426</td>\n",
       "      <td>0.000</td>\n",
       "      <td>0.000</td>\n",
       "      <td>0.000</td>\n",
       "      <td>0.000</td>\n",
       "      <td>1.000</td>\n",
       "    </tr>\n",
       "    <tr>\n",
       "      <th>PerfilCompra_2</th>\n",
       "      <td>1024.000</td>\n",
       "      <td>0.031</td>\n",
       "      <td>0.174</td>\n",
       "      <td>0.000</td>\n",
       "      <td>0.000</td>\n",
       "      <td>0.000</td>\n",
       "      <td>0.000</td>\n",
       "      <td>1.000</td>\n",
       "    </tr>\n",
       "    <tr>\n",
       "      <th>PerfilCompra_3</th>\n",
       "      <td>1024.000</td>\n",
       "      <td>0.015</td>\n",
       "      <td>0.120</td>\n",
       "      <td>0.000</td>\n",
       "      <td>0.000</td>\n",
       "      <td>0.000</td>\n",
       "      <td>0.000</td>\n",
       "      <td>1.000</td>\n",
       "    </tr>\n",
       "    <tr>\n",
       "      <th>PerfilCompra_4</th>\n",
       "      <td>1024.000</td>\n",
       "      <td>0.013</td>\n",
       "      <td>0.112</td>\n",
       "      <td>0.000</td>\n",
       "      <td>0.000</td>\n",
       "      <td>0.000</td>\n",
       "      <td>0.000</td>\n",
       "      <td>1.000</td>\n",
       "    </tr>\n",
       "    <tr>\n",
       "      <th>PerfilCompra_5</th>\n",
       "      <td>1024.000</td>\n",
       "      <td>0.008</td>\n",
       "      <td>0.088</td>\n",
       "      <td>0.000</td>\n",
       "      <td>0.000</td>\n",
       "      <td>0.000</td>\n",
       "      <td>0.000</td>\n",
       "      <td>1.000</td>\n",
       "    </tr>\n",
       "    <tr>\n",
       "      <th>PerfilCompra_8</th>\n",
       "      <td>1024.000</td>\n",
       "      <td>0.008</td>\n",
       "      <td>0.088</td>\n",
       "      <td>0.000</td>\n",
       "      <td>0.000</td>\n",
       "      <td>0.000</td>\n",
       "      <td>0.000</td>\n",
       "      <td>1.000</td>\n",
       "    </tr>\n",
       "    <tr>\n",
       "      <th>RegiaodoPais_Região Nordeste</th>\n",
       "      <td>1024.000</td>\n",
       "      <td>0.396</td>\n",
       "      <td>0.489</td>\n",
       "      <td>0.000</td>\n",
       "      <td>0.000</td>\n",
       "      <td>0.000</td>\n",
       "      <td>1.000</td>\n",
       "      <td>1.000</td>\n",
       "    </tr>\n",
       "    <tr>\n",
       "      <th>RegiaodoPais_Região Norte</th>\n",
       "      <td>1024.000</td>\n",
       "      <td>0.099</td>\n",
       "      <td>0.298</td>\n",
       "      <td>0.000</td>\n",
       "      <td>0.000</td>\n",
       "      <td>0.000</td>\n",
       "      <td>0.000</td>\n",
       "      <td>1.000</td>\n",
       "    </tr>\n",
       "    <tr>\n",
       "      <th>RegiaodoPais_Região Sudeste</th>\n",
       "      <td>1024.000</td>\n",
       "      <td>0.260</td>\n",
       "      <td>0.439</td>\n",
       "      <td>0.000</td>\n",
       "      <td>0.000</td>\n",
       "      <td>0.000</td>\n",
       "      <td>1.000</td>\n",
       "      <td>1.000</td>\n",
       "    </tr>\n",
       "    <tr>\n",
       "      <th>RegiaodoPais_Região Sul</th>\n",
       "      <td>1024.000</td>\n",
       "      <td>0.166</td>\n",
       "      <td>0.372</td>\n",
       "      <td>0.000</td>\n",
       "      <td>0.000</td>\n",
       "      <td>0.000</td>\n",
       "      <td>0.000</td>\n",
       "      <td>1.000</td>\n",
       "    </tr>\n",
       "    <tr>\n",
       "      <th>Target</th>\n",
       "      <td>1024.000</td>\n",
       "      <td>0.256</td>\n",
       "      <td>0.437</td>\n",
       "      <td>0.000</td>\n",
       "      <td>0.000</td>\n",
       "      <td>0.000</td>\n",
       "      <td>1.000</td>\n",
       "      <td>1.000</td>\n",
       "    </tr>\n",
       "  </tbody>\n",
       "</table>\n",
       "</div>"
      ],
      "text/plain": [
       "                                count      mean       std    min     25%     50%       75%        max\n",
       "Idade                        1024.000    30.271    12.243 10.000  22.000  27.000    35.000     92.000\n",
       "ValorCompraAnual             1024.000 24785.688 40338.974  0.000 145.000 805.000 40488.500 192583.000\n",
       "GastoMax                     1024.000  1611.283  2757.797  0.000   9.643  57.500  1608.929  13755.929\n",
       "GastoMedio                   1024.000  1879.830  3217.430  0.000  11.250  67.083  1877.083  16048.583\n",
       "NumeroComprasOnline          1024.000   158.851   280.891  0.000   0.792   6.148   167.211   1375.000\n",
       "MesesDesempregado            1024.000     5.133     3.485  0.000   2.000   5.000     8.000     14.000\n",
       "Anuidade                     1024.000    83.738    68.936  0.006  34.243  69.119   106.113    309.377\n",
       "PerfilEconomico_2            1024.000     0.232     0.423  0.000   0.000   0.000     0.000      1.000\n",
       "PerfilEconomico_3            1024.000     0.574     0.495  0.000   0.000   1.000     1.000      1.000\n",
       "Sexo_mulher                  1024.000     0.344     0.475  0.000   0.000   0.000     1.000      1.000\n",
       "PerfilCompra_1               1024.000     0.238     0.426  0.000   0.000   0.000     0.000      1.000\n",
       "PerfilCompra_2               1024.000     0.031     0.174  0.000   0.000   0.000     0.000      1.000\n",
       "PerfilCompra_3               1024.000     0.015     0.120  0.000   0.000   0.000     0.000      1.000\n",
       "PerfilCompra_4               1024.000     0.013     0.112  0.000   0.000   0.000     0.000      1.000\n",
       "PerfilCompra_5               1024.000     0.008     0.088  0.000   0.000   0.000     0.000      1.000\n",
       "PerfilCompra_8               1024.000     0.008     0.088  0.000   0.000   0.000     0.000      1.000\n",
       "RegiaodoPais_Região Nordeste 1024.000     0.396     0.489  0.000   0.000   0.000     1.000      1.000\n",
       "RegiaodoPais_Região Norte    1024.000     0.099     0.298  0.000   0.000   0.000     0.000      1.000\n",
       "RegiaodoPais_Região Sudeste  1024.000     0.260     0.439  0.000   0.000   0.000     1.000      1.000\n",
       "RegiaodoPais_Região Sul      1024.000     0.166     0.372  0.000   0.000   0.000     0.000      1.000\n",
       "Target                       1024.000     0.256     0.437  0.000   0.000   0.000     1.000      1.000"
      ]
     },
     "execution_count": 70,
     "metadata": {},
     "output_type": "execute_result"
    }
   ],
   "source": [
    "dados_selecionados.describe().transpose()"
   ]
  },
  {
   "cell_type": "markdown",
   "metadata": {},
   "source": [
    "# Determinar melhores variaveis para todos os modelos"
   ]
  },
  {
   "cell_type": "code",
   "execution_count": 71,
   "metadata": {},
   "outputs": [],
   "source": [
    "from sklearn.feature_selection import SelectKBest\n",
    "from sklearn.feature_selection import chi2\n",
    "from sklearn.preprocessing import StandardScaler"
   ]
  },
  {
   "cell_type": "code",
   "execution_count": 72,
   "metadata": {},
   "outputs": [],
   "source": [
    "expl = dados_selecionados.drop(columns=['Target'])\n",
    "target = dados_selecionados.Target"
   ]
  },
  {
   "cell_type": "code",
   "execution_count": 73,
   "metadata": {},
   "outputs": [],
   "source": [
    "# Normalizar\n",
    "expl_norm = StandardScaler().fit_transform(expl)"
   ]
  },
  {
   "cell_type": "code",
   "execution_count": 74,
   "metadata": {},
   "outputs": [
    {
     "data": {
      "text/plain": [
       "array([[-0.51243863, -0.56823168, -0.5359628 , ..., -0.33079569,\n",
       "        -0.59238795, -0.44616503],\n",
       "       [-0.67588269, -0.59675402, -0.56576304, ..., -0.33079569,\n",
       "        -0.59238795, -0.44616503],\n",
       "       [-0.67588269,  1.17825323,  1.28877032, ..., -0.33079569,\n",
       "        -0.59238795, -0.44616503],\n",
       "       ...,\n",
       "       [ 0.3865037 , -0.55657472, -0.52378358, ...,  3.02301404,\n",
       "        -0.59238795, -0.44616503],\n",
       "       [-0.34899457, -0.61399143, -0.58377275, ..., -0.33079569,\n",
       "        -0.59238795, -0.44616503],\n",
       "       [ 0.14133761, -0.59551392, -0.56446738, ..., -0.33079569,\n",
       "        -0.59238795, -0.44616503]])"
      ]
     },
     "execution_count": 74,
     "metadata": {},
     "output_type": "execute_result"
    }
   ],
   "source": [
    "expl_norm"
   ]
  },
  {
   "cell_type": "markdown",
   "metadata": {},
   "source": [
    "### baseado em filtro"
   ]
  },
  {
   "cell_type": "code",
   "execution_count": 75,
   "metadata": {},
   "outputs": [
    {
     "data": {
      "text/plain": [
       "SelectKBest(k=10, score_func=<function chi2 at 0x000001B3DE38B948>)"
      ]
     },
     "execution_count": 75,
     "metadata": {},
     "output_type": "execute_result"
    }
   ],
   "source": [
    "chi_selector = SelectKBest(chi2)\n",
    "chi_selector.fit(expl,target)"
   ]
  },
  {
   "cell_type": "code",
   "execution_count": 76,
   "metadata": {},
   "outputs": [],
   "source": [
    "chi_support = chi_selector.get_support()\n",
    "chi_feature = expl.loc[:,chi_support].columns.tolist()"
   ]
  },
  {
   "cell_type": "code",
   "execution_count": 77,
   "metadata": {},
   "outputs": [
    {
     "name": "stdout",
     "output_type": "stream",
     "text": [
      "10  é número de variaveis selecionadas\n",
      "['ValorCompraAnual', 'GastoMax', 'GastoMedio', 'NumeroComprasOnline', 'MesesDesempregado', 'Anuidade', 'Sexo_mulher', 'PerfilCompra_1', 'RegiaodoPais_Região Nordeste', 'RegiaodoPais_Região Sul']\n"
     ]
    }
   ],
   "source": [
    "print(len(chi_feature), ' é número de variaveis selecionadas')\n",
    "print(chi_feature)"
   ]
  },
  {
   "cell_type": "markdown",
   "metadata": {},
   "source": [
    "### wraper"
   ]
  },
  {
   "cell_type": "code",
   "execution_count": 78,
   "metadata": {},
   "outputs": [],
   "source": [
    "from sklearn.feature_selection import RFE\n",
    "from sklearn.linear_model import LogisticRegression"
   ]
  },
  {
   "cell_type": "code",
   "execution_count": 79,
   "metadata": {},
   "outputs": [],
   "source": [
    "rfe_selector = RFE(estimator=LogisticRegression( C=1.0, class_weight=None, dual=False,\n",
    "                                                 fit_intercept=True, intercept_scaling=1,\n",
    "                                                 l1_ratio=None, max_iter=1000,\n",
    "                                                 multi_class='auto', n_jobs=None, penalty='l2',\n",
    "                                                 random_state=42, solver='lbfgs', tol=0.0001,\n",
    "                                                 verbose=0, warm_start=False),\n",
    "                  step=100,           \n",
    "                  n_features_to_select=10)\n",
    "rfe_selector.fit(expl,target)\n",
    "rfe_support = rfe_selector.get_support()\n",
    "rfe_feature = expl.loc[:,rfe_support].columns.tolist()"
   ]
  },
  {
   "cell_type": "code",
   "execution_count": 80,
   "metadata": {},
   "outputs": [
    {
     "name": "stdout",
     "output_type": "stream",
     "text": [
      "10  é número de variaveis selecionadas\n",
      "['Idade', 'NumeroComprasOnline', 'MesesDesempregado', 'Anuidade', 'PerfilEconomico_2', 'PerfilEconomico_3', 'Sexo_mulher', 'RegiaodoPais_Região Nordeste', 'RegiaodoPais_Região Sudeste', 'RegiaodoPais_Região Sul']\n"
     ]
    }
   ],
   "source": [
    "print(len(rfe_feature), ' é número de variaveis selecionadas')\n",
    "print(rfe_feature)"
   ]
  },
  {
   "cell_type": "code",
   "execution_count": 81,
   "metadata": {},
   "outputs": [],
   "source": [
    "from sklearn.feature_selection import SelectFromModel\n",
    "from sklearn.ensemble import RandomForestClassifier\n",
    "rfe_selector1 = RFE(estimator=RandomForestClassifier(n_estimators=300),\n",
    "                  step=100,           \n",
    "                  n_features_to_select=10)\n",
    "rfe_selector1.fit(expl,target)\n",
    "rfe_support1 = rfe_selector1.get_support()\n",
    "rfe_feature1 = expl.loc[:,rfe_support1].columns.tolist()"
   ]
  },
  {
   "cell_type": "code",
   "execution_count": 82,
   "metadata": {},
   "outputs": [
    {
     "name": "stdout",
     "output_type": "stream",
     "text": [
      "10  é número de variaveis selecionadas\n",
      "['Idade', 'ValorCompraAnual', 'GastoMax', 'GastoMedio', 'NumeroComprasOnline', 'MesesDesempregado', 'Anuidade', 'Sexo_mulher', 'RegiaodoPais_Região Nordeste', 'RegiaodoPais_Região Sudeste']\n"
     ]
    }
   ],
   "source": [
    "print(len(rfe_feature1), ' é número de variaveis selecionadas')\n",
    "print(rfe_feature1)"
   ]
  },
  {
   "cell_type": "markdown",
   "metadata": {},
   "source": [
    "### Embarcada"
   ]
  },
  {
   "cell_type": "code",
   "execution_count": 83,
   "metadata": {},
   "outputs": [],
   "source": [
    "from sklearn.feature_selection import SelectFromModel\n",
    "from sklearn.ensemble import RandomForestClassifier"
   ]
  },
  {
   "cell_type": "code",
   "execution_count": 84,
   "metadata": {},
   "outputs": [],
   "source": [
    "rf_selector = SelectFromModel(estimator=RandomForestClassifier(n_estimators=300),\n",
    "                              max_features=10)\n",
    "rf_selector.fit(expl,target)\n",
    "rf_support = rf_selector.get_support()\n",
    "rf_feature = expl.loc[:,rf_support].columns.tolist()"
   ]
  },
  {
   "cell_type": "code",
   "execution_count": 85,
   "metadata": {},
   "outputs": [
    {
     "name": "stdout",
     "output_type": "stream",
     "text": [
      "3  é número de variaveis selecionadas\n",
      "['NumeroComprasOnline', 'MesesDesempregado', 'Anuidade']\n"
     ]
    }
   ],
   "source": [
    "print(len(rf_feature), ' é número de variaveis selecionadas')\n",
    "print(rf_feature)"
   ]
  },
  {
   "cell_type": "code",
   "execution_count": 86,
   "metadata": {},
   "outputs": [],
   "source": [
    "from sklearn.ensemble import GradientBoostingClassifier\n",
    "rf_selector1 = SelectFromModel(estimator=GradientBoostingClassifier(random_state=42),\n",
    "                              max_features=10)\n",
    "rf_selector1.fit(expl,target)\n",
    "rf_support1 = rf_selector1.get_support()\n",
    "rf_feature1 = expl.loc[:,rf_support1].columns.tolist()"
   ]
  },
  {
   "cell_type": "code",
   "execution_count": 87,
   "metadata": {},
   "outputs": [
    {
     "name": "stdout",
     "output_type": "stream",
     "text": [
      "2  é número de variaveis selecionadas\n",
      "['MesesDesempregado', 'Anuidade']\n"
     ]
    }
   ],
   "source": [
    "print(len(rf_feature1), ' é número de variaveis selecionadas')\n",
    "print(rf_feature1)"
   ]
  },
  {
   "cell_type": "code",
   "execution_count": 88,
   "metadata": {},
   "outputs": [
    {
     "data": {
      "text/html": [
       "<div>\n",
       "<style scoped>\n",
       "    .dataframe tbody tr th:only-of-type {\n",
       "        vertical-align: middle;\n",
       "    }\n",
       "\n",
       "    .dataframe tbody tr th {\n",
       "        vertical-align: top;\n",
       "    }\n",
       "\n",
       "    .dataframe thead th {\n",
       "        text-align: right;\n",
       "    }\n",
       "</style>\n",
       "<table border=\"1\" class=\"dataframe\">\n",
       "  <thead>\n",
       "    <tr style=\"text-align: right;\">\n",
       "      <th></th>\n",
       "      <th>Variaveis</th>\n",
       "      <th>Chi-2</th>\n",
       "      <th>RFE</th>\n",
       "      <th>RFE1</th>\n",
       "      <th>RF</th>\n",
       "      <th>RF1</th>\n",
       "      <th>Total</th>\n",
       "    </tr>\n",
       "  </thead>\n",
       "  <tbody>\n",
       "    <tr>\n",
       "      <th>1</th>\n",
       "      <td>MesesDesempregado</td>\n",
       "      <td>True</td>\n",
       "      <td>True</td>\n",
       "      <td>True</td>\n",
       "      <td>True</td>\n",
       "      <td>True</td>\n",
       "      <td>5</td>\n",
       "    </tr>\n",
       "    <tr>\n",
       "      <th>2</th>\n",
       "      <td>Anuidade</td>\n",
       "      <td>True</td>\n",
       "      <td>True</td>\n",
       "      <td>True</td>\n",
       "      <td>True</td>\n",
       "      <td>True</td>\n",
       "      <td>5</td>\n",
       "    </tr>\n",
       "    <tr>\n",
       "      <th>3</th>\n",
       "      <td>NumeroComprasOnline</td>\n",
       "      <td>True</td>\n",
       "      <td>True</td>\n",
       "      <td>True</td>\n",
       "      <td>True</td>\n",
       "      <td>False</td>\n",
       "      <td>4</td>\n",
       "    </tr>\n",
       "    <tr>\n",
       "      <th>4</th>\n",
       "      <td>Sexo_mulher</td>\n",
       "      <td>True</td>\n",
       "      <td>True</td>\n",
       "      <td>True</td>\n",
       "      <td>False</td>\n",
       "      <td>False</td>\n",
       "      <td>3</td>\n",
       "    </tr>\n",
       "    <tr>\n",
       "      <th>5</th>\n",
       "      <td>RegiaodoPais_Região Nordeste</td>\n",
       "      <td>True</td>\n",
       "      <td>True</td>\n",
       "      <td>True</td>\n",
       "      <td>False</td>\n",
       "      <td>False</td>\n",
       "      <td>3</td>\n",
       "    </tr>\n",
       "    <tr>\n",
       "      <th>6</th>\n",
       "      <td>ValorCompraAnual</td>\n",
       "      <td>True</td>\n",
       "      <td>False</td>\n",
       "      <td>True</td>\n",
       "      <td>False</td>\n",
       "      <td>False</td>\n",
       "      <td>2</td>\n",
       "    </tr>\n",
       "    <tr>\n",
       "      <th>7</th>\n",
       "      <td>RegiaodoPais_Região Sul</td>\n",
       "      <td>True</td>\n",
       "      <td>True</td>\n",
       "      <td>False</td>\n",
       "      <td>False</td>\n",
       "      <td>False</td>\n",
       "      <td>2</td>\n",
       "    </tr>\n",
       "    <tr>\n",
       "      <th>8</th>\n",
       "      <td>RegiaodoPais_Região Sudeste</td>\n",
       "      <td>False</td>\n",
       "      <td>True</td>\n",
       "      <td>True</td>\n",
       "      <td>False</td>\n",
       "      <td>False</td>\n",
       "      <td>2</td>\n",
       "    </tr>\n",
       "    <tr>\n",
       "      <th>9</th>\n",
       "      <td>Idade</td>\n",
       "      <td>False</td>\n",
       "      <td>True</td>\n",
       "      <td>True</td>\n",
       "      <td>False</td>\n",
       "      <td>False</td>\n",
       "      <td>2</td>\n",
       "    </tr>\n",
       "    <tr>\n",
       "      <th>10</th>\n",
       "      <td>GastoMedio</td>\n",
       "      <td>True</td>\n",
       "      <td>False</td>\n",
       "      <td>True</td>\n",
       "      <td>False</td>\n",
       "      <td>False</td>\n",
       "      <td>2</td>\n",
       "    </tr>\n",
       "    <tr>\n",
       "      <th>11</th>\n",
       "      <td>GastoMax</td>\n",
       "      <td>True</td>\n",
       "      <td>False</td>\n",
       "      <td>True</td>\n",
       "      <td>False</td>\n",
       "      <td>False</td>\n",
       "      <td>2</td>\n",
       "    </tr>\n",
       "    <tr>\n",
       "      <th>12</th>\n",
       "      <td>PerfilEconomico_3</td>\n",
       "      <td>False</td>\n",
       "      <td>True</td>\n",
       "      <td>False</td>\n",
       "      <td>False</td>\n",
       "      <td>False</td>\n",
       "      <td>1</td>\n",
       "    </tr>\n",
       "    <tr>\n",
       "      <th>13</th>\n",
       "      <td>PerfilEconomico_2</td>\n",
       "      <td>False</td>\n",
       "      <td>True</td>\n",
       "      <td>False</td>\n",
       "      <td>False</td>\n",
       "      <td>False</td>\n",
       "      <td>1</td>\n",
       "    </tr>\n",
       "    <tr>\n",
       "      <th>14</th>\n",
       "      <td>PerfilCompra_1</td>\n",
       "      <td>True</td>\n",
       "      <td>False</td>\n",
       "      <td>False</td>\n",
       "      <td>False</td>\n",
       "      <td>False</td>\n",
       "      <td>1</td>\n",
       "    </tr>\n",
       "    <tr>\n",
       "      <th>15</th>\n",
       "      <td>RegiaodoPais_Região Norte</td>\n",
       "      <td>False</td>\n",
       "      <td>False</td>\n",
       "      <td>False</td>\n",
       "      <td>False</td>\n",
       "      <td>False</td>\n",
       "      <td>0</td>\n",
       "    </tr>\n",
       "    <tr>\n",
       "      <th>16</th>\n",
       "      <td>PerfilCompra_8</td>\n",
       "      <td>False</td>\n",
       "      <td>False</td>\n",
       "      <td>False</td>\n",
       "      <td>False</td>\n",
       "      <td>False</td>\n",
       "      <td>0</td>\n",
       "    </tr>\n",
       "    <tr>\n",
       "      <th>17</th>\n",
       "      <td>PerfilCompra_5</td>\n",
       "      <td>False</td>\n",
       "      <td>False</td>\n",
       "      <td>False</td>\n",
       "      <td>False</td>\n",
       "      <td>False</td>\n",
       "      <td>0</td>\n",
       "    </tr>\n",
       "    <tr>\n",
       "      <th>18</th>\n",
       "      <td>PerfilCompra_4</td>\n",
       "      <td>False</td>\n",
       "      <td>False</td>\n",
       "      <td>False</td>\n",
       "      <td>False</td>\n",
       "      <td>False</td>\n",
       "      <td>0</td>\n",
       "    </tr>\n",
       "    <tr>\n",
       "      <th>19</th>\n",
       "      <td>PerfilCompra_3</td>\n",
       "      <td>False</td>\n",
       "      <td>False</td>\n",
       "      <td>False</td>\n",
       "      <td>False</td>\n",
       "      <td>False</td>\n",
       "      <td>0</td>\n",
       "    </tr>\n",
       "    <tr>\n",
       "      <th>20</th>\n",
       "      <td>PerfilCompra_2</td>\n",
       "      <td>False</td>\n",
       "      <td>False</td>\n",
       "      <td>False</td>\n",
       "      <td>False</td>\n",
       "      <td>False</td>\n",
       "      <td>0</td>\n",
       "    </tr>\n",
       "  </tbody>\n",
       "</table>\n",
       "</div>"
      ],
      "text/plain": [
       "                       Variaveis  Chi-2    RFE   RFE1     RF    RF1  Total\n",
       "1              MesesDesempregado   True   True   True   True   True      5\n",
       "2                       Anuidade   True   True   True   True   True      5\n",
       "3            NumeroComprasOnline   True   True   True   True  False      4\n",
       "4                    Sexo_mulher   True   True   True  False  False      3\n",
       "5   RegiaodoPais_Região Nordeste   True   True   True  False  False      3\n",
       "6               ValorCompraAnual   True  False   True  False  False      2\n",
       "7        RegiaodoPais_Região Sul   True   True  False  False  False      2\n",
       "8    RegiaodoPais_Região Sudeste  False   True   True  False  False      2\n",
       "9                          Idade  False   True   True  False  False      2\n",
       "10                    GastoMedio   True  False   True  False  False      2\n",
       "11                      GastoMax   True  False   True  False  False      2\n",
       "12             PerfilEconomico_3  False   True  False  False  False      1\n",
       "13             PerfilEconomico_2  False   True  False  False  False      1\n",
       "14                PerfilCompra_1   True  False  False  False  False      1\n",
       "15     RegiaodoPais_Região Norte  False  False  False  False  False      0\n",
       "16                PerfilCompra_8  False  False  False  False  False      0\n",
       "17                PerfilCompra_5  False  False  False  False  False      0\n",
       "18                PerfilCompra_4  False  False  False  False  False      0\n",
       "19                PerfilCompra_3  False  False  False  False  False      0\n",
       "20                PerfilCompra_2  False  False  False  False  False      0"
      ]
     },
     "execution_count": 88,
     "metadata": {},
     "output_type": "execute_result"
    }
   ],
   "source": [
    "#comparando \n",
    "feature_selection_df = pd.DataFrame({'Variaveis': expl.columns,\n",
    "                                    'Chi-2':chi_support,\n",
    "                                    'RFE': rfe_support,\n",
    "                                     'RFE1':rfe_support1,\n",
    "                                    'RF':rf_support,\n",
    "                                    'RF1':rf_support1})\n",
    "\n",
    "#count\n",
    "feature_selection_df['Total'] = np.sum(feature_selection_df,axis=1)\n",
    "\n",
    "#print\n",
    "feature_selection_df = feature_selection_df.sort_values(['Total','Variaveis'],\n",
    "                                                        ascending=False)\n",
    "feature_selection_df.index = range(1, len(feature_selection_df)+1)\n",
    "feature_selection_df"
   ]
  },
  {
   "cell_type": "code",
   "execution_count": 89,
   "metadata": {},
   "outputs": [],
   "source": [
    "explicativas = dados_selecionados[['MesesDesempregado',\n",
    "                                  'Anuidade',\n",
    "                                  'Sexo_mulher',\n",
    "                                  'RegiaodoPais_Região Nordeste',\n",
    "                                  'NumeroComprasOnline',\n",
    "                                  'ValorCompraAnual',\n",
    "                                  'RegiaodoPais_Região Sul',\n",
    "                                  'Idade',\n",
    "                                  'GastoMedio'\n",
    "                                  ]]"
   ]
  },
  {
   "cell_type": "markdown",
   "metadata": {},
   "source": [
    "# Treino só com variaveis escolhas"
   ]
  },
  {
   "cell_type": "code",
   "execution_count": 90,
   "metadata": {},
   "outputs": [],
   "source": [
    "from sklearn.model_selection import train_test_split"
   ]
  },
  {
   "cell_type": "code",
   "execution_count": 91,
   "metadata": {},
   "outputs": [],
   "source": [
    "x_treino, x_teste, y_treino, y_teste = train_test_split(explicativas,\n",
    "                                                       target,\n",
    "                                                       test_size=0.25,\n",
    "                                                       random_state = 2)"
   ]
  },
  {
   "cell_type": "markdown",
   "metadata": {},
   "source": [
    "# Regressão Logistica"
   ]
  },
  {
   "cell_type": "code",
   "execution_count": 92,
   "metadata": {},
   "outputs": [],
   "source": [
    "# dicionario\n",
    "lr_grid_dc = {\n",
    "    'tol': [0.0001,0.00001,0.000001],\n",
    "    'C': [1.0,2,3,5]\n",
    "}"
   ]
  },
  {
   "cell_type": "code",
   "execution_count": 93,
   "metadata": {},
   "outputs": [],
   "source": [
    "lr = LogisticRegression(random_state=2)"
   ]
  },
  {
   "cell_type": "code",
   "execution_count": 94,
   "metadata": {},
   "outputs": [
    {
     "data": {
      "text/plain": [
       "GridSearchCV(cv=5, error_score=nan,\n",
       "             estimator=LogisticRegression(C=1.0, class_weight=None, dual=False,\n",
       "                                          fit_intercept=True,\n",
       "                                          intercept_scaling=1, l1_ratio=None,\n",
       "                                          max_iter=100, multi_class='auto',\n",
       "                                          n_jobs=None, penalty='l2',\n",
       "                                          random_state=2, solver='lbfgs',\n",
       "                                          tol=0.0001, verbose=0,\n",
       "                                          warm_start=False),\n",
       "             iid='deprecated', n_jobs=None,\n",
       "             param_grid={'C': [1.0, 2, 3, 5], 'tol': [0.0001, 1e-05, 1e-06]},\n",
       "             pre_dispatch='2*n_jobs', refit=True, return_train_score=False,\n",
       "             scoring=None, verbose=0)"
      ]
     },
     "execution_count": 94,
     "metadata": {},
     "output_type": "execute_result"
    }
   ],
   "source": [
    "from sklearn.model_selection import GridSearchCV\n",
    "lr_grid = GridSearchCV(estimator=lr,\n",
    "                      param_grid=lr_grid_dc,\n",
    "                       cv=5)\n",
    "\n",
    "lr_grid.fit(x_treino,y_treino)"
   ]
  },
  {
   "cell_type": "code",
   "execution_count": 95,
   "metadata": {},
   "outputs": [
    {
     "data": {
      "text/plain": [
       "{'C': 2, 'tol': 0.0001}"
      ]
     },
     "execution_count": 95,
     "metadata": {},
     "output_type": "execute_result"
    }
   ],
   "source": [
    "lr_grid.best_params_"
   ]
  },
  {
   "cell_type": "code",
   "execution_count": 96,
   "metadata": {},
   "outputs": [
    {
     "data": {
      "text/plain": [
       "0.8241830065359477"
      ]
     },
     "execution_count": 96,
     "metadata": {},
     "output_type": "execute_result"
    }
   ],
   "source": [
    "lr_grid.best_score_"
   ]
  },
  {
   "cell_type": "code",
   "execution_count": 97,
   "metadata": {},
   "outputs": [],
   "source": [
    "from sklearn.externals import joblib\n",
    "joblib.dump(lr_grid.best_estimator_,'modelo_lr_cancelcartao_gridsearch.pkl',compress=1)\n",
    "modelo_treinado_lr = open('modelo_lr_cancelcartao_gridsearch.pkl','rb')\n",
    "model_lr = joblib.load(modelo_treinado_lr)"
   ]
  },
  {
   "cell_type": "code",
   "execution_count": 98,
   "metadata": {},
   "outputs": [
    {
     "data": {
      "text/plain": [
       "LogisticRegression(C=2, class_weight=None, dual=False, fit_intercept=True,\n",
       "                   intercept_scaling=1, l1_ratio=None, max_iter=100,\n",
       "                   multi_class='auto', n_jobs=None, penalty='l2',\n",
       "                   random_state=2, solver='lbfgs', tol=0.0001, verbose=0,\n",
       "                   warm_start=False)"
      ]
     },
     "execution_count": 98,
     "metadata": {},
     "output_type": "execute_result"
    }
   ],
   "source": [
    "model_lr"
   ]
  },
  {
   "cell_type": "code",
   "execution_count": 99,
   "metadata": {},
   "outputs": [
    {
     "data": {
      "text/plain": [
       "array([0, 0, 0, 0, 0, 0, 0, 0, 0, 0, 0, 1, 0, 0, 0, 0, 0, 0, 1, 0, 1, 0,\n",
       "       0, 0, 0, 0, 0, 1, 1, 0, 0, 0, 0, 1, 0, 1, 0, 0, 0, 1, 0, 0, 1, 1,\n",
       "       0, 0, 0, 0, 1, 0, 0, 0, 0, 0, 0, 0, 0, 0, 0, 0, 1, 0, 0, 0, 1, 1,\n",
       "       0, 0, 0, 0, 0, 1, 0, 0, 0, 0, 0, 0, 1, 0, 0, 0, 1, 0, 0, 0, 0, 0,\n",
       "       0, 0, 0, 0, 1, 0, 0, 0, 0, 0, 0, 0, 0, 0, 0, 0, 0, 1, 0, 0, 1, 1,\n",
       "       0, 1, 1, 0, 0, 0, 0, 1, 0, 0, 0, 1, 0, 0, 0, 0, 0, 0, 0, 1, 0, 1,\n",
       "       1, 0, 1, 0, 0, 0, 0, 0, 0, 0, 0, 0, 1, 0, 0, 0, 0, 0, 1, 0, 1, 1,\n",
       "       0, 0, 1, 0, 1, 1, 0, 0, 0, 0, 0, 0, 0, 0, 0, 1, 0, 0, 0, 0, 0, 0,\n",
       "       0, 0, 0, 0, 0, 0, 0, 1, 1, 0, 0, 0, 0, 0, 0, 0, 1, 0, 0, 1, 0, 0,\n",
       "       0, 1, 0, 0, 0, 0, 0, 1, 0, 0, 0, 0, 1, 0, 0, 0, 0, 1, 0, 0, 0, 0,\n",
       "       0, 1, 1, 1, 1, 0, 1, 0, 0, 0, 0, 0, 0, 0, 0, 1, 0, 1, 0, 1, 0, 1,\n",
       "       0, 0, 0, 0, 0, 0, 0, 0, 1, 0, 0, 0, 0, 0], dtype=int64)"
      ]
     },
     "execution_count": 99,
     "metadata": {},
     "output_type": "execute_result"
    }
   ],
   "source": [
    "model_lr.predict(x_teste)"
   ]
  },
  {
   "cell_type": "code",
   "execution_count": 100,
   "metadata": {},
   "outputs": [
    {
     "name": "stdout",
     "output_type": "stream",
     "text": [
      "Teste:  82.03\n"
     ]
    }
   ],
   "source": [
    "from sklearn.metrics import accuracy_score\n",
    "y_gb_teste = model_lr.predict(x_teste)\n",
    "acc_gb_teste = round(accuracy_score(y_gb_teste,y_teste)*100,2)\n",
    "print('Teste: ',acc_gb_teste)"
   ]
  },
  {
   "cell_type": "markdown",
   "metadata": {},
   "source": [
    "# Tree"
   ]
  },
  {
   "cell_type": "code",
   "execution_count": 101,
   "metadata": {},
   "outputs": [],
   "source": [
    "# dicionario\n",
    "tree_grid_dc = { 'min_samples_leaf': [1,5,10,15,20],\n",
    "                'min_samples_split': [1.0,2,3,5,10],\n",
    "                'max_depth': [1,3,5,8,12],\n",
    "                'criterion': ['gini','entropy']\n",
    "}"
   ]
  },
  {
   "cell_type": "code",
   "execution_count": 102,
   "metadata": {},
   "outputs": [],
   "source": [
    "from sklearn.tree import DecisionTreeClassifier\n",
    "tree = DecisionTreeClassifier(random_state=2)"
   ]
  },
  {
   "cell_type": "code",
   "execution_count": 103,
   "metadata": {},
   "outputs": [
    {
     "data": {
      "text/plain": [
       "GridSearchCV(cv=5, error_score=nan,\n",
       "             estimator=DecisionTreeClassifier(ccp_alpha=0.0, class_weight=None,\n",
       "                                              criterion='gini', max_depth=None,\n",
       "                                              max_features=None,\n",
       "                                              max_leaf_nodes=None,\n",
       "                                              min_impurity_decrease=0.0,\n",
       "                                              min_impurity_split=None,\n",
       "                                              min_samples_leaf=1,\n",
       "                                              min_samples_split=2,\n",
       "                                              min_weight_fraction_leaf=0.0,\n",
       "                                              presort='deprecated',\n",
       "                                              random_state=2, splitter='best'),\n",
       "             iid='deprecated', n_jobs=None,\n",
       "             param_grid={'criterion': ['gini', 'entropy'],\n",
       "                         'max_depth': [1, 3, 5, 8, 12],\n",
       "                         'min_samples_leaf': [1, 5, 10, 15, 20],\n",
       "                         'min_samples_split': [1.0, 2, 3, 5, 10]},\n",
       "             pre_dispatch='2*n_jobs', refit=True, return_train_score=False,\n",
       "             scoring=None, verbose=0)"
      ]
     },
     "execution_count": 103,
     "metadata": {},
     "output_type": "execute_result"
    }
   ],
   "source": [
    "from sklearn.model_selection import GridSearchCV\n",
    "tree_grid = GridSearchCV(estimator=tree,\n",
    "                      param_grid=tree_grid_dc,\n",
    "                       cv=5)\n",
    "\n",
    "tree_grid.fit(x_treino,y_treino)"
   ]
  },
  {
   "cell_type": "code",
   "execution_count": 104,
   "metadata": {},
   "outputs": [
    {
     "data": {
      "text/plain": [
       "{'criterion': 'gini',\n",
       " 'max_depth': 3,\n",
       " 'min_samples_leaf': 5,\n",
       " 'min_samples_split': 2}"
      ]
     },
     "execution_count": 104,
     "metadata": {},
     "output_type": "execute_result"
    }
   ],
   "source": [
    "tree_grid.best_params_"
   ]
  },
  {
   "cell_type": "code",
   "execution_count": 105,
   "metadata": {},
   "outputs": [
    {
     "data": {
      "text/plain": [
       "0.9257703081232492"
      ]
     },
     "execution_count": 105,
     "metadata": {},
     "output_type": "execute_result"
    }
   ],
   "source": [
    "tree_grid.best_score_"
   ]
  },
  {
   "cell_type": "code",
   "execution_count": 106,
   "metadata": {},
   "outputs": [],
   "source": [
    "joblib.dump(tree_grid.best_estimator_,'modelo_tree_cancelcartao_gridsearch.pkl',compress=1)\n",
    "modelo_treinado_tree = open('modelo_tree_cancelcartao_gridsearch.pkl','rb')\n",
    "model_tree = joblib.load(modelo_treinado_tree)"
   ]
  },
  {
   "cell_type": "code",
   "execution_count": 107,
   "metadata": {},
   "outputs": [
    {
     "data": {
      "text/plain": [
       "DecisionTreeClassifier(ccp_alpha=0.0, class_weight=None, criterion='gini',\n",
       "                       max_depth=3, max_features=None, max_leaf_nodes=None,\n",
       "                       min_impurity_decrease=0.0, min_impurity_split=None,\n",
       "                       min_samples_leaf=5, min_samples_split=2,\n",
       "                       min_weight_fraction_leaf=0.0, presort='deprecated',\n",
       "                       random_state=2, splitter='best')"
      ]
     },
     "execution_count": 107,
     "metadata": {},
     "output_type": "execute_result"
    }
   ],
   "source": [
    "model_tree"
   ]
  },
  {
   "cell_type": "code",
   "execution_count": 108,
   "metadata": {},
   "outputs": [
    {
     "data": {
      "text/plain": [
       "array([0, 0, 0, 0, 0, 0, 0, 0, 0, 0, 0, 1, 0, 0, 0, 0, 0, 0, 1, 1, 0, 0,\n",
       "       0, 0, 0, 0, 0, 0, 1, 0, 0, 0, 0, 1, 0, 1, 1, 0, 0, 0, 1, 0, 1, 1,\n",
       "       0, 0, 0, 0, 1, 0, 0, 1, 1, 0, 0, 0, 0, 0, 0, 0, 1, 0, 0, 0, 1, 0,\n",
       "       0, 0, 0, 0, 0, 1, 0, 0, 0, 0, 0, 0, 0, 0, 1, 0, 0, 0, 0, 0, 1, 0,\n",
       "       0, 0, 0, 1, 0, 0, 0, 0, 0, 0, 0, 0, 0, 0, 0, 0, 0, 0, 0, 0, 0, 1,\n",
       "       0, 1, 1, 0, 0, 0, 0, 1, 0, 0, 0, 1, 0, 0, 0, 0, 0, 0, 0, 0, 1, 1,\n",
       "       1, 0, 0, 0, 0, 0, 0, 0, 0, 0, 0, 1, 0, 0, 0, 0, 0, 0, 0, 0, 1, 1,\n",
       "       0, 0, 0, 0, 1, 1, 0, 0, 0, 0, 0, 0, 0, 0, 0, 0, 1, 0, 0, 0, 0, 0,\n",
       "       0, 0, 0, 1, 0, 0, 0, 1, 1, 0, 0, 0, 0, 0, 0, 0, 0, 0, 0, 1, 0, 0,\n",
       "       0, 1, 0, 0, 0, 0, 0, 1, 0, 0, 0, 0, 1, 0, 0, 0, 0, 1, 0, 0, 0, 0,\n",
       "       0, 0, 1, 0, 0, 0, 1, 0, 0, 0, 0, 0, 0, 0, 0, 1, 0, 0, 0, 0, 0, 1,\n",
       "       0, 0, 0, 0, 0, 0, 0, 0, 1, 0, 0, 0, 0, 0], dtype=int64)"
      ]
     },
     "execution_count": 108,
     "metadata": {},
     "output_type": "execute_result"
    }
   ],
   "source": [
    "model_tree.predict(x_teste)"
   ]
  },
  {
   "cell_type": "code",
   "execution_count": 109,
   "metadata": {},
   "outputs": [
    {
     "name": "stdout",
     "output_type": "stream",
     "text": [
      "Teste:  94.92\n"
     ]
    }
   ],
   "source": [
    "y_tree_teste = model_tree.predict(x_teste)\n",
    "acc_tree_teste = round(accuracy_score(y_tree_teste,y_teste)*100,2)\n",
    "print('Teste: ',acc_tree_teste)"
   ]
  },
  {
   "cell_type": "code",
   "execution_count": 110,
   "metadata": {},
   "outputs": [
    {
     "data": {
      "image/png": "[encoded data removed]",
      "text/plain": [
       "<Figure size 432x288 with 1 Axes>"
      ]
     },
     "metadata": {
      "needs_background": "light"
     },
     "output_type": "display_data"
    }
   ],
   "source": [
    "import sklearn.metrics as metrics\n",
    "# calculate the fpr and tpr for all thresholds of the classification\n",
    "probs = model_tree.predict_proba(x_teste)\n",
    "preds = probs[:,1]\n",
    "fpr, tpr, threshold = metrics.roc_curve(y_teste, preds)\n",
    "roc_auc = metrics.auc(fpr, tpr)\n",
    "\n",
    "# method I: plt\n",
    "import matplotlib.pyplot as plt\n",
    "plt.title('Receiver Operating Characteristic')\n",
    "plt.plot(fpr, tpr, 'b', label = 'AUC = %0.2f' % roc_auc)\n",
    "plt.legend(loc = 'lower right')\n",
    "plt.plot([0, 1], [0, 1],'r--')\n",
    "plt.xlim([0, 1])\n",
    "plt.ylim([0, 1])\n",
    "plt.ylabel('True Positive Rate')\n",
    "plt.xlabel('False Positive Rate')\n",
    "plt.show()\n",
    "\n"
   ]
  },
  {
   "cell_type": "markdown",
   "metadata": {},
   "source": [
    "# Random Forest"
   ]
  },
  {
   "cell_type": "code",
   "execution_count": 111,
   "metadata": {},
   "outputs": [],
   "source": [
    "rf_grid_dc = {\n",
    "    'n_estimators': [50,100,200,300,400,500,1000],\n",
    "    'criterion': ['gini','entropy'],\n",
    "    'bootstrap': [True,False]\n",
    "}"
   ]
  },
  {
   "cell_type": "code",
   "execution_count": 112,
   "metadata": {},
   "outputs": [],
   "source": [
    "from sklearn.ensemble import RandomForestClassifier\n",
    "rf = RandomForestClassifier(random_state=2)\n"
   ]
  },
  {
   "cell_type": "code",
   "execution_count": 113,
   "metadata": {},
   "outputs": [],
   "source": [
    "from sklearn.model_selection import GridSearchCV\n",
    "rf_grid = GridSearchCV(estimator=rf,\n",
    "                      param_grid=rf_grid_dc,\n",
    "                       scoring ='accuracy',\n",
    "                       cv=5)"
   ]
  },
  {
   "cell_type": "code",
   "execution_count": 114,
   "metadata": {},
   "outputs": [
    {
     "data": {
      "text/plain": [
       "GridSearchCV(cv=5, error_score=nan,\n",
       "             estimator=RandomForestClassifier(bootstrap=True, ccp_alpha=0.0,\n",
       "                                              class_weight=None,\n",
       "                                              criterion='gini', max_depth=None,\n",
       "                                              max_features='auto',\n",
       "                                              max_leaf_nodes=None,\n",
       "                                              max_samples=None,\n",
       "                                              min_impurity_decrease=0.0,\n",
       "                                              min_impurity_split=None,\n",
       "                                              min_samples_leaf=1,\n",
       "                                              min_samples_split=2,\n",
       "                                              min_weight_fraction_leaf=0.0,\n",
       "                                              n_estimators=100, n_jobs=None,\n",
       "                                              oob_score=False, random_state=2,\n",
       "                                              verbose=0, warm_start=False),\n",
       "             iid='deprecated', n_jobs=None,\n",
       "             param_grid={'bootstrap': [True, False],\n",
       "                         'criterion': ['gini', 'entropy'],\n",
       "                         'n_estimators': [50, 100, 200, 300, 400, 500, 1000]},\n",
       "             pre_dispatch='2*n_jobs', refit=True, return_train_score=False,\n",
       "             scoring='accuracy', verbose=0)"
      ]
     },
     "execution_count": 114,
     "metadata": {},
     "output_type": "execute_result"
    }
   ],
   "source": [
    "rf_grid.fit(x_treino,y_treino)"
   ]
  },
  {
   "cell_type": "code",
   "execution_count": 115,
   "metadata": {},
   "outputs": [
    {
     "data": {
      "text/plain": [
       "{'bootstrap': True, 'criterion': 'entropy', 'n_estimators': 50}"
      ]
     },
     "execution_count": 115,
     "metadata": {},
     "output_type": "execute_result"
    }
   ],
   "source": [
    "rf_grid.best_params_"
   ]
  },
  {
   "cell_type": "code",
   "execution_count": 116,
   "metadata": {},
   "outputs": [
    {
     "data": {
      "text/plain": [
       "0.9231729055258466"
      ]
     },
     "execution_count": 116,
     "metadata": {},
     "output_type": "execute_result"
    }
   ],
   "source": [
    "rf_grid.best_score_"
   ]
  },
  {
   "cell_type": "code",
   "execution_count": 117,
   "metadata": {},
   "outputs": [],
   "source": [
    "joblib.dump(rf_grid.best_estimator_,'modelo_rf_cancelcartao_gridsearch.pkl',compress=1)\n",
    "modelo_treinado_rf = open('modelo_rf_cancelcartao_gridsearch.pkl','rb')\n",
    "model_rf = joblib.load(modelo_treinado_rf)"
   ]
  },
  {
   "cell_type": "code",
   "execution_count": 118,
   "metadata": {},
   "outputs": [
    {
     "data": {
      "text/plain": [
       "RandomForestClassifier(bootstrap=True, ccp_alpha=0.0, class_weight=None,\n",
       "                       criterion='entropy', max_depth=None, max_features='auto',\n",
       "                       max_leaf_nodes=None, max_samples=None,\n",
       "                       min_impurity_decrease=0.0, min_impurity_split=None,\n",
       "                       min_samples_leaf=1, min_samples_split=2,\n",
       "                       min_weight_fraction_leaf=0.0, n_estimators=50,\n",
       "                       n_jobs=None, oob_score=False, random_state=2, verbose=0,\n",
       "                       warm_start=False)"
      ]
     },
     "execution_count": 118,
     "metadata": {},
     "output_type": "execute_result"
    }
   ],
   "source": [
    "model_rf"
   ]
  },
  {
   "cell_type": "code",
   "execution_count": 119,
   "metadata": {},
   "outputs": [
    {
     "data": {
      "text/plain": [
       "array([0, 0, 0, 0, 0, 0, 0, 0, 0, 0, 0, 1, 0, 0, 0, 0, 0, 1, 1, 1, 0, 0,\n",
       "       0, 0, 0, 0, 0, 0, 1, 0, 0, 0, 0, 1, 0, 1, 1, 0, 0, 0, 1, 0, 1, 1,\n",
       "       0, 0, 0, 0, 1, 0, 0, 1, 1, 0, 0, 0, 0, 0, 0, 0, 1, 0, 0, 0, 1, 0,\n",
       "       0, 0, 0, 0, 0, 1, 0, 0, 0, 0, 0, 0, 0, 0, 1, 0, 0, 0, 0, 0, 1, 0,\n",
       "       0, 0, 0, 0, 0, 0, 0, 0, 0, 0, 0, 0, 0, 0, 0, 1, 0, 0, 0, 0, 0, 1,\n",
       "       0, 1, 1, 0, 0, 0, 0, 1, 0, 0, 0, 1, 0, 0, 0, 0, 0, 0, 0, 0, 1, 1,\n",
       "       1, 0, 0, 0, 0, 0, 0, 0, 0, 0, 0, 1, 0, 0, 0, 0, 0, 0, 0, 0, 1, 1,\n",
       "       0, 0, 0, 0, 1, 1, 0, 0, 0, 0, 0, 0, 0, 0, 0, 0, 1, 0, 0, 0, 0, 0,\n",
       "       0, 0, 0, 1, 0, 0, 0, 1, 1, 0, 0, 0, 0, 0, 0, 0, 0, 0, 0, 1, 0, 0,\n",
       "       0, 1, 0, 0, 0, 0, 0, 1, 0, 0, 0, 0, 1, 0, 0, 0, 0, 1, 0, 0, 0, 0,\n",
       "       0, 0, 1, 0, 0, 0, 1, 0, 0, 0, 0, 0, 0, 0, 0, 1, 0, 0, 0, 0, 0, 1,\n",
       "       1, 0, 0, 0, 0, 0, 0, 0, 1, 0, 0, 0, 0, 0], dtype=int64)"
      ]
     },
     "execution_count": 119,
     "metadata": {},
     "output_type": "execute_result"
    }
   ],
   "source": [
    "model_rf.predict(x_teste)"
   ]
  },
  {
   "cell_type": "code",
   "execution_count": 120,
   "metadata": {},
   "outputs": [
    {
     "name": "stdout",
     "output_type": "stream",
     "text": [
      "Teste:  93.36\n"
     ]
    }
   ],
   "source": [
    "y_rf_teste = model_rf.predict(x_teste)\n",
    "acc_rf_teste = round(accuracy_score(y_rf_teste,y_teste)*100,2)\n",
    "print('Teste: ',acc_rf_teste)"
   ]
  },
  {
   "cell_type": "markdown",
   "metadata": {},
   "source": [
    "# Gradient Boosting"
   ]
  },
  {
   "cell_type": "code",
   "execution_count": 654,
   "metadata": {},
   "outputs": [],
   "source": [
    "# dicionario\n",
    "gb_grid_dc = {\n",
    "    'min_samples_leaf': [1,5,10,15,20],\n",
    "    'min_samples_split': [1.0,2,3,5,10],\n",
    "    'max_depth': [1,3,5,8,12],\n",
    "    'n_estimators': [10,20,30,50,200]\n",
    "}"
   ]
  },
  {
   "cell_type": "code",
   "execution_count": 655,
   "metadata": {},
   "outputs": [],
   "source": [
    "from sklearn.ensemble import GradientBoostingClassifier\n",
    "gb = GradientBoostingClassifier(random_state=2)\n"
   ]
  },
  {
   "cell_type": "code",
   "execution_count": 656,
   "metadata": {},
   "outputs": [],
   "source": [
    "from sklearn.model_selection import GridSearchCV\n",
    "gb_grid = GridSearchCV(estimator=gb,\n",
    "                      param_grid=gb_grid_dc,\n",
    "                       cv=5)"
   ]
  },
  {
   "cell_type": "code",
   "execution_count": 657,
   "metadata": {},
   "outputs": [
    {
     "data": {
      "text/plain": [
       "GridSearchCV(cv=5, error_score=nan,\n",
       "             estimator=GradientBoostingClassifier(ccp_alpha=0.0,\n",
       "                                                  criterion='friedman_mse',\n",
       "                                                  init=None, learning_rate=0.1,\n",
       "                                                  loss='deviance', max_depth=3,\n",
       "                                                  max_features=None,\n",
       "                                                  max_leaf_nodes=None,\n",
       "                                                  min_impurity_decrease=0.0,\n",
       "                                                  min_impurity_split=None,\n",
       "                                                  min_samples_leaf=1,\n",
       "                                                  min_samples_split=2,\n",
       "                                                  min_weight_fraction_leaf=0.0,\n",
       "                                                  n_estimators=100,\n",
       "                                                  n_iter_no_c...\n",
       "                                                  presort='deprecated',\n",
       "                                                  random_state=2, subsample=1.0,\n",
       "                                                  tol=0.0001,\n",
       "                                                  validation_fraction=0.1,\n",
       "                                                  verbose=0, warm_start=False),\n",
       "             iid='deprecated', n_jobs=None,\n",
       "             param_grid={'max_depth': [1, 3, 5, 8, 12],\n",
       "                         'min_samples_leaf': [1, 5, 10, 15, 20],\n",
       "                         'min_samples_split': [1.0, 2, 3, 5, 10],\n",
       "                         'n_estimators': [10, 20, 30, 50, 200]},\n",
       "             pre_dispatch='2*n_jobs', refit=True, return_train_score=False,\n",
       "             scoring=None, verbose=0)"
      ]
     },
     "execution_count": 657,
     "metadata": {},
     "output_type": "execute_result"
    }
   ],
   "source": [
    "gb_grid.fit(x_treino,y_treino)"
   ]
  },
  {
   "cell_type": "code",
   "execution_count": 658,
   "metadata": {},
   "outputs": [
    {
     "data": {
      "text/plain": [
       "{'max_depth': 5,\n",
       " 'min_samples_leaf': 1,\n",
       " 'min_samples_split': 10,\n",
       " 'n_estimators': 30}"
      ]
     },
     "execution_count": 658,
     "metadata": {},
     "output_type": "execute_result"
    }
   ],
   "source": [
    "gb_grid.best_params_"
   ]
  },
  {
   "cell_type": "code",
   "execution_count": 659,
   "metadata": {},
   "outputs": [
    {
     "data": {
      "text/plain": [
       "0.9283846872082165"
      ]
     },
     "execution_count": 659,
     "metadata": {},
     "output_type": "execute_result"
    }
   ],
   "source": [
    "gb_grid.best_score_"
   ]
  },
  {
   "cell_type": "code",
   "execution_count": 660,
   "metadata": {},
   "outputs": [],
   "source": [
    "joblib.dump(gb_grid.best_estimator_,'modelo_gb_cancelcartao_gridsearch.pkl',compress=1)\n",
    "modelo_treinado_gb = open('modelo_gb_cancelcartao_gridsearch.pkl','rb')\n",
    "model_gb = joblib.load(modelo_treinado_gb)"
   ]
  },
  {
   "cell_type": "code",
   "execution_count": 661,
   "metadata": {},
   "outputs": [
    {
     "data": {
      "text/plain": [
       "GradientBoostingClassifier(ccp_alpha=0.0, criterion='friedman_mse', init=None,\n",
       "                           learning_rate=0.1, loss='deviance', max_depth=5,\n",
       "                           max_features=None, max_leaf_nodes=None,\n",
       "                           min_impurity_decrease=0.0, min_impurity_split=None,\n",
       "                           min_samples_leaf=1, min_samples_split=10,\n",
       "                           min_weight_fraction_leaf=0.0, n_estimators=30,\n",
       "                           n_iter_no_change=None, presort='deprecated',\n",
       "                           random_state=2, subsample=1.0, tol=0.0001,\n",
       "                           validation_fraction=0.1, verbose=0,\n",
       "                           warm_start=False)"
      ]
     },
     "execution_count": 661,
     "metadata": {},
     "output_type": "execute_result"
    }
   ],
   "source": [
    "model_gb"
   ]
  },
  {
   "cell_type": "code",
   "execution_count": 662,
   "metadata": {},
   "outputs": [
    {
     "data": {
      "text/plain": [
       "array([1, 0, 1, 0, 0, 0, 0, 0, 0, 0, 0, 1, 0, 0, 0, 0, 0, 0, 1, 1, 0, 0,\n",
       "       0, 0, 0, 0, 0, 0, 1, 0, 0, 0, 0, 1, 0, 1, 1, 0, 0, 0, 1, 0, 1, 1,\n",
       "       0, 0, 0, 0, 1, 0, 0, 1, 1, 0, 0, 0, 0, 0, 0, 0, 1, 0, 0, 0, 1, 1,\n",
       "       0, 0, 0, 0, 0, 1, 0, 0, 0, 0, 0, 0, 0, 0, 1, 0, 0, 0, 0, 0, 1, 0,\n",
       "       0, 0, 0, 1, 0, 0, 0, 0, 0, 0, 0, 0, 0, 0, 0, 0, 0, 0, 0, 0, 0, 1,\n",
       "       0, 1, 1, 0, 0, 0, 0, 1, 0, 0, 0, 1, 0, 0, 0, 0, 0, 0, 0, 0, 1, 1,\n",
       "       1, 0, 0, 0, 0, 0, 0, 0, 0, 0, 0, 1, 0, 0, 0, 0, 0, 0, 0, 0, 1, 1,\n",
       "       0, 0, 0, 0, 1, 1, 0, 0, 0, 0, 0, 0, 0, 0, 0, 0, 1, 0, 0, 0, 0, 0,\n",
       "       0, 0, 0, 1, 0, 0, 0, 1, 1, 0, 0, 0, 0, 0, 0, 0, 0, 0, 0, 1, 0, 0,\n",
       "       0, 1, 0, 0, 0, 0, 0, 1, 0, 0, 0, 0, 1, 0, 0, 0, 0, 1, 0, 0, 0, 0,\n",
       "       0, 0, 1, 0, 0, 0, 1, 0, 0, 0, 0, 0, 0, 0, 0, 1, 0, 0, 0, 0, 0, 1,\n",
       "       0, 0, 0, 0, 0, 0, 0, 0, 1, 0, 0, 0, 0, 0], dtype=int64)"
      ]
     },
     "execution_count": 662,
     "metadata": {},
     "output_type": "execute_result"
    }
   ],
   "source": [
    "model_gb.predict(x_teste)"
   ]
  },
  {
   "cell_type": "code",
   "execution_count": 663,
   "metadata": {},
   "outputs": [
    {
     "name": "stdout",
     "output_type": "stream",
     "text": [
      "Teste:  93.75\n"
     ]
    }
   ],
   "source": [
    "y_gb_teste = model_gb.predict(x_teste)\n",
    "acc_gb_teste = round(accuracy_score(y_gb_teste,y_teste)*100,2)\n",
    "print('Teste: ',acc_gb_teste)"
   ]
  },
  {
   "cell_type": "code",
   "execution_count": 748,
   "metadata": {},
   "outputs": [
    {
     "data": {
      "image/png": "[encoded data removed]",
      "text/plain": [
       "<Figure size 432x288 with 1 Axes>"
      ]
     },
     "metadata": {
      "needs_background": "light"
     },
     "output_type": "display_data"
    }
   ],
   "source": [
    "import sklearn.metrics as metrics\n",
    "# calculate the fpr and tpr for all thresholds of the classification\n",
    "probs = model_gb.predict_proba(x_teste)\n",
    "preds = probs[:,1]\n",
    "fpr, tpr, threshold = metrics.roc_curve(y_teste, preds)\n",
    "roc_auc = metrics.auc(fpr, tpr)\n",
    "\n",
    "# method I: plt\n",
    "import matplotlib.pyplot as plt\n",
    "plt.title('Receiver Operating Characteristic')\n",
    "plt.plot(fpr, tpr, 'b', label = 'AUC = %0.2f' % roc_auc)\n",
    "plt.legend(loc = 'lower right')\n",
    "plt.plot([0, 1], [0, 1],'r--')\n",
    "plt.xlim([0, 1])\n",
    "plt.ylim([0, 1])\n",
    "plt.ylabel('True Positive Rate')\n",
    "plt.xlabel('False Positive Rate')\n",
    "plt.show()"
   ]
  },
  {
   "cell_type": "markdown",
   "metadata": {},
   "source": [
    "# Neural"
   ]
  },
  {
   "cell_type": "code",
   "execution_count": 552,
   "metadata": {},
   "outputs": [],
   "source": [
    "# dicionario\n",
    "mlp_grid_dc = {\n",
    "    'max_iter': [10,100,500],\n",
    "    'tol': [0.00010,0.000010],\n",
    "    'solver': ['adam'],\n",
    "    'hidden_layer_sizes':[(20,20),(50,50),(300)],\n",
    "    'activation': ['relu']\n",
    "}"
   ]
  },
  {
   "cell_type": "code",
   "execution_count": 553,
   "metadata": {},
   "outputs": [],
   "source": [
    "from sklearn.neural_network import MLPClassifier\n",
    "mlp = MLPClassifier(verbose = False,random_state=2)\n"
   ]
  },
  {
   "cell_type": "code",
   "execution_count": 554,
   "metadata": {},
   "outputs": [],
   "source": [
    "from sklearn.model_selection import GridSearchCV\n",
    "mlp_grid = GridSearchCV(estimator=mlp,\n",
    "                      param_grid=mlp_grid_dc,\n",
    "                       cv=5)"
   ]
  },
  {
   "cell_type": "code",
   "execution_count": 555,
   "metadata": {},
   "outputs": [
    {
     "data": {
      "text/plain": [
       "GridSearchCV(cv=5, error_score=nan,\n",
       "             estimator=MLPClassifier(activation='relu', alpha=0.0001,\n",
       "                                     batch_size='auto', beta_1=0.9,\n",
       "                                     beta_2=0.999, early_stopping=False,\n",
       "                                     epsilon=1e-08, hidden_layer_sizes=(100,),\n",
       "                                     learning_rate='constant',\n",
       "                                     learning_rate_init=0.001, max_fun=15000,\n",
       "                                     max_iter=200, momentum=0.9,\n",
       "                                     n_iter_no_change=10,\n",
       "                                     nesterovs_momentum=True, power_t=0.5,\n",
       "                                     random_state=2, shuffle=True,\n",
       "                                     solver='adam', tol=0.0001,\n",
       "                                     validation_fraction=0.1, verbose=False,\n",
       "                                     warm_start=False),\n",
       "             iid='deprecated', n_jobs=None,\n",
       "             param_grid={'activation': ['relu'],\n",
       "                         'hidden_layer_sizes': [(20, 20), (50, 50), 300],\n",
       "                         'max_iter': [10, 100, 500], 'solver': ['adam'],\n",
       "                         'tol': [0.0001, 1e-05]},\n",
       "             pre_dispatch='2*n_jobs', refit=True, return_train_score=False,\n",
       "             scoring=None, verbose=0)"
      ]
     },
     "execution_count": 555,
     "metadata": {},
     "output_type": "execute_result"
    }
   ],
   "source": [
    "mlp_grid.fit(x_treino,y_treino)"
   ]
  },
  {
   "cell_type": "code",
   "execution_count": 556,
   "metadata": {},
   "outputs": [
    {
     "data": {
      "text/plain": [
       "{'activation': 'relu',\n",
       " 'hidden_layer_sizes': (50, 50),\n",
       " 'max_iter': 100,\n",
       " 'solver': 'adam',\n",
       " 'tol': 0.0001}"
      ]
     },
     "execution_count": 556,
     "metadata": {},
     "output_type": "execute_result"
    }
   ],
   "source": [
    "mlp_grid.best_params_"
   ]
  },
  {
   "cell_type": "code",
   "execution_count": 557,
   "metadata": {},
   "outputs": [
    {
     "data": {
      "text/plain": [
       "0.7290889665889667"
      ]
     },
     "execution_count": 557,
     "metadata": {},
     "output_type": "execute_result"
    }
   ],
   "source": [
    "mlp_grid.best_score_"
   ]
  },
  {
   "cell_type": "code",
   "execution_count": 558,
   "metadata": {},
   "outputs": [],
   "source": [
    "from sklearn.externals import joblib\n",
    "joblib.dump(mlp_grid.best_estimator_,'modelo_mlp_cancelcartao_gridsearch.pkl',compress=1)\n",
    "modelo_treinado_mlp = open('modelo_mlp_cancelcartao_gridsearch.pkl','rb')\n",
    "model_mlp = joblib.load(modelo_treinado_mlp)"
   ]
  },
  {
   "cell_type": "code",
   "execution_count": 559,
   "metadata": {},
   "outputs": [
    {
     "data": {
      "text/plain": [
       "MLPClassifier(activation='relu', alpha=0.0001, batch_size='auto', beta_1=0.9,\n",
       "              beta_2=0.999, early_stopping=False, epsilon=1e-08,\n",
       "              hidden_layer_sizes=(50, 50), learning_rate='constant',\n",
       "              learning_rate_init=0.001, max_fun=15000, max_iter=100,\n",
       "              momentum=0.9, n_iter_no_change=10, nesterovs_momentum=True,\n",
       "              power_t=0.5, random_state=2, shuffle=True, solver='adam',\n",
       "              tol=0.0001, validation_fraction=0.1, verbose=False,\n",
       "              warm_start=False)"
      ]
     },
     "execution_count": 559,
     "metadata": {},
     "output_type": "execute_result"
    }
   ],
   "source": [
    "model_mlp"
   ]
  },
  {
   "cell_type": "code",
   "execution_count": 560,
   "metadata": {},
   "outputs": [
    {
     "data": {
      "text/plain": [
       "array([0, 0, 0, 0, 0, 0, 0, 0, 0, 0, 0, 1, 0, 0, 0, 0, 0, 0, 0, 0, 0, 0,\n",
       "       0, 0, 0, 0, 0, 0, 0, 0, 0, 0, 0, 1, 0, 1, 1, 0, 0, 0, 0, 0, 0, 1,\n",
       "       0, 0, 0, 0, 1, 0, 0, 0, 0, 0, 1, 0, 0, 0, 0, 0, 0, 0, 0, 0, 0, 0,\n",
       "       0, 0, 0, 0, 0, 1, 0, 0, 0, 0, 0, 0, 1, 0, 0, 0, 0, 0, 0, 0, 1, 0,\n",
       "       0, 0, 1, 0, 1, 0, 0, 0, 0, 0, 0, 0, 0, 0, 1, 0, 0, 0, 1, 0, 0, 0,\n",
       "       0, 1, 0, 0, 0, 0, 0, 1, 0, 0, 0, 1, 0, 0, 0, 0, 0, 0, 0, 1, 0, 1,\n",
       "       1, 0, 0, 0, 0, 0, 0, 0, 0, 0, 0, 0, 0, 0, 0, 0, 0, 0, 0, 0, 1, 1,\n",
       "       0, 0, 0, 0, 0, 0, 0, 0, 0, 0, 0, 0, 0, 0, 0, 0, 0, 0, 0, 0, 0, 0,\n",
       "       0, 0, 0, 0, 0, 0, 0, 0, 1, 0, 0, 0, 0, 0, 0, 0, 1, 0, 0, 1, 1, 0,\n",
       "       0, 0, 0, 0, 0, 0, 0, 1, 0, 0, 0, 0, 1, 0, 0, 0, 0, 1, 0, 0, 0, 0,\n",
       "       0, 0, 1, 1, 0, 1, 0, 1, 0, 0, 0, 0, 0, 0, 0, 1, 0, 0, 0, 1, 0, 0,\n",
       "       0, 0, 0, 0, 0, 0, 0, 1, 1, 0, 0, 0, 0, 0, 0, 0, 0, 0, 0, 1, 0, 0,\n",
       "       1, 1, 1, 0, 0, 0, 1, 1, 1, 0, 0, 1, 1, 0, 0, 0, 0, 0, 0, 0, 1, 0,\n",
       "       1, 0, 1, 0, 0, 0, 0, 1, 1, 0, 0, 0, 0, 1, 0, 0, 0, 0, 0, 1, 0, 0],\n",
       "      dtype=int64)"
      ]
     },
     "execution_count": 560,
     "metadata": {},
     "output_type": "execute_result"
    }
   ],
   "source": [
    "model_mlp.predict(x_teste)"
   ]
  },
  {
   "cell_type": "code",
   "execution_count": 561,
   "metadata": {},
   "outputs": [
    {
     "name": "stdout",
     "output_type": "stream",
     "text": [
      "Teste:  79.87\n"
     ]
    }
   ],
   "source": [
    "from sklearn.metrics import accuracy_score\n",
    "y_mlp_teste = model_mlp.predict(x_teste)\n",
    "acc_mlp_teste = round(accuracy_score(y_mlp_teste,y_teste)*100,2)\n",
    "print('Teste: ',acc_mlp_teste)"
   ]
  },
  {
   "cell_type": "markdown",
   "metadata": {},
   "source": [
    "# Usar AutoML para ver se consegue resultado melhor"
   ]
  },
  {
   "cell_type": "code",
   "execution_count": 3,
   "metadata": {},
   "outputs": [],
   "source": [
    "from pycaret.classification import *"
   ]
  },
  {
   "cell_type": "code",
   "execution_count": 4,
   "metadata": {},
   "outputs": [],
   "source": [
    "base_cancel = dados = pd.read_csv('CartaoCredito_cancelamento.csv')\n",
    "base_st = dados = pd.read_csv('CartaoCredito_semtarget.csv')\n",
    "# Colocar variavel target nas base\n",
    "base_cancel['Target'] =  pd.Series(1, index=base_cancel.index)\n",
    "base_st['Target'] =  pd.Series(0, index=base_st.index)"
   ]
  },
  {
   "cell_type": "code",
   "execution_count": 5,
   "metadata": {},
   "outputs": [
    {
     "name": "stdout",
     "output_type": "stream",
     "text": [
      "(1191, 15)\n"
     ]
    }
   ],
   "source": [
    "# Empilhar bases\n",
    "dados = pd.concat([base_cancel, base_st], axis=0)\n",
    "print(dados.shape)"
   ]
  },
  {
   "cell_type": "code",
   "execution_count": 6,
   "metadata": {},
   "outputs": [
    {
     "data": {
      "text/html": [
       "<div>\n",
       "<style scoped>\n",
       "    .dataframe tbody tr th:only-of-type {\n",
       "        vertical-align: middle;\n",
       "    }\n",
       "\n",
       "    .dataframe tbody tr th {\n",
       "        vertical-align: top;\n",
       "    }\n",
       "\n",
       "    .dataframe thead th {\n",
       "        text-align: right;\n",
       "    }\n",
       "</style>\n",
       "<table border=\"1\" class=\"dataframe\">\n",
       "  <thead>\n",
       "    <tr style=\"text-align: right;\">\n",
       "      <th></th>\n",
       "      <th>ID</th>\n",
       "      <th>PerfilEconomico</th>\n",
       "      <th>Sexo</th>\n",
       "      <th>Idade</th>\n",
       "      <th>PerfilCompra</th>\n",
       "      <th>ValorCompraAnual</th>\n",
       "      <th>GastoMax</th>\n",
       "      <th>GastoMedio</th>\n",
       "      <th>UF</th>\n",
       "      <th>CidadeResidencia</th>\n",
       "      <th>RegiaodoPais</th>\n",
       "      <th>NumeroComprasOnline</th>\n",
       "      <th>MesesDesempregado</th>\n",
       "      <th>Anuidade</th>\n",
       "      <th>Target</th>\n",
       "    </tr>\n",
       "  </thead>\n",
       "  <tbody>\n",
       "    <tr>\n",
       "      <th>0</th>\n",
       "      <td>180</td>\n",
       "      <td>2</td>\n",
       "      <td>mulher</td>\n",
       "      <td>24</td>\n",
       "      <td>2</td>\n",
       "      <td>1875.000</td>\n",
       "      <td>133.929</td>\n",
       "      <td>156.250</td>\n",
       "      <td>MA</td>\n",
       "      <td>Centro Novo do Maranhão</td>\n",
       "      <td>Região Nordeste</td>\n",
       "      <td>13.021</td>\n",
       "      <td>2</td>\n",
       "      <td>251,1938708281</td>\n",
       "      <td>1</td>\n",
       "    </tr>\n",
       "    <tr>\n",
       "      <th>1</th>\n",
       "      <td>119</td>\n",
       "      <td>3</td>\n",
       "      <td>mulher</td>\n",
       "      <td>22</td>\n",
       "      <td>0</td>\n",
       "      <td>725.000</td>\n",
       "      <td>51.786</td>\n",
       "      <td>60.417</td>\n",
       "      <td>PI</td>\n",
       "      <td>Amarante</td>\n",
       "      <td>Região Nordeste</td>\n",
       "      <td>5.492</td>\n",
       "      <td>13</td>\n",
       "      <td>233,5439410115</td>\n",
       "      <td>1</td>\n",
       "    </tr>\n",
       "    <tr>\n",
       "      <th>2</th>\n",
       "      <td>274</td>\n",
       "      <td>3</td>\n",
       "      <td>homem</td>\n",
       "      <td>22</td>\n",
       "      <td>0</td>\n",
       "      <td>72292.000</td>\n",
       "      <td>5163.714</td>\n",
       "      <td>6024.333</td>\n",
       "      <td>MT</td>\n",
       "      <td>Santo Antônio do Leverger</td>\n",
       "      <td>Região Centro-Oeste</td>\n",
       "      <td>547.667</td>\n",
       "      <td>2</td>\n",
       "      <td>275,4369442974</td>\n",
       "      <td>1</td>\n",
       "    </tr>\n",
       "  </tbody>\n",
       "</table>\n",
       "</div>"
      ],
      "text/plain": [
       "    ID  PerfilEconomico    Sexo  Idade  PerfilCompra  ValorCompraAnual  GastoMax  GastoMedio  UF           CidadeResidencia         RegiaodoPais  NumeroComprasOnline  MesesDesempregado        Anuidade  Target\n",
       "0  180                2  mulher     24             2          1875.000   133.929     156.250  MA    Centro Novo do Maranhão      Região Nordeste               13.021                  2  251,1938708281       1\n",
       "1  119                3  mulher     22             0           725.000    51.786      60.417  PI                   Amarante      Região Nordeste                5.492                 13  233,5439410115       1\n",
       "2  274                3   homem     22             0         72292.000  5163.714    6024.333  MT  Santo Antônio do Leverger  Região Centro-Oeste              547.667                  2  275,4369442974       1"
      ]
     },
     "execution_count": 6,
     "metadata": {},
     "output_type": "execute_result"
    }
   ],
   "source": [
    "dados.head(3)"
   ]
  },
  {
   "cell_type": "code",
   "execution_count": 7,
   "metadata": {},
   "outputs": [],
   "source": [
    "cols_ignored = ['ID','CidadeResidencia']\n",
    "num_vars = ['Idade', 'ValorCompraAnual', 'GastoMax', 'GastoMedio','NumeroComprasOnline','MesesDesempregado','Anuidade']\n",
    "cat_vars = ['PerfilEconomico', 'Sexo', 'PerfilCompra', 'UF','RegiaodoPais']"
   ]
  },
  {
   "cell_type": "code",
   "execution_count": 8,
   "metadata": {},
   "outputs": [],
   "source": [
    "# Converter anuidade para float\n",
    "dados.Anuidade = dados.Anuidade.str.replace(',', '.').astype(float)"
   ]
  },
  {
   "cell_type": "code",
   "execution_count": 9,
   "metadata": {},
   "outputs": [
    {
     "data": {
      "text/plain": [
       "Index(['ID', 'PerfilEconomico', 'Sexo', 'Idade', 'PerfilCompra', 'ValorCompraAnual', 'GastoMax', 'GastoMedio', 'UF', 'CidadeResidencia', 'RegiaodoPais', 'NumeroComprasOnline', 'MesesDesempregado', 'Anuidade', 'Target'], dtype='object')"
      ]
     },
     "execution_count": 9,
     "metadata": {},
     "output_type": "execute_result"
    }
   ],
   "source": [
    "dados.columns"
   ]
  },
  {
   "cell_type": "code",
   "execution_count": 10,
   "metadata": {},
   "outputs": [
    {
     "name": "stdout",
     "output_type": "stream",
     "text": [
      " \n",
      "Setup Succesfully Completed!\n"
     ]
    },
    {
     "data": {
      "text/html": [
       "<style  type=\"text/css\" >\n",
       "    #T_6cff60ba_909a_11ea_933a_2c56dc96683drow4_col1 {\n",
       "            background-color:  lightgreen;\n",
       "        }</style><table id=\"T_6cff60ba_909a_11ea_933a_2c56dc96683d\" ><thead>    <tr>        <th class=\"blank level0\" ></th>        <th class=\"col_heading level0 col0\" >Description</th>        <th class=\"col_heading level0 col1\" >Value</th>    </tr></thead><tbody>\n",
       "                <tr>\n",
       "                        <th id=\"T_6cff60ba_909a_11ea_933a_2c56dc96683dlevel0_row0\" class=\"row_heading level0 row0\" >0</th>\n",
       "                        <td id=\"T_6cff60ba_909a_11ea_933a_2c56dc96683drow0_col0\" class=\"data row0 col0\" >session_id</td>\n",
       "                        <td id=\"T_6cff60ba_909a_11ea_933a_2c56dc96683drow0_col1\" class=\"data row0 col1\" >42</td>\n",
       "            </tr>\n",
       "            <tr>\n",
       "                        <th id=\"T_6cff60ba_909a_11ea_933a_2c56dc96683dlevel0_row1\" class=\"row_heading level0 row1\" >1</th>\n",
       "                        <td id=\"T_6cff60ba_909a_11ea_933a_2c56dc96683drow1_col0\" class=\"data row1 col0\" >Target Type</td>\n",
       "                        <td id=\"T_6cff60ba_909a_11ea_933a_2c56dc96683drow1_col1\" class=\"data row1 col1\" >Binary</td>\n",
       "            </tr>\n",
       "            <tr>\n",
       "                        <th id=\"T_6cff60ba_909a_11ea_933a_2c56dc96683dlevel0_row2\" class=\"row_heading level0 row2\" >2</th>\n",
       "                        <td id=\"T_6cff60ba_909a_11ea_933a_2c56dc96683drow2_col0\" class=\"data row2 col0\" >Label Encoded</td>\n",
       "                        <td id=\"T_6cff60ba_909a_11ea_933a_2c56dc96683drow2_col1\" class=\"data row2 col1\" >None</td>\n",
       "            </tr>\n",
       "            <tr>\n",
       "                        <th id=\"T_6cff60ba_909a_11ea_933a_2c56dc96683dlevel0_row3\" class=\"row_heading level0 row3\" >3</th>\n",
       "                        <td id=\"T_6cff60ba_909a_11ea_933a_2c56dc96683drow3_col0\" class=\"data row3 col0\" >Original Data</td>\n",
       "                        <td id=\"T_6cff60ba_909a_11ea_933a_2c56dc96683drow3_col1\" class=\"data row3 col1\" >(1191, 15)</td>\n",
       "            </tr>\n",
       "            <tr>\n",
       "                        <th id=\"T_6cff60ba_909a_11ea_933a_2c56dc96683dlevel0_row4\" class=\"row_heading level0 row4\" >4</th>\n",
       "                        <td id=\"T_6cff60ba_909a_11ea_933a_2c56dc96683drow4_col0\" class=\"data row4 col0\" >Missing Values </td>\n",
       "                        <td id=\"T_6cff60ba_909a_11ea_933a_2c56dc96683drow4_col1\" class=\"data row4 col1\" >True</td>\n",
       "            </tr>\n",
       "            <tr>\n",
       "                        <th id=\"T_6cff60ba_909a_11ea_933a_2c56dc96683dlevel0_row5\" class=\"row_heading level0 row5\" >5</th>\n",
       "                        <td id=\"T_6cff60ba_909a_11ea_933a_2c56dc96683drow5_col0\" class=\"data row5 col0\" >Numeric Features </td>\n",
       "                        <td id=\"T_6cff60ba_909a_11ea_933a_2c56dc96683drow5_col1\" class=\"data row5 col1\" >8</td>\n",
       "            </tr>\n",
       "            <tr>\n",
       "                        <th id=\"T_6cff60ba_909a_11ea_933a_2c56dc96683dlevel0_row6\" class=\"row_heading level0 row6\" >6</th>\n",
       "                        <td id=\"T_6cff60ba_909a_11ea_933a_2c56dc96683drow6_col0\" class=\"data row6 col0\" >Categorical Features </td>\n",
       "                        <td id=\"T_6cff60ba_909a_11ea_933a_2c56dc96683drow6_col1\" class=\"data row6 col1\" >6</td>\n",
       "            </tr>\n",
       "            <tr>\n",
       "                        <th id=\"T_6cff60ba_909a_11ea_933a_2c56dc96683dlevel0_row7\" class=\"row_heading level0 row7\" >7</th>\n",
       "                        <td id=\"T_6cff60ba_909a_11ea_933a_2c56dc96683drow7_col0\" class=\"data row7 col0\" >Ordinal Features </td>\n",
       "                        <td id=\"T_6cff60ba_909a_11ea_933a_2c56dc96683drow7_col1\" class=\"data row7 col1\" >False</td>\n",
       "            </tr>\n",
       "            <tr>\n",
       "                        <th id=\"T_6cff60ba_909a_11ea_933a_2c56dc96683dlevel0_row8\" class=\"row_heading level0 row8\" >8</th>\n",
       "                        <td id=\"T_6cff60ba_909a_11ea_933a_2c56dc96683drow8_col0\" class=\"data row8 col0\" >High Cardinality Features </td>\n",
       "                        <td id=\"T_6cff60ba_909a_11ea_933a_2c56dc96683drow8_col1\" class=\"data row8 col1\" >False</td>\n",
       "            </tr>\n",
       "            <tr>\n",
       "                        <th id=\"T_6cff60ba_909a_11ea_933a_2c56dc96683dlevel0_row9\" class=\"row_heading level0 row9\" >9</th>\n",
       "                        <td id=\"T_6cff60ba_909a_11ea_933a_2c56dc96683drow9_col0\" class=\"data row9 col0\" >High Cardinality Method </td>\n",
       "                        <td id=\"T_6cff60ba_909a_11ea_933a_2c56dc96683drow9_col1\" class=\"data row9 col1\" >None</td>\n",
       "            </tr>\n",
       "            <tr>\n",
       "                        <th id=\"T_6cff60ba_909a_11ea_933a_2c56dc96683dlevel0_row10\" class=\"row_heading level0 row10\" >10</th>\n",
       "                        <td id=\"T_6cff60ba_909a_11ea_933a_2c56dc96683drow10_col0\" class=\"data row10 col0\" >Sampled Data</td>\n",
       "                        <td id=\"T_6cff60ba_909a_11ea_933a_2c56dc96683drow10_col1\" class=\"data row10 col1\" >(1191, 15)</td>\n",
       "            </tr>\n",
       "            <tr>\n",
       "                        <th id=\"T_6cff60ba_909a_11ea_933a_2c56dc96683dlevel0_row11\" class=\"row_heading level0 row11\" >11</th>\n",
       "                        <td id=\"T_6cff60ba_909a_11ea_933a_2c56dc96683drow11_col0\" class=\"data row11 col0\" >Transformed Train Set</td>\n",
       "                        <td id=\"T_6cff60ba_909a_11ea_933a_2c56dc96683drow11_col1\" class=\"data row11 col1\" >(833, 48)</td>\n",
       "            </tr>\n",
       "            <tr>\n",
       "                        <th id=\"T_6cff60ba_909a_11ea_933a_2c56dc96683dlevel0_row12\" class=\"row_heading level0 row12\" >12</th>\n",
       "                        <td id=\"T_6cff60ba_909a_11ea_933a_2c56dc96683drow12_col0\" class=\"data row12 col0\" >Transformed Test Set</td>\n",
       "                        <td id=\"T_6cff60ba_909a_11ea_933a_2c56dc96683drow12_col1\" class=\"data row12 col1\" >(358, 48)</td>\n",
       "            </tr>\n",
       "            <tr>\n",
       "                        <th id=\"T_6cff60ba_909a_11ea_933a_2c56dc96683dlevel0_row13\" class=\"row_heading level0 row13\" >13</th>\n",
       "                        <td id=\"T_6cff60ba_909a_11ea_933a_2c56dc96683drow13_col0\" class=\"data row13 col0\" >Numeric Imputer </td>\n",
       "                        <td id=\"T_6cff60ba_909a_11ea_933a_2c56dc96683drow13_col1\" class=\"data row13 col1\" >median</td>\n",
       "            </tr>\n",
       "            <tr>\n",
       "                        <th id=\"T_6cff60ba_909a_11ea_933a_2c56dc96683dlevel0_row14\" class=\"row_heading level0 row14\" >14</th>\n",
       "                        <td id=\"T_6cff60ba_909a_11ea_933a_2c56dc96683drow14_col0\" class=\"data row14 col0\" >Categorical Imputer </td>\n",
       "                        <td id=\"T_6cff60ba_909a_11ea_933a_2c56dc96683drow14_col1\" class=\"data row14 col1\" >constant</td>\n",
       "            </tr>\n",
       "            <tr>\n",
       "                        <th id=\"T_6cff60ba_909a_11ea_933a_2c56dc96683dlevel0_row15\" class=\"row_heading level0 row15\" >15</th>\n",
       "                        <td id=\"T_6cff60ba_909a_11ea_933a_2c56dc96683drow15_col0\" class=\"data row15 col0\" >Normalize </td>\n",
       "                        <td id=\"T_6cff60ba_909a_11ea_933a_2c56dc96683drow15_col1\" class=\"data row15 col1\" >False</td>\n",
       "            </tr>\n",
       "            <tr>\n",
       "                        <th id=\"T_6cff60ba_909a_11ea_933a_2c56dc96683dlevel0_row16\" class=\"row_heading level0 row16\" >16</th>\n",
       "                        <td id=\"T_6cff60ba_909a_11ea_933a_2c56dc96683drow16_col0\" class=\"data row16 col0\" >Normalize Method </td>\n",
       "                        <td id=\"T_6cff60ba_909a_11ea_933a_2c56dc96683drow16_col1\" class=\"data row16 col1\" >None</td>\n",
       "            </tr>\n",
       "            <tr>\n",
       "                        <th id=\"T_6cff60ba_909a_11ea_933a_2c56dc96683dlevel0_row17\" class=\"row_heading level0 row17\" >17</th>\n",
       "                        <td id=\"T_6cff60ba_909a_11ea_933a_2c56dc96683drow17_col0\" class=\"data row17 col0\" >Transformation </td>\n",
       "                        <td id=\"T_6cff60ba_909a_11ea_933a_2c56dc96683drow17_col1\" class=\"data row17 col1\" >False</td>\n",
       "            </tr>\n",
       "            <tr>\n",
       "                        <th id=\"T_6cff60ba_909a_11ea_933a_2c56dc96683dlevel0_row18\" class=\"row_heading level0 row18\" >18</th>\n",
       "                        <td id=\"T_6cff60ba_909a_11ea_933a_2c56dc96683drow18_col0\" class=\"data row18 col0\" >Transformation Method </td>\n",
       "                        <td id=\"T_6cff60ba_909a_11ea_933a_2c56dc96683drow18_col1\" class=\"data row18 col1\" >None</td>\n",
       "            </tr>\n",
       "            <tr>\n",
       "                        <th id=\"T_6cff60ba_909a_11ea_933a_2c56dc96683dlevel0_row19\" class=\"row_heading level0 row19\" >19</th>\n",
       "                        <td id=\"T_6cff60ba_909a_11ea_933a_2c56dc96683drow19_col0\" class=\"data row19 col0\" >PCA </td>\n",
       "                        <td id=\"T_6cff60ba_909a_11ea_933a_2c56dc96683drow19_col1\" class=\"data row19 col1\" >False</td>\n",
       "            </tr>\n",
       "            <tr>\n",
       "                        <th id=\"T_6cff60ba_909a_11ea_933a_2c56dc96683dlevel0_row20\" class=\"row_heading level0 row20\" >20</th>\n",
       "                        <td id=\"T_6cff60ba_909a_11ea_933a_2c56dc96683drow20_col0\" class=\"data row20 col0\" >PCA Method </td>\n",
       "                        <td id=\"T_6cff60ba_909a_11ea_933a_2c56dc96683drow20_col1\" class=\"data row20 col1\" >None</td>\n",
       "            </tr>\n",
       "            <tr>\n",
       "                        <th id=\"T_6cff60ba_909a_11ea_933a_2c56dc96683dlevel0_row21\" class=\"row_heading level0 row21\" >21</th>\n",
       "                        <td id=\"T_6cff60ba_909a_11ea_933a_2c56dc96683drow21_col0\" class=\"data row21 col0\" >PCA Components </td>\n",
       "                        <td id=\"T_6cff60ba_909a_11ea_933a_2c56dc96683drow21_col1\" class=\"data row21 col1\" >None</td>\n",
       "            </tr>\n",
       "            <tr>\n",
       "                        <th id=\"T_6cff60ba_909a_11ea_933a_2c56dc96683dlevel0_row22\" class=\"row_heading level0 row22\" >22</th>\n",
       "                        <td id=\"T_6cff60ba_909a_11ea_933a_2c56dc96683drow22_col0\" class=\"data row22 col0\" >Ignore Low Variance </td>\n",
       "                        <td id=\"T_6cff60ba_909a_11ea_933a_2c56dc96683drow22_col1\" class=\"data row22 col1\" >False</td>\n",
       "            </tr>\n",
       "            <tr>\n",
       "                        <th id=\"T_6cff60ba_909a_11ea_933a_2c56dc96683dlevel0_row23\" class=\"row_heading level0 row23\" >23</th>\n",
       "                        <td id=\"T_6cff60ba_909a_11ea_933a_2c56dc96683drow23_col0\" class=\"data row23 col0\" >Combine Rare Levels </td>\n",
       "                        <td id=\"T_6cff60ba_909a_11ea_933a_2c56dc96683drow23_col1\" class=\"data row23 col1\" >False</td>\n",
       "            </tr>\n",
       "            <tr>\n",
       "                        <th id=\"T_6cff60ba_909a_11ea_933a_2c56dc96683dlevel0_row24\" class=\"row_heading level0 row24\" >24</th>\n",
       "                        <td id=\"T_6cff60ba_909a_11ea_933a_2c56dc96683drow24_col0\" class=\"data row24 col0\" >Rare Level Threshold </td>\n",
       "                        <td id=\"T_6cff60ba_909a_11ea_933a_2c56dc96683drow24_col1\" class=\"data row24 col1\" >None</td>\n",
       "            </tr>\n",
       "            <tr>\n",
       "                        <th id=\"T_6cff60ba_909a_11ea_933a_2c56dc96683dlevel0_row25\" class=\"row_heading level0 row25\" >25</th>\n",
       "                        <td id=\"T_6cff60ba_909a_11ea_933a_2c56dc96683drow25_col0\" class=\"data row25 col0\" >Numeric Binning </td>\n",
       "                        <td id=\"T_6cff60ba_909a_11ea_933a_2c56dc96683drow25_col1\" class=\"data row25 col1\" >False</td>\n",
       "            </tr>\n",
       "            <tr>\n",
       "                        <th id=\"T_6cff60ba_909a_11ea_933a_2c56dc96683dlevel0_row26\" class=\"row_heading level0 row26\" >26</th>\n",
       "                        <td id=\"T_6cff60ba_909a_11ea_933a_2c56dc96683drow26_col0\" class=\"data row26 col0\" >Remove Outliers </td>\n",
       "                        <td id=\"T_6cff60ba_909a_11ea_933a_2c56dc96683drow26_col1\" class=\"data row26 col1\" >False</td>\n",
       "            </tr>\n",
       "            <tr>\n",
       "                        <th id=\"T_6cff60ba_909a_11ea_933a_2c56dc96683dlevel0_row27\" class=\"row_heading level0 row27\" >27</th>\n",
       "                        <td id=\"T_6cff60ba_909a_11ea_933a_2c56dc96683drow27_col0\" class=\"data row27 col0\" >Outliers Threshold </td>\n",
       "                        <td id=\"T_6cff60ba_909a_11ea_933a_2c56dc96683drow27_col1\" class=\"data row27 col1\" >None</td>\n",
       "            </tr>\n",
       "            <tr>\n",
       "                        <th id=\"T_6cff60ba_909a_11ea_933a_2c56dc96683dlevel0_row28\" class=\"row_heading level0 row28\" >28</th>\n",
       "                        <td id=\"T_6cff60ba_909a_11ea_933a_2c56dc96683drow28_col0\" class=\"data row28 col0\" >Remove Multicollinearity </td>\n",
       "                        <td id=\"T_6cff60ba_909a_11ea_933a_2c56dc96683drow28_col1\" class=\"data row28 col1\" >False</td>\n",
       "            </tr>\n",
       "            <tr>\n",
       "                        <th id=\"T_6cff60ba_909a_11ea_933a_2c56dc96683dlevel0_row29\" class=\"row_heading level0 row29\" >29</th>\n",
       "                        <td id=\"T_6cff60ba_909a_11ea_933a_2c56dc96683drow29_col0\" class=\"data row29 col0\" >Multicollinearity Threshold </td>\n",
       "                        <td id=\"T_6cff60ba_909a_11ea_933a_2c56dc96683drow29_col1\" class=\"data row29 col1\" >None</td>\n",
       "            </tr>\n",
       "            <tr>\n",
       "                        <th id=\"T_6cff60ba_909a_11ea_933a_2c56dc96683dlevel0_row30\" class=\"row_heading level0 row30\" >30</th>\n",
       "                        <td id=\"T_6cff60ba_909a_11ea_933a_2c56dc96683drow30_col0\" class=\"data row30 col0\" >Clustering </td>\n",
       "                        <td id=\"T_6cff60ba_909a_11ea_933a_2c56dc96683drow30_col1\" class=\"data row30 col1\" >False</td>\n",
       "            </tr>\n",
       "            <tr>\n",
       "                        <th id=\"T_6cff60ba_909a_11ea_933a_2c56dc96683dlevel0_row31\" class=\"row_heading level0 row31\" >31</th>\n",
       "                        <td id=\"T_6cff60ba_909a_11ea_933a_2c56dc96683drow31_col0\" class=\"data row31 col0\" >Clustering Iteration </td>\n",
       "                        <td id=\"T_6cff60ba_909a_11ea_933a_2c56dc96683drow31_col1\" class=\"data row31 col1\" >None</td>\n",
       "            </tr>\n",
       "            <tr>\n",
       "                        <th id=\"T_6cff60ba_909a_11ea_933a_2c56dc96683dlevel0_row32\" class=\"row_heading level0 row32\" >32</th>\n",
       "                        <td id=\"T_6cff60ba_909a_11ea_933a_2c56dc96683drow32_col0\" class=\"data row32 col0\" >Polynomial Features </td>\n",
       "                        <td id=\"T_6cff60ba_909a_11ea_933a_2c56dc96683drow32_col1\" class=\"data row32 col1\" >False</td>\n",
       "            </tr>\n",
       "            <tr>\n",
       "                        <th id=\"T_6cff60ba_909a_11ea_933a_2c56dc96683dlevel0_row33\" class=\"row_heading level0 row33\" >33</th>\n",
       "                        <td id=\"T_6cff60ba_909a_11ea_933a_2c56dc96683drow33_col0\" class=\"data row33 col0\" >Polynomial Degree </td>\n",
       "                        <td id=\"T_6cff60ba_909a_11ea_933a_2c56dc96683drow33_col1\" class=\"data row33 col1\" >None</td>\n",
       "            </tr>\n",
       "            <tr>\n",
       "                        <th id=\"T_6cff60ba_909a_11ea_933a_2c56dc96683dlevel0_row34\" class=\"row_heading level0 row34\" >34</th>\n",
       "                        <td id=\"T_6cff60ba_909a_11ea_933a_2c56dc96683drow34_col0\" class=\"data row34 col0\" >Trignometry Features </td>\n",
       "                        <td id=\"T_6cff60ba_909a_11ea_933a_2c56dc96683drow34_col1\" class=\"data row34 col1\" >False</td>\n",
       "            </tr>\n",
       "            <tr>\n",
       "                        <th id=\"T_6cff60ba_909a_11ea_933a_2c56dc96683dlevel0_row35\" class=\"row_heading level0 row35\" >35</th>\n",
       "                        <td id=\"T_6cff60ba_909a_11ea_933a_2c56dc96683drow35_col0\" class=\"data row35 col0\" >Polynomial Threshold </td>\n",
       "                        <td id=\"T_6cff60ba_909a_11ea_933a_2c56dc96683drow35_col1\" class=\"data row35 col1\" >None</td>\n",
       "            </tr>\n",
       "            <tr>\n",
       "                        <th id=\"T_6cff60ba_909a_11ea_933a_2c56dc96683dlevel0_row36\" class=\"row_heading level0 row36\" >36</th>\n",
       "                        <td id=\"T_6cff60ba_909a_11ea_933a_2c56dc96683drow36_col0\" class=\"data row36 col0\" >Group Features </td>\n",
       "                        <td id=\"T_6cff60ba_909a_11ea_933a_2c56dc96683drow36_col1\" class=\"data row36 col1\" >False</td>\n",
       "            </tr>\n",
       "            <tr>\n",
       "                        <th id=\"T_6cff60ba_909a_11ea_933a_2c56dc96683dlevel0_row37\" class=\"row_heading level0 row37\" >37</th>\n",
       "                        <td id=\"T_6cff60ba_909a_11ea_933a_2c56dc96683drow37_col0\" class=\"data row37 col0\" >Feature Selection </td>\n",
       "                        <td id=\"T_6cff60ba_909a_11ea_933a_2c56dc96683drow37_col1\" class=\"data row37 col1\" >False</td>\n",
       "            </tr>\n",
       "            <tr>\n",
       "                        <th id=\"T_6cff60ba_909a_11ea_933a_2c56dc96683dlevel0_row38\" class=\"row_heading level0 row38\" >38</th>\n",
       "                        <td id=\"T_6cff60ba_909a_11ea_933a_2c56dc96683drow38_col0\" class=\"data row38 col0\" >Features Selection Threshold </td>\n",
       "                        <td id=\"T_6cff60ba_909a_11ea_933a_2c56dc96683drow38_col1\" class=\"data row38 col1\" >None</td>\n",
       "            </tr>\n",
       "            <tr>\n",
       "                        <th id=\"T_6cff60ba_909a_11ea_933a_2c56dc96683dlevel0_row39\" class=\"row_heading level0 row39\" >39</th>\n",
       "                        <td id=\"T_6cff60ba_909a_11ea_933a_2c56dc96683drow39_col0\" class=\"data row39 col0\" >Feature Interaction </td>\n",
       "                        <td id=\"T_6cff60ba_909a_11ea_933a_2c56dc96683drow39_col1\" class=\"data row39 col1\" >False</td>\n",
       "            </tr>\n",
       "            <tr>\n",
       "                        <th id=\"T_6cff60ba_909a_11ea_933a_2c56dc96683dlevel0_row40\" class=\"row_heading level0 row40\" >40</th>\n",
       "                        <td id=\"T_6cff60ba_909a_11ea_933a_2c56dc96683drow40_col0\" class=\"data row40 col0\" >Feature Ratio </td>\n",
       "                        <td id=\"T_6cff60ba_909a_11ea_933a_2c56dc96683drow40_col1\" class=\"data row40 col1\" >False</td>\n",
       "            </tr>\n",
       "            <tr>\n",
       "                        <th id=\"T_6cff60ba_909a_11ea_933a_2c56dc96683dlevel0_row41\" class=\"row_heading level0 row41\" >41</th>\n",
       "                        <td id=\"T_6cff60ba_909a_11ea_933a_2c56dc96683drow41_col0\" class=\"data row41 col0\" >Interaction Threshold </td>\n",
       "                        <td id=\"T_6cff60ba_909a_11ea_933a_2c56dc96683drow41_col1\" class=\"data row41 col1\" >None</td>\n",
       "            </tr>\n",
       "    </tbody></table>"
      ],
      "text/plain": [
       "<pandas.io.formats.style.Styler at 0x1c3fd4c8f48>"
      ]
     },
     "metadata": {},
     "output_type": "display_data"
    }
   ],
   "source": [
    "dados_setup = setup(data=dados, target='Target', session_id=42, train_size=0.7,\n",
    "                      ignore_features=cols_ignored,\n",
    "                      numeric_features=num_vars,\n",
    "                      numeric_imputation='median',\n",
    "                      categorical_features=cat_vars,\n",
    "                      categorical_imputation='constant')"
   ]
  },
  {
   "cell_type": "code",
   "execution_count": 11,
   "metadata": {},
   "outputs": [
    {
     "data": {
      "text/html": [
       "<div>\n",
       "<style scoped>\n",
       "    .dataframe tbody tr th:only-of-type {\n",
       "        vertical-align: middle;\n",
       "    }\n",
       "\n",
       "    .dataframe tbody tr th {\n",
       "        vertical-align: top;\n",
       "    }\n",
       "\n",
       "    .dataframe thead th {\n",
       "        text-align: right;\n",
       "    }\n",
       "</style>\n",
       "<table border=\"1\" class=\"dataframe\">\n",
       "  <thead>\n",
       "    <tr style=\"text-align: right;\">\n",
       "      <th></th>\n",
       "      <th>Idade</th>\n",
       "      <th>ValorCompraAnual</th>\n",
       "      <th>GastoMedio</th>\n",
       "      <th>NumeroComprasOnline</th>\n",
       "      <th>MesesDesempregado</th>\n",
       "      <th>Anuidade</th>\n",
       "      <th>PerfilEconomico_1</th>\n",
       "      <th>PerfilEconomico_2</th>\n",
       "      <th>PerfilEconomico_3</th>\n",
       "      <th>Sexo_homem</th>\n",
       "      <th>...</th>\n",
       "      <th>UF_RS</th>\n",
       "      <th>UF_SC</th>\n",
       "      <th>UF_SE</th>\n",
       "      <th>UF_SP</th>\n",
       "      <th>UF_TO</th>\n",
       "      <th>RegiaodoPais_Região Centro-Oeste</th>\n",
       "      <th>RegiaodoPais_Região Nordeste</th>\n",
       "      <th>RegiaodoPais_Região Norte</th>\n",
       "      <th>RegiaodoPais_Região Sudeste</th>\n",
       "      <th>RegiaodoPais_Região Sul</th>\n",
       "    </tr>\n",
       "  </thead>\n",
       "  <tbody>\n",
       "    <tr>\n",
       "      <th>0</th>\n",
       "      <td>24.000</td>\n",
       "      <td>1875.000</td>\n",
       "      <td>156.250</td>\n",
       "      <td>13.021</td>\n",
       "      <td>2.000</td>\n",
       "      <td>251.194</td>\n",
       "      <td>0.000</td>\n",
       "      <td>1.000</td>\n",
       "      <td>0.000</td>\n",
       "      <td>0.000</td>\n",
       "      <td>...</td>\n",
       "      <td>0.000</td>\n",
       "      <td>0.000</td>\n",
       "      <td>0.000</td>\n",
       "      <td>0.000</td>\n",
       "      <td>0.000</td>\n",
       "      <td>0.000</td>\n",
       "      <td>1.000</td>\n",
       "      <td>0.000</td>\n",
       "      <td>0.000</td>\n",
       "      <td>0.000</td>\n",
       "    </tr>\n",
       "    <tr>\n",
       "      <th>1</th>\n",
       "      <td>22.000</td>\n",
       "      <td>725.000</td>\n",
       "      <td>60.417</td>\n",
       "      <td>5.492</td>\n",
       "      <td>13.000</td>\n",
       "      <td>233.544</td>\n",
       "      <td>0.000</td>\n",
       "      <td>0.000</td>\n",
       "      <td>1.000</td>\n",
       "      <td>0.000</td>\n",
       "      <td>...</td>\n",
       "      <td>0.000</td>\n",
       "      <td>0.000</td>\n",
       "      <td>0.000</td>\n",
       "      <td>0.000</td>\n",
       "      <td>0.000</td>\n",
       "      <td>0.000</td>\n",
       "      <td>1.000</td>\n",
       "      <td>0.000</td>\n",
       "      <td>0.000</td>\n",
       "      <td>0.000</td>\n",
       "    </tr>\n",
       "    <tr>\n",
       "      <th>2</th>\n",
       "      <td>22.000</td>\n",
       "      <td>72292.000</td>\n",
       "      <td>6024.333</td>\n",
       "      <td>547.667</td>\n",
       "      <td>2.000</td>\n",
       "      <td>275.437</td>\n",
       "      <td>0.000</td>\n",
       "      <td>0.000</td>\n",
       "      <td>1.000</td>\n",
       "      <td>1.000</td>\n",
       "      <td>...</td>\n",
       "      <td>0.000</td>\n",
       "      <td>0.000</td>\n",
       "      <td>0.000</td>\n",
       "      <td>0.000</td>\n",
       "      <td>0.000</td>\n",
       "      <td>1.000</td>\n",
       "      <td>0.000</td>\n",
       "      <td>0.000</td>\n",
       "      <td>0.000</td>\n",
       "      <td>0.000</td>\n",
       "    </tr>\n",
       "    <tr>\n",
       "      <th>3</th>\n",
       "      <td>22.000</td>\n",
       "      <td>155.000</td>\n",
       "      <td>12.917</td>\n",
       "      <td>1.174</td>\n",
       "      <td>13.000</td>\n",
       "      <td>2.003</td>\n",
       "      <td>0.000</td>\n",
       "      <td>0.000</td>\n",
       "      <td>1.000</td>\n",
       "      <td>1.000</td>\n",
       "      <td>...</td>\n",
       "      <td>0.000</td>\n",
       "      <td>0.000</td>\n",
       "      <td>0.000</td>\n",
       "      <td>0.000</td>\n",
       "      <td>0.000</td>\n",
       "      <td>0.000</td>\n",
       "      <td>0.000</td>\n",
       "      <td>0.000</td>\n",
       "      <td>0.000</td>\n",
       "      <td>1.000</td>\n",
       "    </tr>\n",
       "    <tr>\n",
       "      <th>4</th>\n",
       "      <td>15.000</td>\n",
       "      <td>26.000</td>\n",
       "      <td>2.167</td>\n",
       "      <td>0.289</td>\n",
       "      <td>7.000</td>\n",
       "      <td>249.335</td>\n",
       "      <td>0.000</td>\n",
       "      <td>1.000</td>\n",
       "      <td>0.000</td>\n",
       "      <td>0.000</td>\n",
       "      <td>...</td>\n",
       "      <td>0.000</td>\n",
       "      <td>0.000</td>\n",
       "      <td>0.000</td>\n",
       "      <td>1.000</td>\n",
       "      <td>0.000</td>\n",
       "      <td>0.000</td>\n",
       "      <td>0.000</td>\n",
       "      <td>0.000</td>\n",
       "      <td>1.000</td>\n",
       "      <td>0.000</td>\n",
       "    </tr>\n",
       "    <tr>\n",
       "      <th>...</th>\n",
       "      <td>...</td>\n",
       "      <td>...</td>\n",
       "      <td>...</td>\n",
       "      <td>...</td>\n",
       "      <td>...</td>\n",
       "      <td>...</td>\n",
       "      <td>...</td>\n",
       "      <td>...</td>\n",
       "      <td>...</td>\n",
       "      <td>...</td>\n",
       "      <td>...</td>\n",
       "      <td>...</td>\n",
       "      <td>...</td>\n",
       "      <td>...</td>\n",
       "      <td>...</td>\n",
       "      <td>...</td>\n",
       "      <td>...</td>\n",
       "      <td>...</td>\n",
       "      <td>...</td>\n",
       "      <td>...</td>\n",
       "      <td>...</td>\n",
       "    </tr>\n",
       "    <tr>\n",
       "      <th>886</th>\n",
       "      <td>27.000</td>\n",
       "      <td>13.000</td>\n",
       "      <td>1.083</td>\n",
       "      <td>0.080</td>\n",
       "      <td>4.000</td>\n",
       "      <td>39.625</td>\n",
       "      <td>0.000</td>\n",
       "      <td>1.000</td>\n",
       "      <td>0.000</td>\n",
       "      <td>1.000</td>\n",
       "      <td>...</td>\n",
       "      <td>0.000</td>\n",
       "      <td>0.000</td>\n",
       "      <td>0.000</td>\n",
       "      <td>0.000</td>\n",
       "      <td>0.000</td>\n",
       "      <td>0.000</td>\n",
       "      <td>1.000</td>\n",
       "      <td>0.000</td>\n",
       "      <td>0.000</td>\n",
       "      <td>0.000</td>\n",
       "    </tr>\n",
       "    <tr>\n",
       "      <th>887</th>\n",
       "      <td>19.000</td>\n",
       "      <td>30.000</td>\n",
       "      <td>2.500</td>\n",
       "      <td>0.263</td>\n",
       "      <td>1.000</td>\n",
       "      <td>69.138</td>\n",
       "      <td>1.000</td>\n",
       "      <td>0.000</td>\n",
       "      <td>0.000</td>\n",
       "      <td>0.000</td>\n",
       "      <td>...</td>\n",
       "      <td>0.000</td>\n",
       "      <td>0.000</td>\n",
       "      <td>0.000</td>\n",
       "      <td>0.000</td>\n",
       "      <td>0.000</td>\n",
       "      <td>0.000</td>\n",
       "      <td>1.000</td>\n",
       "      <td>0.000</td>\n",
       "      <td>0.000</td>\n",
       "      <td>0.000</td>\n",
       "    </tr>\n",
       "    <tr>\n",
       "      <th>888</th>\n",
       "      <td>35.000</td>\n",
       "      <td>2345.000</td>\n",
       "      <td>195.417</td>\n",
       "      <td>11.167</td>\n",
       "      <td>6.000</td>\n",
       "      <td>11.445</td>\n",
       "      <td>0.000</td>\n",
       "      <td>0.000</td>\n",
       "      <td>1.000</td>\n",
       "      <td>0.000</td>\n",
       "      <td>...</td>\n",
       "      <td>0.000</td>\n",
       "      <td>0.000</td>\n",
       "      <td>0.000</td>\n",
       "      <td>0.000</td>\n",
       "      <td>0.000</td>\n",
       "      <td>0.000</td>\n",
       "      <td>0.000</td>\n",
       "      <td>1.000</td>\n",
       "      <td>0.000</td>\n",
       "      <td>0.000</td>\n",
       "    </tr>\n",
       "    <tr>\n",
       "      <th>889</th>\n",
       "      <td>26.000</td>\n",
       "      <td>30.000</td>\n",
       "      <td>2.500</td>\n",
       "      <td>0.192</td>\n",
       "      <td>7.000</td>\n",
       "      <td>1.466</td>\n",
       "      <td>1.000</td>\n",
       "      <td>0.000</td>\n",
       "      <td>0.000</td>\n",
       "      <td>1.000</td>\n",
       "      <td>...</td>\n",
       "      <td>0.000</td>\n",
       "      <td>0.000</td>\n",
       "      <td>0.000</td>\n",
       "      <td>0.000</td>\n",
       "      <td>0.000</td>\n",
       "      <td>0.000</td>\n",
       "      <td>1.000</td>\n",
       "      <td>0.000</td>\n",
       "      <td>0.000</td>\n",
       "      <td>0.000</td>\n",
       "    </tr>\n",
       "    <tr>\n",
       "      <th>890</th>\n",
       "      <td>32.000</td>\n",
       "      <td>775.000</td>\n",
       "      <td>64.583</td>\n",
       "      <td>4.036</td>\n",
       "      <td>5.000</td>\n",
       "      <td>32.435</td>\n",
       "      <td>0.000</td>\n",
       "      <td>0.000</td>\n",
       "      <td>1.000</td>\n",
       "      <td>1.000</td>\n",
       "      <td>...</td>\n",
       "      <td>0.000</td>\n",
       "      <td>0.000</td>\n",
       "      <td>0.000</td>\n",
       "      <td>0.000</td>\n",
       "      <td>0.000</td>\n",
       "      <td>0.000</td>\n",
       "      <td>1.000</td>\n",
       "      <td>0.000</td>\n",
       "      <td>0.000</td>\n",
       "      <td>0.000</td>\n",
       "    </tr>\n",
       "  </tbody>\n",
       "</table>\n",
       "<p>1191 rows × 48 columns</p>\n",
       "</div>"
      ],
      "text/plain": [
       "     Idade  ValorCompraAnual  GastoMedio  NumeroComprasOnline  MesesDesempregado  Anuidade  PerfilEconomico_1  PerfilEconomico_2  PerfilEconomico_3  Sexo_homem  ...  UF_RS  UF_SC  UF_SE  UF_SP  UF_TO  RegiaodoPais_Região Centro-Oeste  RegiaodoPais_Região Nordeste  RegiaodoPais_Região Norte  RegiaodoPais_Região Sudeste  RegiaodoPais_Região Sul\n",
       "0   24.000          1875.000     156.250               13.021              2.000   251.194              0.000              1.000              0.000       0.000  ...  0.000  0.000  0.000  0.000  0.000                             0.000                         1.000                      0.000                        0.000                    0.000\n",
       "1   22.000           725.000      60.417                5.492             13.000   233.544              0.000              0.000              1.000       0.000  ...  0.000  0.000  0.000  0.000  0.000                             0.000                         1.000                      0.000                        0.000                    0.000\n",
       "2   22.000         72292.000    6024.333              547.667              2.000   275.437              0.000              0.000              1.000       1.000  ...  0.000  0.000  0.000  0.000  0.000                             1.000                         0.000                      0.000                        0.000                    0.000\n",
       "3   22.000           155.000      12.917                1.174             13.000     2.003              0.000              0.000              1.000       1.000  ...  0.000  0.000  0.000  0.000  0.000                             0.000                         0.000                      0.000                        0.000                    1.000\n",
       "4   15.000            26.000       2.167                0.289              7.000   249.335              0.000              1.000              0.000       0.000  ...  0.000  0.000  0.000  1.000  0.000                             0.000                         0.000                      0.000                        1.000                    0.000\n",
       "..     ...               ...         ...                  ...                ...       ...                ...                ...                ...         ...  ...    ...    ...    ...    ...    ...                               ...                           ...                        ...                          ...                      ...\n",
       "886 27.000            13.000       1.083                0.080              4.000    39.625              0.000              1.000              0.000       1.000  ...  0.000  0.000  0.000  0.000  0.000                             0.000                         1.000                      0.000                        0.000                    0.000\n",
       "887 19.000            30.000       2.500                0.263              1.000    69.138              1.000              0.000              0.000       0.000  ...  0.000  0.000  0.000  0.000  0.000                             0.000                         1.000                      0.000                        0.000                    0.000\n",
       "888 35.000          2345.000     195.417               11.167              6.000    11.445              0.000              0.000              1.000       0.000  ...  0.000  0.000  0.000  0.000  0.000                             0.000                         0.000                      1.000                        0.000                    0.000\n",
       "889 26.000            30.000       2.500                0.192              7.000     1.466              1.000              0.000              0.000       1.000  ...  0.000  0.000  0.000  0.000  0.000                             0.000                         1.000                      0.000                        0.000                    0.000\n",
       "890 32.000           775.000      64.583                4.036              5.000    32.435              0.000              0.000              1.000       1.000  ...  0.000  0.000  0.000  0.000  0.000                             0.000                         1.000                      0.000                        0.000                    0.000\n",
       "\n",
       "[1191 rows x 48 columns]"
      ]
     },
     "execution_count": 11,
     "metadata": {},
     "output_type": "execute_result"
    }
   ],
   "source": [
    "dados_setup[0]"
   ]
  },
  {
   "cell_type": "code",
   "execution_count": 12,
   "metadata": {},
   "outputs": [
    {
     "data": {
      "text/plain": [
       "[pandas.core.frame.DataFrame,\n",
       " pandas.core.series.Series,\n",
       " pandas.core.frame.DataFrame,\n",
       " pandas.core.frame.DataFrame,\n",
       " pandas.core.series.Series,\n",
       " pandas.core.series.Series,\n",
       " int,\n",
       " sklearn.pipeline.Pipeline,\n",
       " list]"
      ]
     },
     "execution_count": 12,
     "metadata": {},
     "output_type": "execute_result"
    }
   ],
   "source": [
    "[type(x) for x in dados_setup]"
   ]
  },
  {
   "cell_type": "code",
   "execution_count": 14,
   "metadata": {},
   "outputs": [
    {
     "data": {
      "text/html": [
       "<style  type=\"text/css\" >\n",
       "    #T_a6d8edda_909a_11ea_b215_2c56dc96683d th {\n",
       "          text-align: left;\n",
       "    }    #T_a6d8edda_909a_11ea_b215_2c56dc96683drow0_col0 {\n",
       "            text-align:  left;\n",
       "        }    #T_a6d8edda_909a_11ea_b215_2c56dc96683drow0_col1 {\n",
       "            background-color:  yellow;\n",
       "            text-align:  left;\n",
       "        }    #T_a6d8edda_909a_11ea_b215_2c56dc96683drow0_col2 {\n",
       "            : ;\n",
       "            text-align:  left;\n",
       "        }    #T_a6d8edda_909a_11ea_b215_2c56dc96683drow0_col3 {\n",
       "            : ;\n",
       "            text-align:  left;\n",
       "        }    #T_a6d8edda_909a_11ea_b215_2c56dc96683drow0_col4 {\n",
       "            background-color:  yellow;\n",
       "            text-align:  left;\n",
       "        }    #T_a6d8edda_909a_11ea_b215_2c56dc96683drow0_col5 {\n",
       "            background-color:  yellow;\n",
       "            text-align:  left;\n",
       "        }    #T_a6d8edda_909a_11ea_b215_2c56dc96683drow0_col6 {\n",
       "            background-color:  yellow;\n",
       "            text-align:  left;\n",
       "        }    #T_a6d8edda_909a_11ea_b215_2c56dc96683drow1_col0 {\n",
       "            text-align:  left;\n",
       "        }    #T_a6d8edda_909a_11ea_b215_2c56dc96683drow1_col1 {\n",
       "            : ;\n",
       "            text-align:  left;\n",
       "        }    #T_a6d8edda_909a_11ea_b215_2c56dc96683drow1_col2 {\n",
       "            background-color:  yellow;\n",
       "            text-align:  left;\n",
       "        }    #T_a6d8edda_909a_11ea_b215_2c56dc96683drow1_col3 {\n",
       "            : ;\n",
       "            text-align:  left;\n",
       "        }    #T_a6d8edda_909a_11ea_b215_2c56dc96683drow1_col4 {\n",
       "            : ;\n",
       "            text-align:  left;\n",
       "        }    #T_a6d8edda_909a_11ea_b215_2c56dc96683drow1_col5 {\n",
       "            : ;\n",
       "            text-align:  left;\n",
       "        }    #T_a6d8edda_909a_11ea_b215_2c56dc96683drow1_col6 {\n",
       "            : ;\n",
       "            text-align:  left;\n",
       "        }    #T_a6d8edda_909a_11ea_b215_2c56dc96683drow2_col0 {\n",
       "            text-align:  left;\n",
       "        }    #T_a6d8edda_909a_11ea_b215_2c56dc96683drow2_col1 {\n",
       "            : ;\n",
       "            text-align:  left;\n",
       "        }    #T_a6d8edda_909a_11ea_b215_2c56dc96683drow2_col2 {\n",
       "            : ;\n",
       "            text-align:  left;\n",
       "        }    #T_a6d8edda_909a_11ea_b215_2c56dc96683drow2_col3 {\n",
       "            : ;\n",
       "            text-align:  left;\n",
       "        }    #T_a6d8edda_909a_11ea_b215_2c56dc96683drow2_col4 {\n",
       "            : ;\n",
       "            text-align:  left;\n",
       "        }    #T_a6d8edda_909a_11ea_b215_2c56dc96683drow2_col5 {\n",
       "            : ;\n",
       "            text-align:  left;\n",
       "        }    #T_a6d8edda_909a_11ea_b215_2c56dc96683drow2_col6 {\n",
       "            : ;\n",
       "            text-align:  left;\n",
       "        }    #T_a6d8edda_909a_11ea_b215_2c56dc96683drow3_col0 {\n",
       "            text-align:  left;\n",
       "        }    #T_a6d8edda_909a_11ea_b215_2c56dc96683drow3_col1 {\n",
       "            : ;\n",
       "            text-align:  left;\n",
       "        }    #T_a6d8edda_909a_11ea_b215_2c56dc96683drow3_col2 {\n",
       "            : ;\n",
       "            text-align:  left;\n",
       "        }    #T_a6d8edda_909a_11ea_b215_2c56dc96683drow3_col3 {\n",
       "            : ;\n",
       "            text-align:  left;\n",
       "        }    #T_a6d8edda_909a_11ea_b215_2c56dc96683drow3_col4 {\n",
       "            : ;\n",
       "            text-align:  left;\n",
       "        }    #T_a6d8edda_909a_11ea_b215_2c56dc96683drow3_col5 {\n",
       "            : ;\n",
       "            text-align:  left;\n",
       "        }    #T_a6d8edda_909a_11ea_b215_2c56dc96683drow3_col6 {\n",
       "            : ;\n",
       "            text-align:  left;\n",
       "        }    #T_a6d8edda_909a_11ea_b215_2c56dc96683drow4_col0 {\n",
       "            text-align:  left;\n",
       "        }    #T_a6d8edda_909a_11ea_b215_2c56dc96683drow4_col1 {\n",
       "            : ;\n",
       "            text-align:  left;\n",
       "        }    #T_a6d8edda_909a_11ea_b215_2c56dc96683drow4_col2 {\n",
       "            : ;\n",
       "            text-align:  left;\n",
       "        }    #T_a6d8edda_909a_11ea_b215_2c56dc96683drow4_col3 {\n",
       "            : ;\n",
       "            text-align:  left;\n",
       "        }    #T_a6d8edda_909a_11ea_b215_2c56dc96683drow4_col4 {\n",
       "            : ;\n",
       "            text-align:  left;\n",
       "        }    #T_a6d8edda_909a_11ea_b215_2c56dc96683drow4_col5 {\n",
       "            : ;\n",
       "            text-align:  left;\n",
       "        }    #T_a6d8edda_909a_11ea_b215_2c56dc96683drow4_col6 {\n",
       "            : ;\n",
       "            text-align:  left;\n",
       "        }    #T_a6d8edda_909a_11ea_b215_2c56dc96683drow5_col0 {\n",
       "            text-align:  left;\n",
       "        }    #T_a6d8edda_909a_11ea_b215_2c56dc96683drow5_col1 {\n",
       "            : ;\n",
       "            text-align:  left;\n",
       "        }    #T_a6d8edda_909a_11ea_b215_2c56dc96683drow5_col2 {\n",
       "            : ;\n",
       "            text-align:  left;\n",
       "        }    #T_a6d8edda_909a_11ea_b215_2c56dc96683drow5_col3 {\n",
       "            : ;\n",
       "            text-align:  left;\n",
       "        }    #T_a6d8edda_909a_11ea_b215_2c56dc96683drow5_col4 {\n",
       "            : ;\n",
       "            text-align:  left;\n",
       "        }    #T_a6d8edda_909a_11ea_b215_2c56dc96683drow5_col5 {\n",
       "            : ;\n",
       "            text-align:  left;\n",
       "        }    #T_a6d8edda_909a_11ea_b215_2c56dc96683drow5_col6 {\n",
       "            : ;\n",
       "            text-align:  left;\n",
       "        }    #T_a6d8edda_909a_11ea_b215_2c56dc96683drow6_col0 {\n",
       "            text-align:  left;\n",
       "        }    #T_a6d8edda_909a_11ea_b215_2c56dc96683drow6_col1 {\n",
       "            : ;\n",
       "            text-align:  left;\n",
       "        }    #T_a6d8edda_909a_11ea_b215_2c56dc96683drow6_col2 {\n",
       "            : ;\n",
       "            text-align:  left;\n",
       "        }    #T_a6d8edda_909a_11ea_b215_2c56dc96683drow6_col3 {\n",
       "            : ;\n",
       "            text-align:  left;\n",
       "        }    #T_a6d8edda_909a_11ea_b215_2c56dc96683drow6_col4 {\n",
       "            : ;\n",
       "            text-align:  left;\n",
       "        }    #T_a6d8edda_909a_11ea_b215_2c56dc96683drow6_col5 {\n",
       "            : ;\n",
       "            text-align:  left;\n",
       "        }    #T_a6d8edda_909a_11ea_b215_2c56dc96683drow6_col6 {\n",
       "            : ;\n",
       "            text-align:  left;\n",
       "        }    #T_a6d8edda_909a_11ea_b215_2c56dc96683drow7_col0 {\n",
       "            text-align:  left;\n",
       "        }    #T_a6d8edda_909a_11ea_b215_2c56dc96683drow7_col1 {\n",
       "            : ;\n",
       "            text-align:  left;\n",
       "        }    #T_a6d8edda_909a_11ea_b215_2c56dc96683drow7_col2 {\n",
       "            : ;\n",
       "            text-align:  left;\n",
       "        }    #T_a6d8edda_909a_11ea_b215_2c56dc96683drow7_col3 {\n",
       "            : ;\n",
       "            text-align:  left;\n",
       "        }    #T_a6d8edda_909a_11ea_b215_2c56dc96683drow7_col4 {\n",
       "            : ;\n",
       "            text-align:  left;\n",
       "        }    #T_a6d8edda_909a_11ea_b215_2c56dc96683drow7_col5 {\n",
       "            : ;\n",
       "            text-align:  left;\n",
       "        }    #T_a6d8edda_909a_11ea_b215_2c56dc96683drow7_col6 {\n",
       "            : ;\n",
       "            text-align:  left;\n",
       "        }    #T_a6d8edda_909a_11ea_b215_2c56dc96683drow8_col0 {\n",
       "            text-align:  left;\n",
       "        }    #T_a6d8edda_909a_11ea_b215_2c56dc96683drow8_col1 {\n",
       "            : ;\n",
       "            text-align:  left;\n",
       "        }    #T_a6d8edda_909a_11ea_b215_2c56dc96683drow8_col2 {\n",
       "            : ;\n",
       "            text-align:  left;\n",
       "        }    #T_a6d8edda_909a_11ea_b215_2c56dc96683drow8_col3 {\n",
       "            : ;\n",
       "            text-align:  left;\n",
       "        }    #T_a6d8edda_909a_11ea_b215_2c56dc96683drow8_col4 {\n",
       "            : ;\n",
       "            text-align:  left;\n",
       "        }    #T_a6d8edda_909a_11ea_b215_2c56dc96683drow8_col5 {\n",
       "            : ;\n",
       "            text-align:  left;\n",
       "        }    #T_a6d8edda_909a_11ea_b215_2c56dc96683drow8_col6 {\n",
       "            : ;\n",
       "            text-align:  left;\n",
       "        }    #T_a6d8edda_909a_11ea_b215_2c56dc96683drow9_col0 {\n",
       "            text-align:  left;\n",
       "        }    #T_a6d8edda_909a_11ea_b215_2c56dc96683drow9_col1 {\n",
       "            : ;\n",
       "            text-align:  left;\n",
       "        }    #T_a6d8edda_909a_11ea_b215_2c56dc96683drow9_col2 {\n",
       "            : ;\n",
       "            text-align:  left;\n",
       "        }    #T_a6d8edda_909a_11ea_b215_2c56dc96683drow9_col3 {\n",
       "            : ;\n",
       "            text-align:  left;\n",
       "        }    #T_a6d8edda_909a_11ea_b215_2c56dc96683drow9_col4 {\n",
       "            : ;\n",
       "            text-align:  left;\n",
       "        }    #T_a6d8edda_909a_11ea_b215_2c56dc96683drow9_col5 {\n",
       "            : ;\n",
       "            text-align:  left;\n",
       "        }    #T_a6d8edda_909a_11ea_b215_2c56dc96683drow9_col6 {\n",
       "            : ;\n",
       "            text-align:  left;\n",
       "        }    #T_a6d8edda_909a_11ea_b215_2c56dc96683drow10_col0 {\n",
       "            text-align:  left;\n",
       "        }    #T_a6d8edda_909a_11ea_b215_2c56dc96683drow10_col1 {\n",
       "            : ;\n",
       "            text-align:  left;\n",
       "        }    #T_a6d8edda_909a_11ea_b215_2c56dc96683drow10_col2 {\n",
       "            : ;\n",
       "            text-align:  left;\n",
       "        }    #T_a6d8edda_909a_11ea_b215_2c56dc96683drow10_col3 {\n",
       "            : ;\n",
       "            text-align:  left;\n",
       "        }    #T_a6d8edda_909a_11ea_b215_2c56dc96683drow10_col4 {\n",
       "            : ;\n",
       "            text-align:  left;\n",
       "        }    #T_a6d8edda_909a_11ea_b215_2c56dc96683drow10_col5 {\n",
       "            : ;\n",
       "            text-align:  left;\n",
       "        }    #T_a6d8edda_909a_11ea_b215_2c56dc96683drow10_col6 {\n",
       "            : ;\n",
       "            text-align:  left;\n",
       "        }    #T_a6d8edda_909a_11ea_b215_2c56dc96683drow11_col0 {\n",
       "            text-align:  left;\n",
       "        }    #T_a6d8edda_909a_11ea_b215_2c56dc96683drow11_col1 {\n",
       "            : ;\n",
       "            text-align:  left;\n",
       "        }    #T_a6d8edda_909a_11ea_b215_2c56dc96683drow11_col2 {\n",
       "            : ;\n",
       "            text-align:  left;\n",
       "        }    #T_a6d8edda_909a_11ea_b215_2c56dc96683drow11_col3 {\n",
       "            : ;\n",
       "            text-align:  left;\n",
       "        }    #T_a6d8edda_909a_11ea_b215_2c56dc96683drow11_col4 {\n",
       "            : ;\n",
       "            text-align:  left;\n",
       "        }    #T_a6d8edda_909a_11ea_b215_2c56dc96683drow11_col5 {\n",
       "            : ;\n",
       "            text-align:  left;\n",
       "        }    #T_a6d8edda_909a_11ea_b215_2c56dc96683drow11_col6 {\n",
       "            : ;\n",
       "            text-align:  left;\n",
       "        }    #T_a6d8edda_909a_11ea_b215_2c56dc96683drow12_col0 {\n",
       "            text-align:  left;\n",
       "        }    #T_a6d8edda_909a_11ea_b215_2c56dc96683drow12_col1 {\n",
       "            : ;\n",
       "            text-align:  left;\n",
       "        }    #T_a6d8edda_909a_11ea_b215_2c56dc96683drow12_col2 {\n",
       "            : ;\n",
       "            text-align:  left;\n",
       "        }    #T_a6d8edda_909a_11ea_b215_2c56dc96683drow12_col3 {\n",
       "            : ;\n",
       "            text-align:  left;\n",
       "        }    #T_a6d8edda_909a_11ea_b215_2c56dc96683drow12_col4 {\n",
       "            : ;\n",
       "            text-align:  left;\n",
       "        }    #T_a6d8edda_909a_11ea_b215_2c56dc96683drow12_col5 {\n",
       "            : ;\n",
       "            text-align:  left;\n",
       "        }    #T_a6d8edda_909a_11ea_b215_2c56dc96683drow12_col6 {\n",
       "            : ;\n",
       "            text-align:  left;\n",
       "        }    #T_a6d8edda_909a_11ea_b215_2c56dc96683drow13_col0 {\n",
       "            text-align:  left;\n",
       "        }    #T_a6d8edda_909a_11ea_b215_2c56dc96683drow13_col1 {\n",
       "            : ;\n",
       "            text-align:  left;\n",
       "        }    #T_a6d8edda_909a_11ea_b215_2c56dc96683drow13_col2 {\n",
       "            : ;\n",
       "            text-align:  left;\n",
       "        }    #T_a6d8edda_909a_11ea_b215_2c56dc96683drow13_col3 {\n",
       "            background-color:  yellow;\n",
       "            text-align:  left;\n",
       "        }    #T_a6d8edda_909a_11ea_b215_2c56dc96683drow13_col4 {\n",
       "            : ;\n",
       "            text-align:  left;\n",
       "        }    #T_a6d8edda_909a_11ea_b215_2c56dc96683drow13_col5 {\n",
       "            : ;\n",
       "            text-align:  left;\n",
       "        }    #T_a6d8edda_909a_11ea_b215_2c56dc96683drow13_col6 {\n",
       "            : ;\n",
       "            text-align:  left;\n",
       "        }</style><table id=\"T_a6d8edda_909a_11ea_b215_2c56dc96683d\" ><thead>    <tr>        <th class=\"blank level0\" ></th>        <th class=\"col_heading level0 col0\" >Model</th>        <th class=\"col_heading level0 col1\" >Accuracy</th>        <th class=\"col_heading level0 col2\" >AUC</th>        <th class=\"col_heading level0 col3\" >Recall</th>        <th class=\"col_heading level0 col4\" >Prec.</th>        <th class=\"col_heading level0 col5\" >F1</th>        <th class=\"col_heading level0 col6\" >Kappa</th>    </tr></thead><tbody>\n",
       "                <tr>\n",
       "                        <th id=\"T_a6d8edda_909a_11ea_b215_2c56dc96683dlevel0_row0\" class=\"row_heading level0 row0\" >0</th>\n",
       "                        <td id=\"T_a6d8edda_909a_11ea_b215_2c56dc96683drow0_col0\" class=\"data row0 col0\" >Extreme Gradient Boosting</td>\n",
       "                        <td id=\"T_a6d8edda_909a_11ea_b215_2c56dc96683drow0_col1\" class=\"data row0 col1\" >0.9388</td>\n",
       "                        <td id=\"T_a6d8edda_909a_11ea_b215_2c56dc96683drow0_col2\" class=\"data row0 col2\" >0.8745</td>\n",
       "                        <td id=\"T_a6d8edda_909a_11ea_b215_2c56dc96683drow0_col3\" class=\"data row0 col3\" >0.7667</td>\n",
       "                        <td id=\"T_a6d8edda_909a_11ea_b215_2c56dc96683drow0_col4\" class=\"data row0 col4\" >0.9879</td>\n",
       "                        <td id=\"T_a6d8edda_909a_11ea_b215_2c56dc96683drow0_col5\" class=\"data row0 col5\" >0.8617</td>\n",
       "                        <td id=\"T_a6d8edda_909a_11ea_b215_2c56dc96683drow0_col6\" class=\"data row0 col6\" >0.8234</td>\n",
       "            </tr>\n",
       "            <tr>\n",
       "                        <th id=\"T_a6d8edda_909a_11ea_b215_2c56dc96683dlevel0_row1\" class=\"row_heading level0 row1\" >1</th>\n",
       "                        <td id=\"T_a6d8edda_909a_11ea_b215_2c56dc96683drow1_col0\" class=\"data row1 col0\" >CatBoost Classifier</td>\n",
       "                        <td id=\"T_a6d8edda_909a_11ea_b215_2c56dc96683drow1_col1\" class=\"data row1 col1\" >0.9376</td>\n",
       "                        <td id=\"T_a6d8edda_909a_11ea_b215_2c56dc96683drow1_col2\" class=\"data row1 col2\" >0.882</td>\n",
       "                        <td id=\"T_a6d8edda_909a_11ea_b215_2c56dc96683drow1_col3\" class=\"data row1 col3\" >0.7667</td>\n",
       "                        <td id=\"T_a6d8edda_909a_11ea_b215_2c56dc96683drow1_col4\" class=\"data row1 col4\" >0.9823</td>\n",
       "                        <td id=\"T_a6d8edda_909a_11ea_b215_2c56dc96683drow1_col5\" class=\"data row1 col5\" >0.8594</td>\n",
       "                        <td id=\"T_a6d8edda_909a_11ea_b215_2c56dc96683drow1_col6\" class=\"data row1 col6\" >0.8203</td>\n",
       "            </tr>\n",
       "            <tr>\n",
       "                        <th id=\"T_a6d8edda_909a_11ea_b215_2c56dc96683dlevel0_row2\" class=\"row_heading level0 row2\" >2</th>\n",
       "                        <td id=\"T_a6d8edda_909a_11ea_b215_2c56dc96683drow2_col0\" class=\"data row2 col0\" >Gradient Boosting Classifier</td>\n",
       "                        <td id=\"T_a6d8edda_909a_11ea_b215_2c56dc96683drow2_col1\" class=\"data row2 col1\" >0.9339</td>\n",
       "                        <td id=\"T_a6d8edda_909a_11ea_b215_2c56dc96683drow2_col2\" class=\"data row2 col2\" >0.8677</td>\n",
       "                        <td id=\"T_a6d8edda_909a_11ea_b215_2c56dc96683drow2_col3\" class=\"data row2 col3\" >0.7667</td>\n",
       "                        <td id=\"T_a6d8edda_909a_11ea_b215_2c56dc96683drow2_col4\" class=\"data row2 col4\" >0.9674</td>\n",
       "                        <td id=\"T_a6d8edda_909a_11ea_b215_2c56dc96683drow2_col5\" class=\"data row2 col5\" >0.8529</td>\n",
       "                        <td id=\"T_a6d8edda_909a_11ea_b215_2c56dc96683drow2_col6\" class=\"data row2 col6\" >0.8112</td>\n",
       "            </tr>\n",
       "            <tr>\n",
       "                        <th id=\"T_a6d8edda_909a_11ea_b215_2c56dc96683dlevel0_row3\" class=\"row_heading level0 row3\" >3</th>\n",
       "                        <td id=\"T_a6d8edda_909a_11ea_b215_2c56dc96683drow3_col0\" class=\"data row3 col0\" >Random Forest Classifier</td>\n",
       "                        <td id=\"T_a6d8edda_909a_11ea_b215_2c56dc96683drow3_col1\" class=\"data row3 col1\" >0.9255</td>\n",
       "                        <td id=\"T_a6d8edda_909a_11ea_b215_2c56dc96683drow3_col2\" class=\"data row3 col2\" >0.8492</td>\n",
       "                        <td id=\"T_a6d8edda_909a_11ea_b215_2c56dc96683drow3_col3\" class=\"data row3 col3\" >0.7619</td>\n",
       "                        <td id=\"T_a6d8edda_909a_11ea_b215_2c56dc96683drow3_col4\" class=\"data row3 col4\" >0.9329</td>\n",
       "                        <td id=\"T_a6d8edda_909a_11ea_b215_2c56dc96683drow3_col5\" class=\"data row3 col5\" >0.837</td>\n",
       "                        <td id=\"T_a6d8edda_909a_11ea_b215_2c56dc96683drow3_col6\" class=\"data row3 col6\" >0.7895</td>\n",
       "            </tr>\n",
       "            <tr>\n",
       "                        <th id=\"T_a6d8edda_909a_11ea_b215_2c56dc96683dlevel0_row4\" class=\"row_heading level0 row4\" >4</th>\n",
       "                        <td id=\"T_a6d8edda_909a_11ea_b215_2c56dc96683drow4_col0\" class=\"data row4 col0\" >Ada Boost Classifier</td>\n",
       "                        <td id=\"T_a6d8edda_909a_11ea_b215_2c56dc96683drow4_col1\" class=\"data row4 col1\" >0.9244</td>\n",
       "                        <td id=\"T_a6d8edda_909a_11ea_b215_2c56dc96683drow4_col2\" class=\"data row4 col2\" >0.8617</td>\n",
       "                        <td id=\"T_a6d8edda_909a_11ea_b215_2c56dc96683drow4_col3\" class=\"data row4 col3\" >0.7524</td>\n",
       "                        <td id=\"T_a6d8edda_909a_11ea_b215_2c56dc96683drow4_col4\" class=\"data row4 col4\" >0.9372</td>\n",
       "                        <td id=\"T_a6d8edda_909a_11ea_b215_2c56dc96683drow4_col5\" class=\"data row4 col5\" >0.8327</td>\n",
       "                        <td id=\"T_a6d8edda_909a_11ea_b215_2c56dc96683drow4_col6\" class=\"data row4 col6\" >0.7848</td>\n",
       "            </tr>\n",
       "            <tr>\n",
       "                        <th id=\"T_a6d8edda_909a_11ea_b215_2c56dc96683dlevel0_row5\" class=\"row_heading level0 row5\" >5</th>\n",
       "                        <td id=\"T_a6d8edda_909a_11ea_b215_2c56dc96683drow5_col0\" class=\"data row5 col0\" >Decision Tree Classifier</td>\n",
       "                        <td id=\"T_a6d8edda_909a_11ea_b215_2c56dc96683drow5_col1\" class=\"data row5 col1\" >0.8883</td>\n",
       "                        <td id=\"T_a6d8edda_909a_11ea_b215_2c56dc96683drow5_col2\" class=\"data row5 col2\" >0.8559</td>\n",
       "                        <td id=\"T_a6d8edda_909a_11ea_b215_2c56dc96683drow5_col3\" class=\"data row5 col3\" >0.7905</td>\n",
       "                        <td id=\"T_a6d8edda_909a_11ea_b215_2c56dc96683drow5_col4\" class=\"data row5 col4\" >0.7877</td>\n",
       "                        <td id=\"T_a6d8edda_909a_11ea_b215_2c56dc96683drow5_col5\" class=\"data row5 col5\" >0.7832</td>\n",
       "                        <td id=\"T_a6d8edda_909a_11ea_b215_2c56dc96683drow5_col6\" class=\"data row5 col6\" >0.7085</td>\n",
       "            </tr>\n",
       "            <tr>\n",
       "                        <th id=\"T_a6d8edda_909a_11ea_b215_2c56dc96683dlevel0_row6\" class=\"row_heading level0 row6\" >6</th>\n",
       "                        <td id=\"T_a6d8edda_909a_11ea_b215_2c56dc96683drow6_col0\" class=\"data row6 col0\" >Ridge Classifier</td>\n",
       "                        <td id=\"T_a6d8edda_909a_11ea_b215_2c56dc96683drow6_col1\" class=\"data row6 col1\" >0.8787</td>\n",
       "                        <td id=\"T_a6d8edda_909a_11ea_b215_2c56dc96683drow6_col2\" class=\"data row6 col2\" >0</td>\n",
       "                        <td id=\"T_a6d8edda_909a_11ea_b215_2c56dc96683drow6_col3\" class=\"data row6 col3\" >0.5476</td>\n",
       "                        <td id=\"T_a6d8edda_909a_11ea_b215_2c56dc96683drow6_col4\" class=\"data row6 col4\" >0.9542</td>\n",
       "                        <td id=\"T_a6d8edda_909a_11ea_b215_2c56dc96683drow6_col5\" class=\"data row6 col5\" >0.6921</td>\n",
       "                        <td id=\"T_a6d8edda_909a_11ea_b215_2c56dc96683drow6_col6\" class=\"data row6 col6\" >0.6241</td>\n",
       "            </tr>\n",
       "            <tr>\n",
       "                        <th id=\"T_a6d8edda_909a_11ea_b215_2c56dc96683dlevel0_row7\" class=\"row_heading level0 row7\" >7</th>\n",
       "                        <td id=\"T_a6d8edda_909a_11ea_b215_2c56dc96683drow7_col0\" class=\"data row7 col0\" >Linear Discriminant Analysis</td>\n",
       "                        <td id=\"T_a6d8edda_909a_11ea_b215_2c56dc96683drow7_col1\" class=\"data row7 col1\" >0.8739</td>\n",
       "                        <td id=\"T_a6d8edda_909a_11ea_b215_2c56dc96683drow7_col2\" class=\"data row7 col2\" >0.8445</td>\n",
       "                        <td id=\"T_a6d8edda_909a_11ea_b215_2c56dc96683drow7_col3\" class=\"data row7 col3\" >0.5667</td>\n",
       "                        <td id=\"T_a6d8edda_909a_11ea_b215_2c56dc96683drow7_col4\" class=\"data row7 col4\" >0.8998</td>\n",
       "                        <td id=\"T_a6d8edda_909a_11ea_b215_2c56dc96683drow7_col5\" class=\"data row7 col5\" >0.6915</td>\n",
       "                        <td id=\"T_a6d8edda_909a_11ea_b215_2c56dc96683drow7_col6\" class=\"data row7 col6\" >0.6179</td>\n",
       "            </tr>\n",
       "            <tr>\n",
       "                        <th id=\"T_a6d8edda_909a_11ea_b215_2c56dc96683dlevel0_row8\" class=\"row_heading level0 row8\" >8</th>\n",
       "                        <td id=\"T_a6d8edda_909a_11ea_b215_2c56dc96683drow8_col0\" class=\"data row8 col0\" >Extra Trees Classifier</td>\n",
       "                        <td id=\"T_a6d8edda_909a_11ea_b215_2c56dc96683drow8_col1\" class=\"data row8 col1\" >0.8511</td>\n",
       "                        <td id=\"T_a6d8edda_909a_11ea_b215_2c56dc96683drow8_col2\" class=\"data row8 col2\" >0.843</td>\n",
       "                        <td id=\"T_a6d8edda_909a_11ea_b215_2c56dc96683drow8_col3\" class=\"data row8 col3\" >0.5667</td>\n",
       "                        <td id=\"T_a6d8edda_909a_11ea_b215_2c56dc96683drow8_col4\" class=\"data row8 col4\" >0.7871</td>\n",
       "                        <td id=\"T_a6d8edda_909a_11ea_b215_2c56dc96683drow8_col5\" class=\"data row8 col5\" >0.656</td>\n",
       "                        <td id=\"T_a6d8edda_909a_11ea_b215_2c56dc96683drow8_col6\" class=\"data row8 col6\" >0.5646</td>\n",
       "            </tr>\n",
       "            <tr>\n",
       "                        <th id=\"T_a6d8edda_909a_11ea_b215_2c56dc96683dlevel0_row9\" class=\"row_heading level0 row9\" >9</th>\n",
       "                        <td id=\"T_a6d8edda_909a_11ea_b215_2c56dc96683drow9_col0\" class=\"data row9 col0\" >Logistic Regression</td>\n",
       "                        <td id=\"T_a6d8edda_909a_11ea_b215_2c56dc96683drow9_col1\" class=\"data row9 col1\" >0.8092</td>\n",
       "                        <td id=\"T_a6d8edda_909a_11ea_b215_2c56dc96683drow9_col2\" class=\"data row9 col2\" >0.717</td>\n",
       "                        <td id=\"T_a6d8edda_909a_11ea_b215_2c56dc96683drow9_col3\" class=\"data row9 col3\" >0.4619</td>\n",
       "                        <td id=\"T_a6d8edda_909a_11ea_b215_2c56dc96683drow9_col4\" class=\"data row9 col4\" >0.6392</td>\n",
       "                        <td id=\"T_a6d8edda_909a_11ea_b215_2c56dc96683drow9_col5\" class=\"data row9 col5\" >0.5281</td>\n",
       "                        <td id=\"T_a6d8edda_909a_11ea_b215_2c56dc96683drow9_col6\" class=\"data row9 col6\" >0.4221</td>\n",
       "            </tr>\n",
       "            <tr>\n",
       "                        <th id=\"T_a6d8edda_909a_11ea_b215_2c56dc96683dlevel0_row10\" class=\"row_heading level0 row10\" >10</th>\n",
       "                        <td id=\"T_a6d8edda_909a_11ea_b215_2c56dc96683drow10_col0\" class=\"data row10 col0\" >K Neighbors Classifier</td>\n",
       "                        <td id=\"T_a6d8edda_909a_11ea_b215_2c56dc96683drow10_col1\" class=\"data row10 col1\" >0.8043</td>\n",
       "                        <td id=\"T_a6d8edda_909a_11ea_b215_2c56dc96683drow10_col2\" class=\"data row10 col2\" >0.6864</td>\n",
       "                        <td id=\"T_a6d8edda_909a_11ea_b215_2c56dc96683drow10_col3\" class=\"data row10 col3\" >0.2857</td>\n",
       "                        <td id=\"T_a6d8edda_909a_11ea_b215_2c56dc96683drow10_col4\" class=\"data row10 col4\" >0.8402</td>\n",
       "                        <td id=\"T_a6d8edda_909a_11ea_b215_2c56dc96683drow10_col5\" class=\"data row10 col5\" >0.4175</td>\n",
       "                        <td id=\"T_a6d8edda_909a_11ea_b215_2c56dc96683drow10_col6\" class=\"data row10 col6\" >0.3347</td>\n",
       "            </tr>\n",
       "            <tr>\n",
       "                        <th id=\"T_a6d8edda_909a_11ea_b215_2c56dc96683dlevel0_row11\" class=\"row_heading level0 row11\" >11</th>\n",
       "                        <td id=\"T_a6d8edda_909a_11ea_b215_2c56dc96683drow11_col0\" class=\"data row11 col0\" >Naive Bayes</td>\n",
       "                        <td id=\"T_a6d8edda_909a_11ea_b215_2c56dc96683drow11_col1\" class=\"data row11 col1\" >0.7993</td>\n",
       "                        <td id=\"T_a6d8edda_909a_11ea_b215_2c56dc96683drow11_col2\" class=\"data row11 col2\" >0.7941</td>\n",
       "                        <td id=\"T_a6d8edda_909a_11ea_b215_2c56dc96683drow11_col3\" class=\"data row11 col3\" >0.4905</td>\n",
       "                        <td id=\"T_a6d8edda_909a_11ea_b215_2c56dc96683drow11_col4\" class=\"data row11 col4\" >0.9056</td>\n",
       "                        <td id=\"T_a6d8edda_909a_11ea_b215_2c56dc96683drow11_col5\" class=\"data row11 col5\" >0.5832</td>\n",
       "                        <td id=\"T_a6d8edda_909a_11ea_b215_2c56dc96683drow11_col6\" class=\"data row11 col6\" >0.4789</td>\n",
       "            </tr>\n",
       "            <tr>\n",
       "                        <th id=\"T_a6d8edda_909a_11ea_b215_2c56dc96683dlevel0_row12\" class=\"row_heading level0 row12\" >12</th>\n",
       "                        <td id=\"T_a6d8edda_909a_11ea_b215_2c56dc96683drow12_col0\" class=\"data row12 col0\" >SVM - Linear Kernel</td>\n",
       "                        <td id=\"T_a6d8edda_909a_11ea_b215_2c56dc96683drow12_col1\" class=\"data row12 col1\" >0.5878</td>\n",
       "                        <td id=\"T_a6d8edda_909a_11ea_b215_2c56dc96683drow12_col2\" class=\"data row12 col2\" >0</td>\n",
       "                        <td id=\"T_a6d8edda_909a_11ea_b215_2c56dc96683drow12_col3\" class=\"data row12 col3\" >0.3952</td>\n",
       "                        <td id=\"T_a6d8edda_909a_11ea_b215_2c56dc96683drow12_col4\" class=\"data row12 col4\" >0.2434</td>\n",
       "                        <td id=\"T_a6d8edda_909a_11ea_b215_2c56dc96683drow12_col5\" class=\"data row12 col5\" >0.2561</td>\n",
       "                        <td id=\"T_a6d8edda_909a_11ea_b215_2c56dc96683drow12_col6\" class=\"data row12 col6\" >0.0418</td>\n",
       "            </tr>\n",
       "            <tr>\n",
       "                        <th id=\"T_a6d8edda_909a_11ea_b215_2c56dc96683dlevel0_row13\" class=\"row_heading level0 row13\" >13</th>\n",
       "                        <td id=\"T_a6d8edda_909a_11ea_b215_2c56dc96683drow13_col0\" class=\"data row13 col0\" >Quadratic Discriminant Analysis</td>\n",
       "                        <td id=\"T_a6d8edda_909a_11ea_b215_2c56dc96683drow13_col1\" class=\"data row13 col1\" >0.3885</td>\n",
       "                        <td id=\"T_a6d8edda_909a_11ea_b215_2c56dc96683drow13_col2\" class=\"data row13 col2\" >0.5652</td>\n",
       "                        <td id=\"T_a6d8edda_909a_11ea_b215_2c56dc96683drow13_col3\" class=\"data row13 col3\" >0.8286</td>\n",
       "                        <td id=\"T_a6d8edda_909a_11ea_b215_2c56dc96683drow13_col4\" class=\"data row13 col4\" >0.3173</td>\n",
       "                        <td id=\"T_a6d8edda_909a_11ea_b215_2c56dc96683drow13_col5\" class=\"data row13 col5\" >0.3945</td>\n",
       "                        <td id=\"T_a6d8edda_909a_11ea_b215_2c56dc96683drow13_col6\" class=\"data row13 col6\" >0.052</td>\n",
       "            </tr>\n",
       "    </tbody></table>"
      ],
      "text/plain": [
       "<pandas.io.formats.style.Styler at 0x1c3ff9f9508>"
      ]
     },
     "execution_count": 14,
     "metadata": {},
     "output_type": "execute_result"
    }
   ],
   "source": [
    "compare_models(blacklist = [ 'lightgbm' ])"
   ]
  },
  {
   "cell_type": "code",
   "execution_count": 649,
   "metadata": {},
   "outputs": [
    {
     "data": {
      "text/html": [
       "<div>\n",
       "<style scoped>\n",
       "    .dataframe tbody tr th:only-of-type {\n",
       "        vertical-align: middle;\n",
       "    }\n",
       "\n",
       "    .dataframe tbody tr th {\n",
       "        vertical-align: top;\n",
       "    }\n",
       "\n",
       "    .dataframe thead th {\n",
       "        text-align: right;\n",
       "    }\n",
       "</style>\n",
       "<table border=\"1\" class=\"dataframe\">\n",
       "  <thead>\n",
       "    <tr style=\"text-align: right;\">\n",
       "      <th></th>\n",
       "      <th>Accuracy</th>\n",
       "      <th>AUC</th>\n",
       "      <th>Recall</th>\n",
       "      <th>Prec.</th>\n",
       "      <th>F1</th>\n",
       "      <th>Kappa</th>\n",
       "    </tr>\n",
       "  </thead>\n",
       "  <tbody>\n",
       "    <tr>\n",
       "      <th>0</th>\n",
       "      <td>0.952</td>\n",
       "      <td>0.911</td>\n",
       "      <td>0.809</td>\n",
       "      <td>1.000</td>\n",
       "      <td>0.895</td>\n",
       "      <td>0.864</td>\n",
       "    </tr>\n",
       "    <tr>\n",
       "      <th>1</th>\n",
       "      <td>0.952</td>\n",
       "      <td>0.896</td>\n",
       "      <td>0.809</td>\n",
       "      <td>1.000</td>\n",
       "      <td>0.895</td>\n",
       "      <td>0.864</td>\n",
       "    </tr>\n",
       "    <tr>\n",
       "      <th>2</th>\n",
       "      <td>0.946</td>\n",
       "      <td>0.876</td>\n",
       "      <td>0.786</td>\n",
       "      <td>1.000</td>\n",
       "      <td>0.880</td>\n",
       "      <td>0.846</td>\n",
       "    </tr>\n",
       "    <tr>\n",
       "      <th>3</th>\n",
       "      <td>0.922</td>\n",
       "      <td>0.870</td>\n",
       "      <td>0.738</td>\n",
       "      <td>0.939</td>\n",
       "      <td>0.827</td>\n",
       "      <td>0.777</td>\n",
       "    </tr>\n",
       "    <tr>\n",
       "      <th>4</th>\n",
       "      <td>0.922</td>\n",
       "      <td>0.836</td>\n",
       "      <td>0.691</td>\n",
       "      <td>1.000</td>\n",
       "      <td>0.817</td>\n",
       "      <td>0.769</td>\n",
       "    </tr>\n",
       "    <tr>\n",
       "      <th>Mean</th>\n",
       "      <td>0.939</td>\n",
       "      <td>0.878</td>\n",
       "      <td>0.767</td>\n",
       "      <td>0.988</td>\n",
       "      <td>0.863</td>\n",
       "      <td>0.824</td>\n",
       "    </tr>\n",
       "    <tr>\n",
       "      <th>SD</th>\n",
       "      <td>0.014</td>\n",
       "      <td>0.025</td>\n",
       "      <td>0.046</td>\n",
       "      <td>0.024</td>\n",
       "      <td>0.034</td>\n",
       "      <td>0.042</td>\n",
       "    </tr>\n",
       "  </tbody>\n",
       "</table>\n",
       "</div>"
      ],
      "text/plain": [
       "      Accuracy   AUC  Recall  Prec.    F1  Kappa\n",
       "0        0.952 0.911   0.809  1.000 0.895  0.864\n",
       "1        0.952 0.896   0.809  1.000 0.895  0.864\n",
       "2        0.946 0.876   0.786  1.000 0.880  0.846\n",
       "3        0.922 0.870   0.738  0.939 0.827  0.777\n",
       "4        0.922 0.836   0.691  1.000 0.817  0.769\n",
       "Mean     0.939 0.878   0.767  0.988 0.863  0.824\n",
       "SD       0.014 0.025   0.046  0.024 0.034  0.042"
      ]
     },
     "metadata": {},
     "output_type": "display_data"
    }
   ],
   "source": [
    "xgboost_model = create_model(estimator='xgboost', fold=5)"
   ]
  },
  {
   "cell_type": "code",
   "execution_count": 650,
   "metadata": {},
   "outputs": [
    {
     "data": {
      "text/plain": [
       "XGBClassifier(base_score=0.5, booster='gbtree', colsample_bylevel=1,\n",
       "              colsample_bynode=1, colsample_bytree=1, gamma=0,\n",
       "              learning_rate=0.1, max_delta_step=0, max_depth=3,\n",
       "              min_child_weight=1, missing=None, n_estimators=100, n_jobs=-1,\n",
       "              nthread=None, objective='binary:logistic', random_state=42,\n",
       "              reg_alpha=0, reg_lambda=1, scale_pos_weight=1, seed=None,\n",
       "              silent=None, subsample=1, verbosity=0)"
      ]
     },
     "execution_count": 650,
     "metadata": {},
     "output_type": "execute_result"
    }
   ],
   "source": [
    "xgboost_model"
   ]
  },
  {
   "cell_type": "code",
   "execution_count": 651,
   "metadata": {},
   "outputs": [
    {
     "data": {
      "text/html": [
       "<div>\n",
       "<style scoped>\n",
       "    .dataframe tbody tr th:only-of-type {\n",
       "        vertical-align: middle;\n",
       "    }\n",
       "\n",
       "    .dataframe tbody tr th {\n",
       "        vertical-align: top;\n",
       "    }\n",
       "\n",
       "    .dataframe thead th {\n",
       "        text-align: right;\n",
       "    }\n",
       "</style>\n",
       "<table border=\"1\" class=\"dataframe\">\n",
       "  <thead>\n",
       "    <tr style=\"text-align: right;\">\n",
       "      <th></th>\n",
       "      <th>Accuracy</th>\n",
       "      <th>AUC</th>\n",
       "      <th>Recall</th>\n",
       "      <th>Prec.</th>\n",
       "      <th>F1</th>\n",
       "      <th>Kappa</th>\n",
       "    </tr>\n",
       "  </thead>\n",
       "  <tbody>\n",
       "    <tr>\n",
       "      <th>0</th>\n",
       "      <td>0.952</td>\n",
       "      <td>0.929</td>\n",
       "      <td>0.857</td>\n",
       "      <td>0.947</td>\n",
       "      <td>0.900</td>\n",
       "      <td>0.869</td>\n",
       "    </tr>\n",
       "    <tr>\n",
       "      <th>1</th>\n",
       "      <td>0.941</td>\n",
       "      <td>0.887</td>\n",
       "      <td>0.762</td>\n",
       "      <td>1.000</td>\n",
       "      <td>0.865</td>\n",
       "      <td>0.828</td>\n",
       "    </tr>\n",
       "    <tr>\n",
       "      <th>2</th>\n",
       "      <td>0.929</td>\n",
       "      <td>0.873</td>\n",
       "      <td>0.714</td>\n",
       "      <td>1.000</td>\n",
       "      <td>0.833</td>\n",
       "      <td>0.789</td>\n",
       "    </tr>\n",
       "    <tr>\n",
       "      <th>3</th>\n",
       "      <td>0.940</td>\n",
       "      <td>0.941</td>\n",
       "      <td>0.857</td>\n",
       "      <td>0.900</td>\n",
       "      <td>0.878</td>\n",
       "      <td>0.838</td>\n",
       "    </tr>\n",
       "    <tr>\n",
       "      <th>4</th>\n",
       "      <td>0.928</td>\n",
       "      <td>0.883</td>\n",
       "      <td>0.809</td>\n",
       "      <td>0.895</td>\n",
       "      <td>0.850</td>\n",
       "      <td>0.802</td>\n",
       "    </tr>\n",
       "    <tr>\n",
       "      <th>5</th>\n",
       "      <td>0.916</td>\n",
       "      <td>0.806</td>\n",
       "      <td>0.667</td>\n",
       "      <td>1.000</td>\n",
       "      <td>0.800</td>\n",
       "      <td>0.749</td>\n",
       "    </tr>\n",
       "    <tr>\n",
       "      <th>6</th>\n",
       "      <td>0.892</td>\n",
       "      <td>0.866</td>\n",
       "      <td>0.667</td>\n",
       "      <td>0.875</td>\n",
       "      <td>0.757</td>\n",
       "      <td>0.689</td>\n",
       "    </tr>\n",
       "    <tr>\n",
       "      <th>7</th>\n",
       "      <td>0.928</td>\n",
       "      <td>0.879</td>\n",
       "      <td>0.762</td>\n",
       "      <td>0.941</td>\n",
       "      <td>0.842</td>\n",
       "      <td>0.796</td>\n",
       "    </tr>\n",
       "    <tr>\n",
       "      <th>8</th>\n",
       "      <td>0.928</td>\n",
       "      <td>0.874</td>\n",
       "      <td>0.714</td>\n",
       "      <td>1.000</td>\n",
       "      <td>0.833</td>\n",
       "      <td>0.789</td>\n",
       "    </tr>\n",
       "    <tr>\n",
       "      <th>9</th>\n",
       "      <td>0.916</td>\n",
       "      <td>0.764</td>\n",
       "      <td>0.667</td>\n",
       "      <td>1.000</td>\n",
       "      <td>0.800</td>\n",
       "      <td>0.749</td>\n",
       "    </tr>\n",
       "    <tr>\n",
       "      <th>Mean</th>\n",
       "      <td>0.927</td>\n",
       "      <td>0.870</td>\n",
       "      <td>0.748</td>\n",
       "      <td>0.956</td>\n",
       "      <td>0.836</td>\n",
       "      <td>0.790</td>\n",
       "    </tr>\n",
       "    <tr>\n",
       "      <th>SD</th>\n",
       "      <td>0.016</td>\n",
       "      <td>0.049</td>\n",
       "      <td>0.071</td>\n",
       "      <td>0.048</td>\n",
       "      <td>0.040</td>\n",
       "      <td>0.049</td>\n",
       "    </tr>\n",
       "  </tbody>\n",
       "</table>\n",
       "</div>"
      ],
      "text/plain": [
       "      Accuracy   AUC  Recall  Prec.    F1  Kappa\n",
       "0        0.952 0.929   0.857  0.947 0.900  0.869\n",
       "1        0.941 0.887   0.762  1.000 0.865  0.828\n",
       "2        0.929 0.873   0.714  1.000 0.833  0.789\n",
       "3        0.940 0.941   0.857  0.900 0.878  0.838\n",
       "4        0.928 0.883   0.809  0.895 0.850  0.802\n",
       "5        0.916 0.806   0.667  1.000 0.800  0.749\n",
       "6        0.892 0.866   0.667  0.875 0.757  0.689\n",
       "7        0.928 0.879   0.762  0.941 0.842  0.796\n",
       "8        0.928 0.874   0.714  1.000 0.833  0.789\n",
       "9        0.916 0.764   0.667  1.000 0.800  0.749\n",
       "Mean     0.927 0.870   0.748  0.956 0.836  0.790\n",
       "SD       0.016 0.049   0.071  0.048 0.040  0.049"
      ]
     },
     "metadata": {},
     "output_type": "display_data"
    }
   ],
   "source": [
    "tuned_xgboost_model = tune_model(estimator='xgboost', n_iter=30)"
   ]
  },
  {
   "cell_type": "code",
   "execution_count": 750,
   "metadata": {},
   "outputs": [
    {
     "data": {
      "text/plain": [
       "XGBClassifier(base_score=0.5, booster='gbtree', colsample_bylevel=1,\n",
       "              colsample_bynode=1, colsample_bytree=0.5, gamma=0,\n",
       "              learning_rate=0.3, max_delta_step=0, max_depth=60,\n",
       "              min_child_weight=1, missing=None, n_estimators=50, n_jobs=-1,\n",
       "              nthread=None, objective='binary:logistic', random_state=42,\n",
       "              reg_alpha=0, reg_lambda=1, scale_pos_weight=1, seed=None,\n",
       "              silent=None, subsample=0.7, verbosity=0)"
      ]
     },
     "execution_count": 750,
     "metadata": {},
     "output_type": "execute_result"
    }
   ],
   "source": [
    "tuned_xgboost_model"
   ]
  },
  {
   "cell_type": "code",
   "execution_count": 652,
   "metadata": {},
   "outputs": [
    {
     "data": {
      "image/png": "[encoded data removed]",
      "text/plain": [
       "<Figure size 576x396 with 1 Axes>"
      ]
     },
     "metadata": {},
     "output_type": "display_data"
    }
   ],
   "source": [
    "plot_model(tuned_xgboost_model)"
   ]
  },
  {
   "cell_type": "markdown",
   "metadata": {},
   "source": [
    "# Conclusão\n",
    "<ul>\n",
    "<li>Feito análise inicial com seleção de variáveis e grid search e algorítimo com melhor resultado foi\n",
    "    Tree com accuracy média na base de treino 0.926 e de 94.92 na base de testes e com AUC = 0.91 </li>\n",
    "<li>Depois feita análise com AutoML(PYCARET) e selecionado o Extreme Gradient Boosting e depois de tuned\n",
    "    chegou a uma accuracy média de 0.927 e max de 95.2 um AUC médio de 0.87 e max de 0.929 </li>\n",
    "</ul>\n",
    "\n",
    "Como as performances foram similares, poderiamos aplicar qualaquer um dos dois modelos."
   ]
  },
  {
   "cell_type": "code",
   "execution_count": null,
   "metadata": {},
   "outputs": [],
   "source": []
  }
 ],
 "metadata": {
  "kernelspec": {
   "display_name": "Python 3",
   "language": "python",
   "name": "python3"
  },
  "language_info": {
   "codemirror_mode": {
    "name": "ipython",
    "version": 3
   },
   "file_extension": ".py",
   "mimetype": "text/x-python",
   "name": "python",
   "nbconvert_exporter": "python",
   "pygments_lexer": "ipython3",
   "version": "3.7.6"
  }
 },
 "nbformat": 4,
 "nbformat_minor": 4
}
